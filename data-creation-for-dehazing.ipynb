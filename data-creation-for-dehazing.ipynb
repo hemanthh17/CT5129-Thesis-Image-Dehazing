{
 "cells": [
  {
   "cell_type": "code",
   "execution_count": 1,
   "id": "69c18372",
   "metadata": {
    "execution": {
     "iopub.execute_input": "2024-06-19T12:41:16.760223Z",
     "iopub.status.busy": "2024-06-19T12:41:16.759813Z",
     "iopub.status.idle": "2024-06-19T12:41:17.761480Z",
     "shell.execute_reply": "2024-06-19T12:41:17.760190Z"
    },
    "papermill": {
     "duration": 1.013769,
     "end_time": "2024-06-19T12:41:17.764305",
     "exception": false,
     "start_time": "2024-06-19T12:41:16.750536",
     "status": "completed"
    },
    "tags": []
   },
   "outputs": [],
   "source": [
    "import pandas as pd\n",
    "import numpy as np\n",
    "import os\n",
    "from glob import glob\n",
    "from PIL import Image"
   ]
  },
  {
   "cell_type": "markdown",
   "id": "4cc66faa",
   "metadata": {
    "papermill": {
     "duration": 0.006792,
     "end_time": "2024-06-19T12:41:17.778545",
     "exception": false,
     "start_time": "2024-06-19T12:41:17.771753",
     "status": "completed"
    },
    "tags": []
   },
   "source": [
    "## From DenseHaze Dataset"
   ]
  },
  {
   "cell_type": "code",
   "execution_count": 2,
   "id": "dc7edc05",
   "metadata": {
    "execution": {
     "iopub.execute_input": "2024-06-19T12:41:17.795120Z",
     "iopub.status.busy": "2024-06-19T12:41:17.794586Z",
     "iopub.status.idle": "2024-06-19T12:41:18.662551Z",
     "shell.execute_reply": "2024-06-19T12:41:18.661106Z"
    },
    "papermill": {
     "duration": 0.879506,
     "end_time": "2024-06-19T12:41:18.665249",
     "exception": false,
     "start_time": "2024-06-19T12:41:17.785743",
     "status": "completed"
    },
    "tags": []
   },
   "outputs": [
    {
     "data": {
      "text/html": [
       "<div>\n",
       "<style scoped>\n",
       "    .dataframe tbody tr th:only-of-type {\n",
       "        vertical-align: middle;\n",
       "    }\n",
       "\n",
       "    .dataframe tbody tr th {\n",
       "        vertical-align: top;\n",
       "    }\n",
       "\n",
       "    .dataframe thead th {\n",
       "        text-align: right;\n",
       "    }\n",
       "</style>\n",
       "<table border=\"1\" class=\"dataframe\">\n",
       "  <thead>\n",
       "    <tr style=\"text-align: right;\">\n",
       "      <th></th>\n",
       "      <th>GT</th>\n",
       "      <th>Hazy</th>\n",
       "    </tr>\n",
       "  </thead>\n",
       "  <tbody>\n",
       "    <tr>\n",
       "      <th>0</th>\n",
       "      <td>/kaggle/input/dehazing-dataset-thesis/Dense_Ha...</td>\n",
       "      <td>/kaggle/input/dehazing-dataset-thesis/Dense_Ha...</td>\n",
       "    </tr>\n",
       "    <tr>\n",
       "      <th>1</th>\n",
       "      <td>/kaggle/input/dehazing-dataset-thesis/Dense_Ha...</td>\n",
       "      <td>/kaggle/input/dehazing-dataset-thesis/Dense_Ha...</td>\n",
       "    </tr>\n",
       "    <tr>\n",
       "      <th>2</th>\n",
       "      <td>/kaggle/input/dehazing-dataset-thesis/Dense_Ha...</td>\n",
       "      <td>/kaggle/input/dehazing-dataset-thesis/Dense_Ha...</td>\n",
       "    </tr>\n",
       "    <tr>\n",
       "      <th>3</th>\n",
       "      <td>/kaggle/input/dehazing-dataset-thesis/Dense_Ha...</td>\n",
       "      <td>/kaggle/input/dehazing-dataset-thesis/Dense_Ha...</td>\n",
       "    </tr>\n",
       "    <tr>\n",
       "      <th>4</th>\n",
       "      <td>/kaggle/input/dehazing-dataset-thesis/Dense_Ha...</td>\n",
       "      <td>/kaggle/input/dehazing-dataset-thesis/Dense_Ha...</td>\n",
       "    </tr>\n",
       "  </tbody>\n",
       "</table>\n",
       "</div>"
      ],
      "text/plain": [
       "                                                  GT  \\\n",
       "0  /kaggle/input/dehazing-dataset-thesis/Dense_Ha...   \n",
       "1  /kaggle/input/dehazing-dataset-thesis/Dense_Ha...   \n",
       "2  /kaggle/input/dehazing-dataset-thesis/Dense_Ha...   \n",
       "3  /kaggle/input/dehazing-dataset-thesis/Dense_Ha...   \n",
       "4  /kaggle/input/dehazing-dataset-thesis/Dense_Ha...   \n",
       "\n",
       "                                                Hazy  \n",
       "0  /kaggle/input/dehazing-dataset-thesis/Dense_Ha...  \n",
       "1  /kaggle/input/dehazing-dataset-thesis/Dense_Ha...  \n",
       "2  /kaggle/input/dehazing-dataset-thesis/Dense_Ha...  \n",
       "3  /kaggle/input/dehazing-dataset-thesis/Dense_Ha...  \n",
       "4  /kaggle/input/dehazing-dataset-thesis/Dense_Ha...  "
      ]
     },
     "execution_count": 2,
     "metadata": {},
     "output_type": "execute_result"
    }
   ],
   "source": [
    "ground_truth=list(os.listdir('/kaggle/input/dehazing-dataset-thesis/Dense_Haze_NTIRE19/GT/'))\n",
    "hazy_imgs=list(os.listdir('/kaggle/input/dehazing-dataset-thesis/Dense_Haze_NTIRE19/hazy/'))\n",
    "ground_truth.sort()\n",
    "hazy_imgs.sort()\n",
    "tabular_data_dense_haze=pd.DataFrame({'GT':list(map(lambda x:'/kaggle/input/dehazing-dataset-thesis/Dense_Haze_NTIRE19/GT/'+x,ground_truth)),\n",
    "                                     'Hazy':list(map(lambda x:'/kaggle/input/dehazing-dataset-thesis/Dense_Haze_NTIRE19/hazy/'+x,hazy_imgs))})\n",
    "tabular_data_dense_haze.head()"
   ]
  },
  {
   "cell_type": "code",
   "execution_count": 3,
   "id": "78a43874",
   "metadata": {
    "execution": {
     "iopub.execute_input": "2024-06-19T12:41:18.682068Z",
     "iopub.status.busy": "2024-06-19T12:41:18.681663Z",
     "iopub.status.idle": "2024-06-19T12:41:18.688187Z",
     "shell.execute_reply": "2024-06-19T12:41:18.687042Z"
    },
    "papermill": {
     "duration": 0.018031,
     "end_time": "2024-06-19T12:41:18.690730",
     "exception": false,
     "start_time": "2024-06-19T12:41:18.672699",
     "status": "completed"
    },
    "tags": []
   },
   "outputs": [],
   "source": [
    "train_data_dense_haze=tabular_data_dense_haze.iloc[:-10,:]\n",
    "val_data_dense_haze=tabular_data_dense_haze.iloc[-10:-5,:]\n",
    "test_data_dense_haze=tabular_data_dense_haze.iloc[-5:,:]"
   ]
  },
  {
   "cell_type": "markdown",
   "id": "d632c365",
   "metadata": {
    "papermill": {
     "duration": 0.007016,
     "end_time": "2024-06-19T12:41:18.705138",
     "exception": false,
     "start_time": "2024-06-19T12:41:18.698122",
     "status": "completed"
    },
    "tags": []
   },
   "source": [
    "## From I-Haze Dataset"
   ]
  },
  {
   "cell_type": "code",
   "execution_count": 4,
   "id": "fc703c08",
   "metadata": {
    "execution": {
     "iopub.execute_input": "2024-06-19T12:41:18.721601Z",
     "iopub.status.busy": "2024-06-19T12:41:18.721154Z",
     "iopub.status.idle": "2024-06-19T12:41:19.203160Z",
     "shell.execute_reply": "2024-06-19T12:41:19.202020Z"
    },
    "papermill": {
     "duration": 0.493129,
     "end_time": "2024-06-19T12:41:19.205622",
     "exception": false,
     "start_time": "2024-06-19T12:41:18.712493",
     "status": "completed"
    },
    "tags": []
   },
   "outputs": [
    {
     "data": {
      "text/html": [
       "<div>\n",
       "<style scoped>\n",
       "    .dataframe tbody tr th:only-of-type {\n",
       "        vertical-align: middle;\n",
       "    }\n",
       "\n",
       "    .dataframe tbody tr th {\n",
       "        vertical-align: top;\n",
       "    }\n",
       "\n",
       "    .dataframe thead th {\n",
       "        text-align: right;\n",
       "    }\n",
       "</style>\n",
       "<table border=\"1\" class=\"dataframe\">\n",
       "  <thead>\n",
       "    <tr style=\"text-align: right;\">\n",
       "      <th></th>\n",
       "      <th>GT</th>\n",
       "      <th>Hazy</th>\n",
       "    </tr>\n",
       "  </thead>\n",
       "  <tbody>\n",
       "    <tr>\n",
       "      <th>0</th>\n",
       "      <td>/kaggle/input/dehazing-dataset-thesis/I-HAZE/I...</td>\n",
       "      <td>/kaggle/input/dehazing-dataset-thesis/I-HAZE/I...</td>\n",
       "    </tr>\n",
       "    <tr>\n",
       "      <th>1</th>\n",
       "      <td>/kaggle/input/dehazing-dataset-thesis/I-HAZE/I...</td>\n",
       "      <td>/kaggle/input/dehazing-dataset-thesis/I-HAZE/I...</td>\n",
       "    </tr>\n",
       "    <tr>\n",
       "      <th>2</th>\n",
       "      <td>/kaggle/input/dehazing-dataset-thesis/I-HAZE/I...</td>\n",
       "      <td>/kaggle/input/dehazing-dataset-thesis/I-HAZE/I...</td>\n",
       "    </tr>\n",
       "    <tr>\n",
       "      <th>3</th>\n",
       "      <td>/kaggle/input/dehazing-dataset-thesis/I-HAZE/I...</td>\n",
       "      <td>/kaggle/input/dehazing-dataset-thesis/I-HAZE/I...</td>\n",
       "    </tr>\n",
       "    <tr>\n",
       "      <th>4</th>\n",
       "      <td>/kaggle/input/dehazing-dataset-thesis/I-HAZE/I...</td>\n",
       "      <td>/kaggle/input/dehazing-dataset-thesis/I-HAZE/I...</td>\n",
       "    </tr>\n",
       "  </tbody>\n",
       "</table>\n",
       "</div>"
      ],
      "text/plain": [
       "                                                  GT  \\\n",
       "0  /kaggle/input/dehazing-dataset-thesis/I-HAZE/I...   \n",
       "1  /kaggle/input/dehazing-dataset-thesis/I-HAZE/I...   \n",
       "2  /kaggle/input/dehazing-dataset-thesis/I-HAZE/I...   \n",
       "3  /kaggle/input/dehazing-dataset-thesis/I-HAZE/I...   \n",
       "4  /kaggle/input/dehazing-dataset-thesis/I-HAZE/I...   \n",
       "\n",
       "                                                Hazy  \n",
       "0  /kaggle/input/dehazing-dataset-thesis/I-HAZE/I...  \n",
       "1  /kaggle/input/dehazing-dataset-thesis/I-HAZE/I...  \n",
       "2  /kaggle/input/dehazing-dataset-thesis/I-HAZE/I...  \n",
       "3  /kaggle/input/dehazing-dataset-thesis/I-HAZE/I...  \n",
       "4  /kaggle/input/dehazing-dataset-thesis/I-HAZE/I...  "
      ]
     },
     "execution_count": 4,
     "metadata": {},
     "output_type": "execute_result"
    }
   ],
   "source": [
    "ground_truth=list(os.listdir('/kaggle/input/dehazing-dataset-thesis/I-HAZE/I-HAZY NTIRE 2018/GT'))\n",
    "hazy_imgs=list(os.listdir('/kaggle/input/dehazing-dataset-thesis/I-HAZE/I-HAZY NTIRE 2018/hazy/'))\n",
    "ground_truth.sort()\n",
    "hazy_imgs.sort()\n",
    "tabular_data_i_haze=pd.DataFrame({'GT':list(map(lambda x:'/kaggle/input/dehazing-dataset-thesis/I-HAZE/I-HAZY NTIRE 2018/GT/'+x,ground_truth)),\n",
    "                                     'Hazy':list(map(lambda x:'/kaggle/input/dehazing-dataset-thesis/I-HAZE/I-HAZY NTIRE 2018/hazy/'+x,hazy_imgs))})\n",
    "tabular_data_i_haze.head()"
   ]
  },
  {
   "cell_type": "code",
   "execution_count": 5,
   "id": "9fd99908",
   "metadata": {
    "execution": {
     "iopub.execute_input": "2024-06-19T12:41:19.222540Z",
     "iopub.status.busy": "2024-06-19T12:41:19.222161Z",
     "iopub.status.idle": "2024-06-19T12:41:19.228325Z",
     "shell.execute_reply": "2024-06-19T12:41:19.227168Z"
    },
    "papermill": {
     "duration": 0.017728,
     "end_time": "2024-06-19T12:41:19.230906",
     "exception": false,
     "start_time": "2024-06-19T12:41:19.213178",
     "status": "completed"
    },
    "tags": []
   },
   "outputs": [],
   "source": [
    "train_data_i_haze=tabular_data_i_haze.iloc[:-10,:]\n",
    "val_data_i_haze=tabular_data_i_haze.iloc[-10:-5,:]\n",
    "test_data_i_haze=tabular_data_i_haze.iloc[-5:,:]"
   ]
  },
  {
   "cell_type": "markdown",
   "id": "44299f59",
   "metadata": {
    "papermill": {
     "duration": 0.007174,
     "end_time": "2024-06-19T12:41:19.245782",
     "exception": false,
     "start_time": "2024-06-19T12:41:19.238608",
     "status": "completed"
    },
    "tags": []
   },
   "source": [
    "## For NH-Haze Dataset"
   ]
  },
  {
   "cell_type": "code",
   "execution_count": 6,
   "id": "418f38ea",
   "metadata": {
    "execution": {
     "iopub.execute_input": "2024-06-19T12:41:19.262806Z",
     "iopub.status.busy": "2024-06-19T12:41:19.262401Z",
     "iopub.status.idle": "2024-06-19T12:41:19.971901Z",
     "shell.execute_reply": "2024-06-19T12:41:19.970760Z"
    },
    "papermill": {
     "duration": 0.721097,
     "end_time": "2024-06-19T12:41:19.974490",
     "exception": false,
     "start_time": "2024-06-19T12:41:19.253393",
     "status": "completed"
    },
    "tags": []
   },
   "outputs": [
    {
     "data": {
      "text/html": [
       "<div>\n",
       "<style scoped>\n",
       "    .dataframe tbody tr th:only-of-type {\n",
       "        vertical-align: middle;\n",
       "    }\n",
       "\n",
       "    .dataframe tbody tr th {\n",
       "        vertical-align: top;\n",
       "    }\n",
       "\n",
       "    .dataframe thead th {\n",
       "        text-align: right;\n",
       "    }\n",
       "</style>\n",
       "<table border=\"1\" class=\"dataframe\">\n",
       "  <thead>\n",
       "    <tr style=\"text-align: right;\">\n",
       "      <th></th>\n",
       "      <th>GT</th>\n",
       "      <th>Hazy</th>\n",
       "    </tr>\n",
       "  </thead>\n",
       "  <tbody>\n",
       "    <tr>\n",
       "      <th>0</th>\n",
       "      <td>/kaggle/input/dehazing-dataset-thesis/NH-HAZE/...</td>\n",
       "      <td>/kaggle/input/dehazing-dataset-thesis/NH-HAZE/...</td>\n",
       "    </tr>\n",
       "    <tr>\n",
       "      <th>1</th>\n",
       "      <td>/kaggle/input/dehazing-dataset-thesis/NH-HAZE/...</td>\n",
       "      <td>/kaggle/input/dehazing-dataset-thesis/NH-HAZE/...</td>\n",
       "    </tr>\n",
       "    <tr>\n",
       "      <th>2</th>\n",
       "      <td>/kaggle/input/dehazing-dataset-thesis/NH-HAZE/...</td>\n",
       "      <td>/kaggle/input/dehazing-dataset-thesis/NH-HAZE/...</td>\n",
       "    </tr>\n",
       "    <tr>\n",
       "      <th>3</th>\n",
       "      <td>/kaggle/input/dehazing-dataset-thesis/NH-HAZE/...</td>\n",
       "      <td>/kaggle/input/dehazing-dataset-thesis/NH-HAZE/...</td>\n",
       "    </tr>\n",
       "    <tr>\n",
       "      <th>4</th>\n",
       "      <td>/kaggle/input/dehazing-dataset-thesis/NH-HAZE/...</td>\n",
       "      <td>/kaggle/input/dehazing-dataset-thesis/NH-HAZE/...</td>\n",
       "    </tr>\n",
       "  </tbody>\n",
       "</table>\n",
       "</div>"
      ],
      "text/plain": [
       "                                                  GT  \\\n",
       "0  /kaggle/input/dehazing-dataset-thesis/NH-HAZE/...   \n",
       "1  /kaggle/input/dehazing-dataset-thesis/NH-HAZE/...   \n",
       "2  /kaggle/input/dehazing-dataset-thesis/NH-HAZE/...   \n",
       "3  /kaggle/input/dehazing-dataset-thesis/NH-HAZE/...   \n",
       "4  /kaggle/input/dehazing-dataset-thesis/NH-HAZE/...   \n",
       "\n",
       "                                                Hazy  \n",
       "0  /kaggle/input/dehazing-dataset-thesis/NH-HAZE/...  \n",
       "1  /kaggle/input/dehazing-dataset-thesis/NH-HAZE/...  \n",
       "2  /kaggle/input/dehazing-dataset-thesis/NH-HAZE/...  \n",
       "3  /kaggle/input/dehazing-dataset-thesis/NH-HAZE/...  \n",
       "4  /kaggle/input/dehazing-dataset-thesis/NH-HAZE/...  "
      ]
     },
     "execution_count": 6,
     "metadata": {},
     "output_type": "execute_result"
    }
   ],
   "source": [
    "all_imgs=list(os.listdir('/kaggle/input/dehazing-dataset-thesis/NH-HAZE/NH-HAZE'))\n",
    "hazy_imgs=[img for img in all_imgs if img[3]=='h']\n",
    "clear_imgs=[img for img in all_imgs if img[3]=='G']\n",
    "clear_imgs.sort()\n",
    "hazy_imgs.sort()\n",
    "tabular_data_nh_haze=pd.DataFrame({'GT':list(map(lambda x:'/kaggle/input/dehazing-dataset-thesis/NH-HAZE/NH-HAZE/'+x,clear_imgs)),\n",
    "                                     'Hazy':list(map(lambda x:'/kaggle/input/dehazing-dataset-thesis/NH-HAZE/NH-HAZE/'+x,hazy_imgs))})\n",
    "tabular_data_nh_haze.head()"
   ]
  },
  {
   "cell_type": "code",
   "execution_count": 7,
   "id": "6a0b53f3",
   "metadata": {
    "execution": {
     "iopub.execute_input": "2024-06-19T12:41:19.993264Z",
     "iopub.status.busy": "2024-06-19T12:41:19.992876Z",
     "iopub.status.idle": "2024-06-19T12:41:20.002796Z",
     "shell.execute_reply": "2024-06-19T12:41:20.001732Z"
    },
    "papermill": {
     "duration": 0.022952,
     "end_time": "2024-06-19T12:41:20.005426",
     "exception": false,
     "start_time": "2024-06-19T12:41:19.982474",
     "status": "completed"
    },
    "tags": []
   },
   "outputs": [],
   "source": [
    "train_data_nh_haze=tabular_data_nh_haze.iloc[:-10,:]\n",
    "val_data_nh_haze=tabular_data_nh_haze.iloc[-10:-5,:]\n",
    "train_data_nh_haze2=tabular_data_nh_haze.iloc[-5:,:]\n",
    "\n",
    "test_data_nh_haze=train_data_nh_haze.iloc[-5:,:]\n",
    "train_data_nh_haze=pd.concat([train_data_nh_haze2,train_data_nh_haze.iloc[:-5]],axis=0)"
   ]
  },
  {
   "cell_type": "markdown",
   "id": "cb88c922",
   "metadata": {
    "papermill": {
     "duration": 0.007862,
     "end_time": "2024-06-19T12:41:20.021292",
     "exception": false,
     "start_time": "2024-06-19T12:41:20.013430",
     "status": "completed"
    },
    "tags": []
   },
   "source": [
    "## For O-Haze Dataset"
   ]
  },
  {
   "cell_type": "code",
   "execution_count": 8,
   "id": "34183f81",
   "metadata": {
    "execution": {
     "iopub.execute_input": "2024-06-19T12:41:20.039210Z",
     "iopub.status.busy": "2024-06-19T12:41:20.038832Z",
     "iopub.status.idle": "2024-06-19T12:41:20.891612Z",
     "shell.execute_reply": "2024-06-19T12:41:20.890431Z"
    },
    "papermill": {
     "duration": 0.865,
     "end_time": "2024-06-19T12:41:20.894383",
     "exception": false,
     "start_time": "2024-06-19T12:41:20.029383",
     "status": "completed"
    },
    "tags": []
   },
   "outputs": [
    {
     "data": {
      "text/html": [
       "<div>\n",
       "<style scoped>\n",
       "    .dataframe tbody tr th:only-of-type {\n",
       "        vertical-align: middle;\n",
       "    }\n",
       "\n",
       "    .dataframe tbody tr th {\n",
       "        vertical-align: top;\n",
       "    }\n",
       "\n",
       "    .dataframe thead th {\n",
       "        text-align: right;\n",
       "    }\n",
       "</style>\n",
       "<table border=\"1\" class=\"dataframe\">\n",
       "  <thead>\n",
       "    <tr style=\"text-align: right;\">\n",
       "      <th></th>\n",
       "      <th>GT</th>\n",
       "      <th>Hazy</th>\n",
       "    </tr>\n",
       "  </thead>\n",
       "  <tbody>\n",
       "    <tr>\n",
       "      <th>0</th>\n",
       "      <td>/kaggle/input/dehazing-dataset-thesis/O-HAZE/O...</td>\n",
       "      <td>/kaggle/input/dehazing-dataset-thesis/O-HAZE/O...</td>\n",
       "    </tr>\n",
       "    <tr>\n",
       "      <th>1</th>\n",
       "      <td>/kaggle/input/dehazing-dataset-thesis/O-HAZE/O...</td>\n",
       "      <td>/kaggle/input/dehazing-dataset-thesis/O-HAZE/O...</td>\n",
       "    </tr>\n",
       "    <tr>\n",
       "      <th>2</th>\n",
       "      <td>/kaggle/input/dehazing-dataset-thesis/O-HAZE/O...</td>\n",
       "      <td>/kaggle/input/dehazing-dataset-thesis/O-HAZE/O...</td>\n",
       "    </tr>\n",
       "    <tr>\n",
       "      <th>3</th>\n",
       "      <td>/kaggle/input/dehazing-dataset-thesis/O-HAZE/O...</td>\n",
       "      <td>/kaggle/input/dehazing-dataset-thesis/O-HAZE/O...</td>\n",
       "    </tr>\n",
       "    <tr>\n",
       "      <th>4</th>\n",
       "      <td>/kaggle/input/dehazing-dataset-thesis/O-HAZE/O...</td>\n",
       "      <td>/kaggle/input/dehazing-dataset-thesis/O-HAZE/O...</td>\n",
       "    </tr>\n",
       "  </tbody>\n",
       "</table>\n",
       "</div>"
      ],
      "text/plain": [
       "                                                  GT  \\\n",
       "0  /kaggle/input/dehazing-dataset-thesis/O-HAZE/O...   \n",
       "1  /kaggle/input/dehazing-dataset-thesis/O-HAZE/O...   \n",
       "2  /kaggle/input/dehazing-dataset-thesis/O-HAZE/O...   \n",
       "3  /kaggle/input/dehazing-dataset-thesis/O-HAZE/O...   \n",
       "4  /kaggle/input/dehazing-dataset-thesis/O-HAZE/O...   \n",
       "\n",
       "                                                Hazy  \n",
       "0  /kaggle/input/dehazing-dataset-thesis/O-HAZE/O...  \n",
       "1  /kaggle/input/dehazing-dataset-thesis/O-HAZE/O...  \n",
       "2  /kaggle/input/dehazing-dataset-thesis/O-HAZE/O...  \n",
       "3  /kaggle/input/dehazing-dataset-thesis/O-HAZE/O...  \n",
       "4  /kaggle/input/dehazing-dataset-thesis/O-HAZE/O...  "
      ]
     },
     "execution_count": 8,
     "metadata": {},
     "output_type": "execute_result"
    }
   ],
   "source": [
    "ground_truth=list(os.listdir('/kaggle/input/dehazing-dataset-thesis/O-HAZE/O-HAZY NTIRE 2018/GT'))\n",
    "hazy_imgs=list(os.listdir('/kaggle/input/dehazing-dataset-thesis/O-HAZE/O-HAZY NTIRE 2018/hazy'))\n",
    "ground_truth.sort()\n",
    "hazy_imgs.sort()\n",
    "tabular_data_o_haze=pd.DataFrame({'GT':list(map(lambda x:'/kaggle/input/dehazing-dataset-thesis/O-HAZE/O-HAZY NTIRE 2018/GT/'+x,ground_truth)),\n",
    "                                     'Hazy':list(map(lambda x:'/kaggle/input/dehazing-dataset-thesis/O-HAZE/O-HAZY NTIRE 2018/hazy/'+x,hazy_imgs))})\n",
    "tabular_data_o_haze.head()"
   ]
  },
  {
   "cell_type": "code",
   "execution_count": 9,
   "id": "470bedf6",
   "metadata": {
    "execution": {
     "iopub.execute_input": "2024-06-19T12:41:20.912977Z",
     "iopub.status.busy": "2024-06-19T12:41:20.912601Z",
     "iopub.status.idle": "2024-06-19T12:41:20.918984Z",
     "shell.execute_reply": "2024-06-19T12:41:20.917874Z"
    },
    "papermill": {
     "duration": 0.018763,
     "end_time": "2024-06-19T12:41:20.921730",
     "exception": false,
     "start_time": "2024-06-19T12:41:20.902967",
     "status": "completed"
    },
    "tags": []
   },
   "outputs": [],
   "source": [
    "train_data_o_haze=tabular_data_o_haze.iloc[:-10,:]\n",
    "val_data_o_haze=tabular_data_o_haze.iloc[-10:-5,:]\n",
    "test_data_o_haze=tabular_data_o_haze.iloc[-5:,:]"
   ]
  },
  {
   "cell_type": "markdown",
   "id": "402ea628",
   "metadata": {
    "papermill": {
     "duration": 0.008707,
     "end_time": "2024-06-19T12:41:20.938986",
     "exception": false,
     "start_time": "2024-06-19T12:41:20.930279",
     "status": "completed"
    },
    "tags": []
   },
   "source": [
    "## For RESIDE-ITS"
   ]
  },
  {
   "cell_type": "code",
   "execution_count": 10,
   "id": "5c5000f4",
   "metadata": {
    "execution": {
     "iopub.execute_input": "2024-06-19T12:41:20.957412Z",
     "iopub.status.busy": "2024-06-19T12:41:20.956999Z",
     "iopub.status.idle": "2024-06-19T12:41:27.017827Z",
     "shell.execute_reply": "2024-06-19T12:41:27.016650Z"
    },
    "papermill": {
     "duration": 6.073267,
     "end_time": "2024-06-19T12:41:27.020653",
     "exception": false,
     "start_time": "2024-06-19T12:41:20.947386",
     "status": "completed"
    },
    "tags": []
   },
   "outputs": [
    {
     "data": {
      "text/html": [
       "<div>\n",
       "<style scoped>\n",
       "    .dataframe tbody tr th:only-of-type {\n",
       "        vertical-align: middle;\n",
       "    }\n",
       "\n",
       "    .dataframe tbody tr th {\n",
       "        vertical-align: top;\n",
       "    }\n",
       "\n",
       "    .dataframe thead th {\n",
       "        text-align: right;\n",
       "    }\n",
       "</style>\n",
       "<table border=\"1\" class=\"dataframe\">\n",
       "  <thead>\n",
       "    <tr style=\"text-align: right;\">\n",
       "      <th></th>\n",
       "      <th>GT</th>\n",
       "      <th>Hazy</th>\n",
       "    </tr>\n",
       "  </thead>\n",
       "  <tbody>\n",
       "    <tr>\n",
       "      <th>0</th>\n",
       "      <td>/kaggle/input/dehazing-dataset-thesis/archive(...</td>\n",
       "      <td>/kaggle/input/dehazing-dataset-thesis/archive(...</td>\n",
       "    </tr>\n",
       "    <tr>\n",
       "      <th>1</th>\n",
       "      <td>/kaggle/input/dehazing-dataset-thesis/archive(...</td>\n",
       "      <td>/kaggle/input/dehazing-dataset-thesis/archive(...</td>\n",
       "    </tr>\n",
       "    <tr>\n",
       "      <th>2</th>\n",
       "      <td>/kaggle/input/dehazing-dataset-thesis/archive(...</td>\n",
       "      <td>/kaggle/input/dehazing-dataset-thesis/archive(...</td>\n",
       "    </tr>\n",
       "    <tr>\n",
       "      <th>3</th>\n",
       "      <td>/kaggle/input/dehazing-dataset-thesis/archive(...</td>\n",
       "      <td>/kaggle/input/dehazing-dataset-thesis/archive(...</td>\n",
       "    </tr>\n",
       "    <tr>\n",
       "      <th>4</th>\n",
       "      <td>/kaggle/input/dehazing-dataset-thesis/archive(...</td>\n",
       "      <td>/kaggle/input/dehazing-dataset-thesis/archive(...</td>\n",
       "    </tr>\n",
       "  </tbody>\n",
       "</table>\n",
       "</div>"
      ],
      "text/plain": [
       "                                                  GT  \\\n",
       "0  /kaggle/input/dehazing-dataset-thesis/archive(...   \n",
       "1  /kaggle/input/dehazing-dataset-thesis/archive(...   \n",
       "2  /kaggle/input/dehazing-dataset-thesis/archive(...   \n",
       "3  /kaggle/input/dehazing-dataset-thesis/archive(...   \n",
       "4  /kaggle/input/dehazing-dataset-thesis/archive(...   \n",
       "\n",
       "                                                Hazy  \n",
       "0  /kaggle/input/dehazing-dataset-thesis/archive(...  \n",
       "1  /kaggle/input/dehazing-dataset-thesis/archive(...  \n",
       "2  /kaggle/input/dehazing-dataset-thesis/archive(...  \n",
       "3  /kaggle/input/dehazing-dataset-thesis/archive(...  \n",
       "4  /kaggle/input/dehazing-dataset-thesis/archive(...  "
      ]
     },
     "execution_count": 10,
     "metadata": {},
     "output_type": "execute_result"
    }
   ],
   "source": [
    "hazy_imgs_reside=list(os.listdir('/kaggle/input/dehazing-dataset-thesis/archive(1)/hazy'))\n",
    "hazy_imgs_reside.sort()\n",
    "clear_imgs_reside=list(map(lambda x:x.split('_')[0]+'.png',hazy_imgs_reside))\n",
    "hazy_imgs_reside=list(map(lambda x:'/kaggle/input/dehazing-dataset-thesis/archive(1)/hazy/'+x,hazy_imgs_reside))\n",
    "clear_imgs_reside=list(map(lambda x:'/kaggle/input/dehazing-dataset-thesis/archive(1)/clear/'+x,clear_imgs_reside))\n",
    "\n",
    "tabular_data_reside=pd.DataFrame({'GT':clear_imgs_reside,\n",
    "                                     'Hazy':hazy_imgs_reside})\n",
    "tabular_data_reside.head()"
   ]
  },
  {
   "cell_type": "markdown",
   "id": "efbd3bb5",
   "metadata": {
    "papermill": {
     "duration": 0.008881,
     "end_time": "2024-06-19T12:41:27.038386",
     "exception": false,
     "start_time": "2024-06-19T12:41:27.029505",
     "status": "completed"
    },
    "tags": []
   },
   "source": [
    "## For RESIDE-SOTS"
   ]
  },
  {
   "cell_type": "code",
   "execution_count": 11,
   "id": "03cfeed7",
   "metadata": {
    "execution": {
     "iopub.execute_input": "2024-06-19T12:41:27.057794Z",
     "iopub.status.busy": "2024-06-19T12:41:27.057363Z",
     "iopub.status.idle": "2024-06-19T12:41:28.818264Z",
     "shell.execute_reply": "2024-06-19T12:41:28.817062Z"
    },
    "papermill": {
     "duration": 1.773593,
     "end_time": "2024-06-19T12:41:28.820774",
     "exception": false,
     "start_time": "2024-06-19T12:41:27.047181",
     "status": "completed"
    },
    "tags": []
   },
   "outputs": [
    {
     "data": {
      "text/html": [
       "<div>\n",
       "<style scoped>\n",
       "    .dataframe tbody tr th:only-of-type {\n",
       "        vertical-align: middle;\n",
       "    }\n",
       "\n",
       "    .dataframe tbody tr th {\n",
       "        vertical-align: top;\n",
       "    }\n",
       "\n",
       "    .dataframe thead th {\n",
       "        text-align: right;\n",
       "    }\n",
       "</style>\n",
       "<table border=\"1\" class=\"dataframe\">\n",
       "  <thead>\n",
       "    <tr style=\"text-align: right;\">\n",
       "      <th></th>\n",
       "      <th>GT</th>\n",
       "      <th>Hazy</th>\n",
       "    </tr>\n",
       "  </thead>\n",
       "  <tbody>\n",
       "    <tr>\n",
       "      <th>0</th>\n",
       "      <td>/kaggle/input/dehazing-dataset-thesis/SOTS/SOT...</td>\n",
       "      <td>/kaggle/input/dehazing-dataset-thesis/SOTS/SOT...</td>\n",
       "    </tr>\n",
       "    <tr>\n",
       "      <th>1</th>\n",
       "      <td>/kaggle/input/dehazing-dataset-thesis/SOTS/SOT...</td>\n",
       "      <td>/kaggle/input/dehazing-dataset-thesis/SOTS/SOT...</td>\n",
       "    </tr>\n",
       "    <tr>\n",
       "      <th>2</th>\n",
       "      <td>/kaggle/input/dehazing-dataset-thesis/SOTS/SOT...</td>\n",
       "      <td>/kaggle/input/dehazing-dataset-thesis/SOTS/SOT...</td>\n",
       "    </tr>\n",
       "    <tr>\n",
       "      <th>3</th>\n",
       "      <td>/kaggle/input/dehazing-dataset-thesis/SOTS/SOT...</td>\n",
       "      <td>/kaggle/input/dehazing-dataset-thesis/SOTS/SOT...</td>\n",
       "    </tr>\n",
       "    <tr>\n",
       "      <th>4</th>\n",
       "      <td>/kaggle/input/dehazing-dataset-thesis/SOTS/SOT...</td>\n",
       "      <td>/kaggle/input/dehazing-dataset-thesis/SOTS/SOT...</td>\n",
       "    </tr>\n",
       "  </tbody>\n",
       "</table>\n",
       "</div>"
      ],
      "text/plain": [
       "                                                  GT  \\\n",
       "0  /kaggle/input/dehazing-dataset-thesis/SOTS/SOT...   \n",
       "1  /kaggle/input/dehazing-dataset-thesis/SOTS/SOT...   \n",
       "2  /kaggle/input/dehazing-dataset-thesis/SOTS/SOT...   \n",
       "3  /kaggle/input/dehazing-dataset-thesis/SOTS/SOT...   \n",
       "4  /kaggle/input/dehazing-dataset-thesis/SOTS/SOT...   \n",
       "\n",
       "                                                Hazy  \n",
       "0  /kaggle/input/dehazing-dataset-thesis/SOTS/SOT...  \n",
       "1  /kaggle/input/dehazing-dataset-thesis/SOTS/SOT...  \n",
       "2  /kaggle/input/dehazing-dataset-thesis/SOTS/SOT...  \n",
       "3  /kaggle/input/dehazing-dataset-thesis/SOTS/SOT...  \n",
       "4  /kaggle/input/dehazing-dataset-thesis/SOTS/SOT...  "
      ]
     },
     "execution_count": 11,
     "metadata": {},
     "output_type": "execute_result"
    }
   ],
   "source": [
    "hazy_imgs_sots=list(os.listdir('/kaggle/input/dehazing-dataset-thesis/SOTS/SOTS/indoor/hazy'))\n",
    "hazy_imgs_sots.sort()\n",
    "clear_imgs_sots=list(map(lambda x:x.split('_')[0]+'.png',hazy_imgs_sots))\n",
    "hazy_imgs_sots=list(map(lambda x:'/kaggle/input/dehazing-dataset-thesis/SOTS/SOTS/indoor/hazy/'+x,hazy_imgs_sots))\n",
    "clear_imgs_sots=list(map(lambda x:'/kaggle/input/dehazing-dataset-thesis/SOTS/SOTS/indoor/gt/'+x,clear_imgs_sots))\n",
    "\n",
    "tabular_data_sots=pd.DataFrame({'GT':clear_imgs_sots,\n",
    "                                     'Hazy':hazy_imgs_sots})\n",
    "tabular_data_sots.head()"
   ]
  },
  {
   "cell_type": "markdown",
   "id": "46a59b4b",
   "metadata": {
    "papermill": {
     "duration": 0.009041,
     "end_time": "2024-06-19T12:41:28.838980",
     "exception": false,
     "start_time": "2024-06-19T12:41:28.829939",
     "status": "completed"
    },
    "tags": []
   },
   "source": [
    "## Merging the datasets"
   ]
  },
  {
   "cell_type": "code",
   "execution_count": 12,
   "id": "773828d4",
   "metadata": {
    "execution": {
     "iopub.execute_input": "2024-06-19T12:41:28.859034Z",
     "iopub.status.busy": "2024-06-19T12:41:28.858609Z",
     "iopub.status.idle": "2024-06-19T12:41:28.879856Z",
     "shell.execute_reply": "2024-06-19T12:41:28.878500Z"
    },
    "papermill": {
     "duration": 0.03453,
     "end_time": "2024-06-19T12:41:28.882607",
     "exception": false,
     "start_time": "2024-06-19T12:41:28.848077",
     "status": "completed"
    },
    "tags": []
   },
   "outputs": [
    {
     "data": {
      "text/html": [
       "<div>\n",
       "<style scoped>\n",
       "    .dataframe tbody tr th:only-of-type {\n",
       "        vertical-align: middle;\n",
       "    }\n",
       "\n",
       "    .dataframe tbody tr th {\n",
       "        vertical-align: top;\n",
       "    }\n",
       "\n",
       "    .dataframe thead th {\n",
       "        text-align: right;\n",
       "    }\n",
       "</style>\n",
       "<table border=\"1\" class=\"dataframe\">\n",
       "  <thead>\n",
       "    <tr style=\"text-align: right;\">\n",
       "      <th></th>\n",
       "      <th>GT</th>\n",
       "      <th>Hazy</th>\n",
       "    </tr>\n",
       "  </thead>\n",
       "  <tbody>\n",
       "    <tr>\n",
       "      <th>0</th>\n",
       "      <td>/kaggle/input/dehazing-dataset-thesis/archive(...</td>\n",
       "      <td>/kaggle/input/dehazing-dataset-thesis/archive(...</td>\n",
       "    </tr>\n",
       "    <tr>\n",
       "      <th>1</th>\n",
       "      <td>/kaggle/input/dehazing-dataset-thesis/archive(...</td>\n",
       "      <td>/kaggle/input/dehazing-dataset-thesis/archive(...</td>\n",
       "    </tr>\n",
       "    <tr>\n",
       "      <th>2</th>\n",
       "      <td>/kaggle/input/dehazing-dataset-thesis/archive(...</td>\n",
       "      <td>/kaggle/input/dehazing-dataset-thesis/archive(...</td>\n",
       "    </tr>\n",
       "    <tr>\n",
       "      <th>3</th>\n",
       "      <td>/kaggle/input/dehazing-dataset-thesis/archive(...</td>\n",
       "      <td>/kaggle/input/dehazing-dataset-thesis/archive(...</td>\n",
       "    </tr>\n",
       "    <tr>\n",
       "      <th>4</th>\n",
       "      <td>/kaggle/input/dehazing-dataset-thesis/archive(...</td>\n",
       "      <td>/kaggle/input/dehazing-dataset-thesis/archive(...</td>\n",
       "    </tr>\n",
       "  </tbody>\n",
       "</table>\n",
       "</div>"
      ],
      "text/plain": [
       "                                                  GT  \\\n",
       "0  /kaggle/input/dehazing-dataset-thesis/archive(...   \n",
       "1  /kaggle/input/dehazing-dataset-thesis/archive(...   \n",
       "2  /kaggle/input/dehazing-dataset-thesis/archive(...   \n",
       "3  /kaggle/input/dehazing-dataset-thesis/archive(...   \n",
       "4  /kaggle/input/dehazing-dataset-thesis/archive(...   \n",
       "\n",
       "                                                Hazy  \n",
       "0  /kaggle/input/dehazing-dataset-thesis/archive(...  \n",
       "1  /kaggle/input/dehazing-dataset-thesis/archive(...  \n",
       "2  /kaggle/input/dehazing-dataset-thesis/archive(...  \n",
       "3  /kaggle/input/dehazing-dataset-thesis/archive(...  \n",
       "4  /kaggle/input/dehazing-dataset-thesis/archive(...  "
      ]
     },
     "execution_count": 12,
     "metadata": {},
     "output_type": "execute_result"
    }
   ],
   "source": [
    "dehazing_dataset_train=pd.concat([tabular_data_reside,train_data_o_haze,train_data_nh_haze,\n",
    "                                    train_data_i_haze,train_data_dense_haze],axis=0)\n",
    "dehazing_dataset_train=dehazing_dataset_train.sample(frac=1,ignore_index=True)\n",
    "dehazing_dataset_train.head()"
   ]
  },
  {
   "cell_type": "code",
   "execution_count": 13,
   "id": "6b2f1bbd",
   "metadata": {
    "execution": {
     "iopub.execute_input": "2024-06-19T12:41:28.903282Z",
     "iopub.status.busy": "2024-06-19T12:41:28.902860Z",
     "iopub.status.idle": "2024-06-19T12:41:28.916092Z",
     "shell.execute_reply": "2024-06-19T12:41:28.914885Z"
    },
    "papermill": {
     "duration": 0.026556,
     "end_time": "2024-06-19T12:41:28.918510",
     "exception": false,
     "start_time": "2024-06-19T12:41:28.891954",
     "status": "completed"
    },
    "tags": []
   },
   "outputs": [
    {
     "data": {
      "text/html": [
       "<div>\n",
       "<style scoped>\n",
       "    .dataframe tbody tr th:only-of-type {\n",
       "        vertical-align: middle;\n",
       "    }\n",
       "\n",
       "    .dataframe tbody tr th {\n",
       "        vertical-align: top;\n",
       "    }\n",
       "\n",
       "    .dataframe thead th {\n",
       "        text-align: right;\n",
       "    }\n",
       "</style>\n",
       "<table border=\"1\" class=\"dataframe\">\n",
       "  <thead>\n",
       "    <tr style=\"text-align: right;\">\n",
       "      <th></th>\n",
       "      <th>GT</th>\n",
       "      <th>Hazy</th>\n",
       "    </tr>\n",
       "  </thead>\n",
       "  <tbody>\n",
       "    <tr>\n",
       "      <th>0</th>\n",
       "      <td>/kaggle/input/dehazing-dataset-thesis/O-HAZE/O...</td>\n",
       "      <td>/kaggle/input/dehazing-dataset-thesis/O-HAZE/O...</td>\n",
       "    </tr>\n",
       "    <tr>\n",
       "      <th>1</th>\n",
       "      <td>/kaggle/input/dehazing-dataset-thesis/Dense_Ha...</td>\n",
       "      <td>/kaggle/input/dehazing-dataset-thesis/Dense_Ha...</td>\n",
       "    </tr>\n",
       "    <tr>\n",
       "      <th>2</th>\n",
       "      <td>/kaggle/input/dehazing-dataset-thesis/Dense_Ha...</td>\n",
       "      <td>/kaggle/input/dehazing-dataset-thesis/Dense_Ha...</td>\n",
       "    </tr>\n",
       "    <tr>\n",
       "      <th>3</th>\n",
       "      <td>/kaggle/input/dehazing-dataset-thesis/I-HAZE/I...</td>\n",
       "      <td>/kaggle/input/dehazing-dataset-thesis/I-HAZE/I...</td>\n",
       "    </tr>\n",
       "    <tr>\n",
       "      <th>4</th>\n",
       "      <td>/kaggle/input/dehazing-dataset-thesis/NH-HAZE/...</td>\n",
       "      <td>/kaggle/input/dehazing-dataset-thesis/NH-HAZE/...</td>\n",
       "    </tr>\n",
       "  </tbody>\n",
       "</table>\n",
       "</div>"
      ],
      "text/plain": [
       "                                                  GT  \\\n",
       "0  /kaggle/input/dehazing-dataset-thesis/O-HAZE/O...   \n",
       "1  /kaggle/input/dehazing-dataset-thesis/Dense_Ha...   \n",
       "2  /kaggle/input/dehazing-dataset-thesis/Dense_Ha...   \n",
       "3  /kaggle/input/dehazing-dataset-thesis/I-HAZE/I...   \n",
       "4  /kaggle/input/dehazing-dataset-thesis/NH-HAZE/...   \n",
       "\n",
       "                                                Hazy  \n",
       "0  /kaggle/input/dehazing-dataset-thesis/O-HAZE/O...  \n",
       "1  /kaggle/input/dehazing-dataset-thesis/Dense_Ha...  \n",
       "2  /kaggle/input/dehazing-dataset-thesis/Dense_Ha...  \n",
       "3  /kaggle/input/dehazing-dataset-thesis/I-HAZE/I...  \n",
       "4  /kaggle/input/dehazing-dataset-thesis/NH-HAZE/...  "
      ]
     },
     "execution_count": 13,
     "metadata": {},
     "output_type": "execute_result"
    }
   ],
   "source": [
    "dehazing_dataset_val=pd.concat([val_data_o_haze,val_data_nh_haze,\n",
    "                                    val_data_i_haze,val_data_dense_haze],axis=0)\n",
    "dehazing_dataset_val=dehazing_dataset_val.sample(frac=1,ignore_index=True)\n",
    "dehazing_dataset_val.head()"
   ]
  },
  {
   "cell_type": "code",
   "execution_count": 14,
   "id": "8cc6b914",
   "metadata": {
    "execution": {
     "iopub.execute_input": "2024-06-19T12:41:28.939810Z",
     "iopub.status.busy": "2024-06-19T12:41:28.939386Z",
     "iopub.status.idle": "2024-06-19T12:41:28.953689Z",
     "shell.execute_reply": "2024-06-19T12:41:28.952470Z"
    },
    "papermill": {
     "duration": 0.028239,
     "end_time": "2024-06-19T12:41:28.956445",
     "exception": false,
     "start_time": "2024-06-19T12:41:28.928206",
     "status": "completed"
    },
    "tags": []
   },
   "outputs": [
    {
     "data": {
      "text/html": [
       "<div>\n",
       "<style scoped>\n",
       "    .dataframe tbody tr th:only-of-type {\n",
       "        vertical-align: middle;\n",
       "    }\n",
       "\n",
       "    .dataframe tbody tr th {\n",
       "        vertical-align: top;\n",
       "    }\n",
       "\n",
       "    .dataframe thead th {\n",
       "        text-align: right;\n",
       "    }\n",
       "</style>\n",
       "<table border=\"1\" class=\"dataframe\">\n",
       "  <thead>\n",
       "    <tr style=\"text-align: right;\">\n",
       "      <th></th>\n",
       "      <th>GT</th>\n",
       "      <th>Hazy</th>\n",
       "    </tr>\n",
       "  </thead>\n",
       "  <tbody>\n",
       "    <tr>\n",
       "      <th>0</th>\n",
       "      <td>/kaggle/input/dehazing-dataset-thesis/SOTS/SOT...</td>\n",
       "      <td>/kaggle/input/dehazing-dataset-thesis/SOTS/SOT...</td>\n",
       "    </tr>\n",
       "    <tr>\n",
       "      <th>1</th>\n",
       "      <td>/kaggle/input/dehazing-dataset-thesis/SOTS/SOT...</td>\n",
       "      <td>/kaggle/input/dehazing-dataset-thesis/SOTS/SOT...</td>\n",
       "    </tr>\n",
       "    <tr>\n",
       "      <th>2</th>\n",
       "      <td>/kaggle/input/dehazing-dataset-thesis/SOTS/SOT...</td>\n",
       "      <td>/kaggle/input/dehazing-dataset-thesis/SOTS/SOT...</td>\n",
       "    </tr>\n",
       "    <tr>\n",
       "      <th>3</th>\n",
       "      <td>/kaggle/input/dehazing-dataset-thesis/SOTS/SOT...</td>\n",
       "      <td>/kaggle/input/dehazing-dataset-thesis/SOTS/SOT...</td>\n",
       "    </tr>\n",
       "    <tr>\n",
       "      <th>4</th>\n",
       "      <td>/kaggle/input/dehazing-dataset-thesis/SOTS/SOT...</td>\n",
       "      <td>/kaggle/input/dehazing-dataset-thesis/SOTS/SOT...</td>\n",
       "    </tr>\n",
       "  </tbody>\n",
       "</table>\n",
       "</div>"
      ],
      "text/plain": [
       "                                                  GT  \\\n",
       "0  /kaggle/input/dehazing-dataset-thesis/SOTS/SOT...   \n",
       "1  /kaggle/input/dehazing-dataset-thesis/SOTS/SOT...   \n",
       "2  /kaggle/input/dehazing-dataset-thesis/SOTS/SOT...   \n",
       "3  /kaggle/input/dehazing-dataset-thesis/SOTS/SOT...   \n",
       "4  /kaggle/input/dehazing-dataset-thesis/SOTS/SOT...   \n",
       "\n",
       "                                                Hazy  \n",
       "0  /kaggle/input/dehazing-dataset-thesis/SOTS/SOT...  \n",
       "1  /kaggle/input/dehazing-dataset-thesis/SOTS/SOT...  \n",
       "2  /kaggle/input/dehazing-dataset-thesis/SOTS/SOT...  \n",
       "3  /kaggle/input/dehazing-dataset-thesis/SOTS/SOT...  \n",
       "4  /kaggle/input/dehazing-dataset-thesis/SOTS/SOT...  "
      ]
     },
     "execution_count": 14,
     "metadata": {},
     "output_type": "execute_result"
    }
   ],
   "source": [
    "dehazing_dataset_test=pd.concat([tabular_data_sots,test_data_o_haze,test_data_nh_haze,\n",
    "                                    test_data_i_haze,test_data_dense_haze],axis=0)\n",
    "dehazing_dataset_test=dehazing_dataset_test.sample(frac=1,ignore_index=True)\n",
    "dehazing_dataset_test.head()"
   ]
  },
  {
   "cell_type": "markdown",
   "id": "836495f0",
   "metadata": {
    "papermill": {
     "duration": 0.009819,
     "end_time": "2024-06-19T12:41:28.976091",
     "exception": false,
     "start_time": "2024-06-19T12:41:28.966272",
     "status": "completed"
    },
    "tags": []
   },
   "source": [
    "## Sample test data for visualization"
   ]
  },
  {
   "cell_type": "code",
   "execution_count": 15,
   "id": "ab072455",
   "metadata": {
    "execution": {
     "iopub.execute_input": "2024-06-19T12:41:28.997922Z",
     "iopub.status.busy": "2024-06-19T12:41:28.997502Z",
     "iopub.status.idle": "2024-06-19T12:41:29.098291Z",
     "shell.execute_reply": "2024-06-19T12:41:29.097117Z"
    },
    "papermill": {
     "duration": 0.115604,
     "end_time": "2024-06-19T12:41:29.101708",
     "exception": false,
     "start_time": "2024-06-19T12:41:28.986104",
     "status": "completed"
    },
    "tags": []
   },
   "outputs": [],
   "source": [
    "test_data=pd.read_csv('/kaggle/input/dehazing-dataset-thesis/dehazing_dataset_test.csv')\n",
    "test_sample_data=test_data.copy()\n",
    "test_sample_data['dataset']=list(map(lambda x:x.split('/')[4],test_sample_data.GT.values))\n",
    "sots_test=test_sample_data[test_sample_data['dataset']=='SOTS'].iloc[:1,:-1]\n",
    "i_haze_test=test_sample_data[test_sample_data['dataset']=='I-HAZE'].iloc[:1,:-1]\n",
    "o_haze_test=test_sample_data[test_sample_data['dataset']=='O-HAZE'].iloc[:1,:-1]\n",
    "nh_haze_test=test_sample_data[test_sample_data['dataset']=='NH-HAZE'].iloc[:1,:-1]\n",
    "dense_haze_test=test_sample_data[test_sample_data['dataset']=='Dense_Haze_NTIRE19'].iloc[:1,:-1]\n",
    "test_sample_dehazing=pd.concat([sots_test,i_haze_test,o_haze_test,\n",
    "                                    nh_haze_test,dense_haze_test],axis=0)"
   ]
  },
  {
   "cell_type": "markdown",
   "id": "041586c0",
   "metadata": {
    "papermill": {
     "duration": 0.009988,
     "end_time": "2024-06-19T12:41:29.122161",
     "exception": false,
     "start_time": "2024-06-19T12:41:29.112173",
     "status": "completed"
    },
    "tags": []
   },
   "source": [
    "## Exporting"
   ]
  },
  {
   "cell_type": "code",
   "execution_count": 16,
   "id": "7cacc201",
   "metadata": {
    "execution": {
     "iopub.execute_input": "2024-06-19T12:41:29.144486Z",
     "iopub.status.busy": "2024-06-19T12:41:29.144104Z",
     "iopub.status.idle": "2024-06-19T12:41:29.271516Z",
     "shell.execute_reply": "2024-06-19T12:41:29.270388Z"
    },
    "papermill": {
     "duration": 0.142085,
     "end_time": "2024-06-19T12:41:29.274372",
     "exception": false,
     "start_time": "2024-06-19T12:41:29.132287",
     "status": "completed"
    },
    "tags": []
   },
   "outputs": [],
   "source": [
    "dehazing_dataset_train.to_csv('/kaggle/working/dehaing_dataset_train.csv',index=False)\n",
    "dehazing_dataset_val.to_csv('/kaggle/working/dehazing_dataset_val.csv',index=False)\n",
    "dehazing_dataset_test.to_csv('/kaggle/working/dehazing_dataset_test.csv',index=False)\n",
    "test_sample_dehazing.to_csv('/kaggle/working/dehazing_dataset_sample_test.csv',index=False)"
   ]
  }
 ],
 "metadata": {
  "kaggle": {
   "accelerator": "none",
   "dataSources": [
    {
     "databundleVersionId": 8806936,
     "datasetId": 5101434,
     "sourceId": 8656429,
     "sourceType": "datasetVersion"
    }
   ],
   "dockerImageVersionId": 30698,
   "isGpuEnabled": false,
   "isInternetEnabled": true,
   "language": "python",
   "sourceType": "notebook"
  },
  "kernelspec": {
   "display_name": "Python 3",
   "language": "python",
   "name": "python3"
  },
  "language_info": {
   "codemirror_mode": {
    "name": "ipython",
    "version": 3
   },
   "file_extension": ".py",
   "mimetype": "text/x-python",
   "name": "python",
   "nbconvert_exporter": "python",
   "pygments_lexer": "ipython3",
   "version": "3.10.13"
  },
  "papermill": {
   "default_parameters": {},
   "duration": 16.338761,
   "end_time": "2024-06-19T12:41:29.806652",
   "environment_variables": {},
   "exception": null,
   "input_path": "__notebook__.ipynb",
   "output_path": "__notebook__.ipynb",
   "parameters": {},
   "start_time": "2024-06-19T12:41:13.467891",
   "version": "2.5.0"
  }
 },
 "nbformat": 4,
 "nbformat_minor": 5
}
