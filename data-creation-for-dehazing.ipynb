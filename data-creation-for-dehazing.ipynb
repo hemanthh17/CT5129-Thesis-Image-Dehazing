{
 "cells": [
  {
   "cell_type": "code",
   "execution_count": 1,
   "id": "73809e14",
   "metadata": {
    "execution": {
     "iopub.execute_input": "2024-06-07T17:00:09.812488Z",
     "iopub.status.busy": "2024-06-07T17:00:09.812014Z",
     "iopub.status.idle": "2024-06-07T17:00:10.954454Z",
     "shell.execute_reply": "2024-06-07T17:00:10.953235Z"
    },
    "papermill": {
     "duration": 1.157074,
     "end_time": "2024-06-07T17:00:10.958252",
     "exception": false,
     "start_time": "2024-06-07T17:00:09.801178",
     "status": "completed"
    },
    "tags": []
   },
   "outputs": [],
   "source": [
    "import pandas as pd\n",
    "import numpy as np\n",
    "import os\n",
    "from glob import glob\n",
    "from PIL import Image"
   ]
  },
  {
   "cell_type": "markdown",
   "id": "95c5ce99",
   "metadata": {
    "papermill": {
     "duration": 0.007935,
     "end_time": "2024-06-07T17:00:10.974657",
     "exception": false,
     "start_time": "2024-06-07T17:00:10.966722",
     "status": "completed"
    },
    "tags": []
   },
   "source": [
    "## From DenseHaze Dataset"
   ]
  },
  {
   "cell_type": "code",
   "execution_count": 2,
   "id": "c2f29534",
   "metadata": {
    "execution": {
     "iopub.execute_input": "2024-06-07T17:00:10.993089Z",
     "iopub.status.busy": "2024-06-07T17:00:10.992480Z",
     "iopub.status.idle": "2024-06-07T17:00:11.046571Z",
     "shell.execute_reply": "2024-06-07T17:00:11.045138Z"
    },
    "papermill": {
     "duration": 0.066592,
     "end_time": "2024-06-07T17:00:11.049567",
     "exception": false,
     "start_time": "2024-06-07T17:00:10.982975",
     "status": "completed"
    },
    "tags": []
   },
   "outputs": [
    {
     "data": {
      "text/html": [
       "<div>\n",
       "<style scoped>\n",
       "    .dataframe tbody tr th:only-of-type {\n",
       "        vertical-align: middle;\n",
       "    }\n",
       "\n",
       "    .dataframe tbody tr th {\n",
       "        vertical-align: top;\n",
       "    }\n",
       "\n",
       "    .dataframe thead th {\n",
       "        text-align: right;\n",
       "    }\n",
       "</style>\n",
       "<table border=\"1\" class=\"dataframe\">\n",
       "  <thead>\n",
       "    <tr style=\"text-align: right;\">\n",
       "      <th></th>\n",
       "      <th>GT</th>\n",
       "      <th>Hazy</th>\n",
       "    </tr>\n",
       "  </thead>\n",
       "  <tbody>\n",
       "    <tr>\n",
       "      <th>0</th>\n",
       "      <td>/kaggle/input/dehazing-dataset-thesis/Dense_Ha...</td>\n",
       "      <td>/kaggle/input/dehazing-dataset-thesis/Dense_Ha...</td>\n",
       "    </tr>\n",
       "    <tr>\n",
       "      <th>1</th>\n",
       "      <td>/kaggle/input/dehazing-dataset-thesis/Dense_Ha...</td>\n",
       "      <td>/kaggle/input/dehazing-dataset-thesis/Dense_Ha...</td>\n",
       "    </tr>\n",
       "    <tr>\n",
       "      <th>2</th>\n",
       "      <td>/kaggle/input/dehazing-dataset-thesis/Dense_Ha...</td>\n",
       "      <td>/kaggle/input/dehazing-dataset-thesis/Dense_Ha...</td>\n",
       "    </tr>\n",
       "    <tr>\n",
       "      <th>3</th>\n",
       "      <td>/kaggle/input/dehazing-dataset-thesis/Dense_Ha...</td>\n",
       "      <td>/kaggle/input/dehazing-dataset-thesis/Dense_Ha...</td>\n",
       "    </tr>\n",
       "    <tr>\n",
       "      <th>4</th>\n",
       "      <td>/kaggle/input/dehazing-dataset-thesis/Dense_Ha...</td>\n",
       "      <td>/kaggle/input/dehazing-dataset-thesis/Dense_Ha...</td>\n",
       "    </tr>\n",
       "  </tbody>\n",
       "</table>\n",
       "</div>"
      ],
      "text/plain": [
       "                                                  GT  \\\n",
       "0  /kaggle/input/dehazing-dataset-thesis/Dense_Ha...   \n",
       "1  /kaggle/input/dehazing-dataset-thesis/Dense_Ha...   \n",
       "2  /kaggle/input/dehazing-dataset-thesis/Dense_Ha...   \n",
       "3  /kaggle/input/dehazing-dataset-thesis/Dense_Ha...   \n",
       "4  /kaggle/input/dehazing-dataset-thesis/Dense_Ha...   \n",
       "\n",
       "                                                Hazy  \n",
       "0  /kaggle/input/dehazing-dataset-thesis/Dense_Ha...  \n",
       "1  /kaggle/input/dehazing-dataset-thesis/Dense_Ha...  \n",
       "2  /kaggle/input/dehazing-dataset-thesis/Dense_Ha...  \n",
       "3  /kaggle/input/dehazing-dataset-thesis/Dense_Ha...  \n",
       "4  /kaggle/input/dehazing-dataset-thesis/Dense_Ha...  "
      ]
     },
     "execution_count": 2,
     "metadata": {},
     "output_type": "execute_result"
    }
   ],
   "source": [
    "ground_truth=list(os.listdir('/kaggle/input/dehazing-dataset-thesis/Dense_Haze_NTIRE19/GT/'))\n",
    "hazy_imgs=list(os.listdir('/kaggle/input/dehazing-dataset-thesis/Dense_Haze_NTIRE19/hazy/'))\n",
    "ground_truth.sort()\n",
    "hazy_imgs.sort()\n",
    "tabular_data_dense_haze=pd.DataFrame({'GT':list(map(lambda x:'/kaggle/input/dehazing-dataset-thesis/Dense_Haze_NTIRE19/GT/'+x,ground_truth)),\n",
    "                                     'Hazy':list(map(lambda x:'/kaggle/input/dehazing-dataset-thesis/Dense_Haze_NTIRE19/hazy/'+x,hazy_imgs))})\n",
    "tabular_data_dense_haze.head()"
   ]
  },
  {
   "cell_type": "code",
   "execution_count": 3,
   "id": "36b5f4b5",
   "metadata": {
    "execution": {
     "iopub.execute_input": "2024-06-07T17:00:11.069641Z",
     "iopub.status.busy": "2024-06-07T17:00:11.069208Z",
     "iopub.status.idle": "2024-06-07T17:00:11.075405Z",
     "shell.execute_reply": "2024-06-07T17:00:11.074271Z"
    },
    "papermill": {
     "duration": 0.019886,
     "end_time": "2024-06-07T17:00:11.078086",
     "exception": false,
     "start_time": "2024-06-07T17:00:11.058200",
     "status": "completed"
    },
    "tags": []
   },
   "outputs": [],
   "source": [
    "train_data_dense_haze=tabular_data_dense_haze.iloc[:-10,:]\n",
    "val_data_dense_haze=tabular_data_dense_haze.iloc[-10:-5,:]\n",
    "test_data_dense_haze=tabular_data_dense_haze.iloc[-5:,:]"
   ]
  },
  {
   "cell_type": "markdown",
   "id": "37f1108f",
   "metadata": {
    "papermill": {
     "duration": 0.008004,
     "end_time": "2024-06-07T17:00:11.094405",
     "exception": false,
     "start_time": "2024-06-07T17:00:11.086401",
     "status": "completed"
    },
    "tags": []
   },
   "source": [
    "## From I-Haze Dataset"
   ]
  },
  {
   "cell_type": "code",
   "execution_count": 4,
   "id": "c1db1918",
   "metadata": {
    "execution": {
     "iopub.execute_input": "2024-06-07T17:00:11.112692Z",
     "iopub.status.busy": "2024-06-07T17:00:11.112238Z",
     "iopub.status.idle": "2024-06-07T17:00:11.138895Z",
     "shell.execute_reply": "2024-06-07T17:00:11.137473Z"
    },
    "papermill": {
     "duration": 0.039322,
     "end_time": "2024-06-07T17:00:11.141936",
     "exception": false,
     "start_time": "2024-06-07T17:00:11.102614",
     "status": "completed"
    },
    "tags": []
   },
   "outputs": [
    {
     "data": {
      "text/html": [
       "<div>\n",
       "<style scoped>\n",
       "    .dataframe tbody tr th:only-of-type {\n",
       "        vertical-align: middle;\n",
       "    }\n",
       "\n",
       "    .dataframe tbody tr th {\n",
       "        vertical-align: top;\n",
       "    }\n",
       "\n",
       "    .dataframe thead th {\n",
       "        text-align: right;\n",
       "    }\n",
       "</style>\n",
       "<table border=\"1\" class=\"dataframe\">\n",
       "  <thead>\n",
       "    <tr style=\"text-align: right;\">\n",
       "      <th></th>\n",
       "      <th>GT</th>\n",
       "      <th>Hazy</th>\n",
       "    </tr>\n",
       "  </thead>\n",
       "  <tbody>\n",
       "    <tr>\n",
       "      <th>0</th>\n",
       "      <td>/kaggle/input/dehazing-dataset-thesis/I-HAZE/I...</td>\n",
       "      <td>/kaggle/input/dehazing-dataset-thesis/I-HAZE/I...</td>\n",
       "    </tr>\n",
       "    <tr>\n",
       "      <th>1</th>\n",
       "      <td>/kaggle/input/dehazing-dataset-thesis/I-HAZE/I...</td>\n",
       "      <td>/kaggle/input/dehazing-dataset-thesis/I-HAZE/I...</td>\n",
       "    </tr>\n",
       "    <tr>\n",
       "      <th>2</th>\n",
       "      <td>/kaggle/input/dehazing-dataset-thesis/I-HAZE/I...</td>\n",
       "      <td>/kaggle/input/dehazing-dataset-thesis/I-HAZE/I...</td>\n",
       "    </tr>\n",
       "    <tr>\n",
       "      <th>3</th>\n",
       "      <td>/kaggle/input/dehazing-dataset-thesis/I-HAZE/I...</td>\n",
       "      <td>/kaggle/input/dehazing-dataset-thesis/I-HAZE/I...</td>\n",
       "    </tr>\n",
       "    <tr>\n",
       "      <th>4</th>\n",
       "      <td>/kaggle/input/dehazing-dataset-thesis/I-HAZE/I...</td>\n",
       "      <td>/kaggle/input/dehazing-dataset-thesis/I-HAZE/I...</td>\n",
       "    </tr>\n",
       "  </tbody>\n",
       "</table>\n",
       "</div>"
      ],
      "text/plain": [
       "                                                  GT  \\\n",
       "0  /kaggle/input/dehazing-dataset-thesis/I-HAZE/I...   \n",
       "1  /kaggle/input/dehazing-dataset-thesis/I-HAZE/I...   \n",
       "2  /kaggle/input/dehazing-dataset-thesis/I-HAZE/I...   \n",
       "3  /kaggle/input/dehazing-dataset-thesis/I-HAZE/I...   \n",
       "4  /kaggle/input/dehazing-dataset-thesis/I-HAZE/I...   \n",
       "\n",
       "                                                Hazy  \n",
       "0  /kaggle/input/dehazing-dataset-thesis/I-HAZE/I...  \n",
       "1  /kaggle/input/dehazing-dataset-thesis/I-HAZE/I...  \n",
       "2  /kaggle/input/dehazing-dataset-thesis/I-HAZE/I...  \n",
       "3  /kaggle/input/dehazing-dataset-thesis/I-HAZE/I...  \n",
       "4  /kaggle/input/dehazing-dataset-thesis/I-HAZE/I...  "
      ]
     },
     "execution_count": 4,
     "metadata": {},
     "output_type": "execute_result"
    }
   ],
   "source": [
    "ground_truth=list(os.listdir('/kaggle/input/dehazing-dataset-thesis/I-HAZE/I-HAZY NTIRE 2018/GT'))\n",
    "hazy_imgs=list(os.listdir('/kaggle/input/dehazing-dataset-thesis/I-HAZE/I-HAZY NTIRE 2018/hazy/'))\n",
    "ground_truth.sort()\n",
    "hazy_imgs.sort()\n",
    "tabular_data_i_haze=pd.DataFrame({'GT':list(map(lambda x:'/kaggle/input/dehazing-dataset-thesis/I-HAZE/I-HAZY NTIRE 2018/GT/'+x,ground_truth)),\n",
    "                                     'Hazy':list(map(lambda x:'/kaggle/input/dehazing-dataset-thesis/I-HAZE/I-HAZY NTIRE 2018/hazy/'+x,hazy_imgs))})\n",
    "tabular_data_i_haze.head()"
   ]
  },
  {
   "cell_type": "code",
   "execution_count": 5,
   "id": "2e322c4a",
   "metadata": {
    "execution": {
     "iopub.execute_input": "2024-06-07T17:00:11.160729Z",
     "iopub.status.busy": "2024-06-07T17:00:11.160278Z",
     "iopub.status.idle": "2024-06-07T17:00:11.167430Z",
     "shell.execute_reply": "2024-06-07T17:00:11.166196Z"
    },
    "papermill": {
     "duration": 0.019689,
     "end_time": "2024-06-07T17:00:11.170170",
     "exception": false,
     "start_time": "2024-06-07T17:00:11.150481",
     "status": "completed"
    },
    "tags": []
   },
   "outputs": [],
   "source": [
    "train_data_i_haze=tabular_data_i_haze.iloc[:-10,:]\n",
    "val_data_i_haze=tabular_data_i_haze.iloc[-10:-5,:]\n",
    "test_data_i_haze=tabular_data_i_haze.iloc[-5:,:]"
   ]
  },
  {
   "cell_type": "markdown",
   "id": "ea855288",
   "metadata": {
    "papermill": {
     "duration": 0.008696,
     "end_time": "2024-06-07T17:00:11.188040",
     "exception": false,
     "start_time": "2024-06-07T17:00:11.179344",
     "status": "completed"
    },
    "tags": []
   },
   "source": [
    "## For NH-Haze Dataset"
   ]
  },
  {
   "cell_type": "code",
   "execution_count": 6,
   "id": "dedacaae",
   "metadata": {
    "execution": {
     "iopub.execute_input": "2024-06-07T17:00:11.207958Z",
     "iopub.status.busy": "2024-06-07T17:00:11.207393Z",
     "iopub.status.idle": "2024-06-07T17:00:11.242410Z",
     "shell.execute_reply": "2024-06-07T17:00:11.241249Z"
    },
    "papermill": {
     "duration": 0.04812,
     "end_time": "2024-06-07T17:00:11.245381",
     "exception": false,
     "start_time": "2024-06-07T17:00:11.197261",
     "status": "completed"
    },
    "tags": []
   },
   "outputs": [
    {
     "data": {
      "text/html": [
       "<div>\n",
       "<style scoped>\n",
       "    .dataframe tbody tr th:only-of-type {\n",
       "        vertical-align: middle;\n",
       "    }\n",
       "\n",
       "    .dataframe tbody tr th {\n",
       "        vertical-align: top;\n",
       "    }\n",
       "\n",
       "    .dataframe thead th {\n",
       "        text-align: right;\n",
       "    }\n",
       "</style>\n",
       "<table border=\"1\" class=\"dataframe\">\n",
       "  <thead>\n",
       "    <tr style=\"text-align: right;\">\n",
       "      <th></th>\n",
       "      <th>GT</th>\n",
       "      <th>Hazy</th>\n",
       "    </tr>\n",
       "  </thead>\n",
       "  <tbody>\n",
       "    <tr>\n",
       "      <th>0</th>\n",
       "      <td>/kaggle/input/dehazing-dataset-thesis/NH-HAZE/...</td>\n",
       "      <td>/kaggle/input/dehazing-dataset-thesis/NH-HAZE/...</td>\n",
       "    </tr>\n",
       "    <tr>\n",
       "      <th>1</th>\n",
       "      <td>/kaggle/input/dehazing-dataset-thesis/NH-HAZE/...</td>\n",
       "      <td>/kaggle/input/dehazing-dataset-thesis/NH-HAZE/...</td>\n",
       "    </tr>\n",
       "    <tr>\n",
       "      <th>2</th>\n",
       "      <td>/kaggle/input/dehazing-dataset-thesis/NH-HAZE/...</td>\n",
       "      <td>/kaggle/input/dehazing-dataset-thesis/NH-HAZE/...</td>\n",
       "    </tr>\n",
       "    <tr>\n",
       "      <th>3</th>\n",
       "      <td>/kaggle/input/dehazing-dataset-thesis/NH-HAZE/...</td>\n",
       "      <td>/kaggle/input/dehazing-dataset-thesis/NH-HAZE/...</td>\n",
       "    </tr>\n",
       "    <tr>\n",
       "      <th>4</th>\n",
       "      <td>/kaggle/input/dehazing-dataset-thesis/NH-HAZE/...</td>\n",
       "      <td>/kaggle/input/dehazing-dataset-thesis/NH-HAZE/...</td>\n",
       "    </tr>\n",
       "  </tbody>\n",
       "</table>\n",
       "</div>"
      ],
      "text/plain": [
       "                                                  GT  \\\n",
       "0  /kaggle/input/dehazing-dataset-thesis/NH-HAZE/...   \n",
       "1  /kaggle/input/dehazing-dataset-thesis/NH-HAZE/...   \n",
       "2  /kaggle/input/dehazing-dataset-thesis/NH-HAZE/...   \n",
       "3  /kaggle/input/dehazing-dataset-thesis/NH-HAZE/...   \n",
       "4  /kaggle/input/dehazing-dataset-thesis/NH-HAZE/...   \n",
       "\n",
       "                                                Hazy  \n",
       "0  /kaggle/input/dehazing-dataset-thesis/NH-HAZE/...  \n",
       "1  /kaggle/input/dehazing-dataset-thesis/NH-HAZE/...  \n",
       "2  /kaggle/input/dehazing-dataset-thesis/NH-HAZE/...  \n",
       "3  /kaggle/input/dehazing-dataset-thesis/NH-HAZE/...  \n",
       "4  /kaggle/input/dehazing-dataset-thesis/NH-HAZE/...  "
      ]
     },
     "execution_count": 6,
     "metadata": {},
     "output_type": "execute_result"
    }
   ],
   "source": [
    "all_imgs=list(os.listdir('/kaggle/input/dehazing-dataset-thesis/NH-HAZE/NH-HAZE'))\n",
    "hazy_imgs=[img for img in all_imgs if img[3]=='h']\n",
    "clear_imgs=[img for img in all_imgs if img[3]=='G']\n",
    "clear_imgs.sort()\n",
    "hazy_imgs.sort()\n",
    "tabular_data_nh_haze=pd.DataFrame({'GT':list(map(lambda x:'/kaggle/input/dehazing-dataset-thesis/NH-HAZE/NH-HAZE/'+x,clear_imgs)),\n",
    "                                     'Hazy':list(map(lambda x:'/kaggle/input/dehazing-dataset-thesis/NH-HAZE/NH-HAZE/'+x,hazy_imgs))})\n",
    "tabular_data_nh_haze.head()"
   ]
  },
  {
   "cell_type": "code",
   "execution_count": 7,
   "id": "1192d68e",
   "metadata": {
    "execution": {
     "iopub.execute_input": "2024-06-07T17:00:11.266326Z",
     "iopub.status.busy": "2024-06-07T17:00:11.265914Z",
     "iopub.status.idle": "2024-06-07T17:00:11.274609Z",
     "shell.execute_reply": "2024-06-07T17:00:11.273352Z"
    },
    "papermill": {
     "duration": 0.021507,
     "end_time": "2024-06-07T17:00:11.277282",
     "exception": false,
     "start_time": "2024-06-07T17:00:11.255775",
     "status": "completed"
    },
    "tags": []
   },
   "outputs": [],
   "source": [
    "train_data_nh_haze=tabular_data_nh_haze.iloc[:-10,:]\n",
    "val_data_nh_haze=tabular_data_nh_haze.iloc[-10:-5,:]\n",
    "train_data_nh_haze2=tabular_data_nh_haze.iloc[-5:,:]\n",
    "\n",
    "test_data_nh_haze=train_data_nh_haze.iloc[-5:-1,0]\n",
    "train_data_nh_haze=pd.concat([train_data_nh_haze2,train_data_nh_haze.iloc[:-5]],axis=0)"
   ]
  },
  {
   "cell_type": "markdown",
   "id": "8951d591",
   "metadata": {
    "papermill": {
     "duration": 0.008944,
     "end_time": "2024-06-07T17:00:11.295649",
     "exception": false,
     "start_time": "2024-06-07T17:00:11.286705",
     "status": "completed"
    },
    "tags": []
   },
   "source": [
    "## For O-Haze Dataset"
   ]
  },
  {
   "cell_type": "code",
   "execution_count": 8,
   "id": "523a2cb1",
   "metadata": {
    "execution": {
     "iopub.execute_input": "2024-06-07T17:00:11.318726Z",
     "iopub.status.busy": "2024-06-07T17:00:11.317358Z",
     "iopub.status.idle": "2024-06-07T17:00:11.349508Z",
     "shell.execute_reply": "2024-06-07T17:00:11.348223Z"
    },
    "papermill": {
     "duration": 0.046922,
     "end_time": "2024-06-07T17:00:11.352251",
     "exception": false,
     "start_time": "2024-06-07T17:00:11.305329",
     "status": "completed"
    },
    "tags": []
   },
   "outputs": [
    {
     "data": {
      "text/html": [
       "<div>\n",
       "<style scoped>\n",
       "    .dataframe tbody tr th:only-of-type {\n",
       "        vertical-align: middle;\n",
       "    }\n",
       "\n",
       "    .dataframe tbody tr th {\n",
       "        vertical-align: top;\n",
       "    }\n",
       "\n",
       "    .dataframe thead th {\n",
       "        text-align: right;\n",
       "    }\n",
       "</style>\n",
       "<table border=\"1\" class=\"dataframe\">\n",
       "  <thead>\n",
       "    <tr style=\"text-align: right;\">\n",
       "      <th></th>\n",
       "      <th>GT</th>\n",
       "      <th>Hazy</th>\n",
       "    </tr>\n",
       "  </thead>\n",
       "  <tbody>\n",
       "    <tr>\n",
       "      <th>0</th>\n",
       "      <td>/kaggle/input/dehazing-dataset-thesis/O-HAZE/O...</td>\n",
       "      <td>/kaggle/input/dehazing-dataset-thesis/O-HAZE/O...</td>\n",
       "    </tr>\n",
       "    <tr>\n",
       "      <th>1</th>\n",
       "      <td>/kaggle/input/dehazing-dataset-thesis/O-HAZE/O...</td>\n",
       "      <td>/kaggle/input/dehazing-dataset-thesis/O-HAZE/O...</td>\n",
       "    </tr>\n",
       "    <tr>\n",
       "      <th>2</th>\n",
       "      <td>/kaggle/input/dehazing-dataset-thesis/O-HAZE/O...</td>\n",
       "      <td>/kaggle/input/dehazing-dataset-thesis/O-HAZE/O...</td>\n",
       "    </tr>\n",
       "    <tr>\n",
       "      <th>3</th>\n",
       "      <td>/kaggle/input/dehazing-dataset-thesis/O-HAZE/O...</td>\n",
       "      <td>/kaggle/input/dehazing-dataset-thesis/O-HAZE/O...</td>\n",
       "    </tr>\n",
       "    <tr>\n",
       "      <th>4</th>\n",
       "      <td>/kaggle/input/dehazing-dataset-thesis/O-HAZE/O...</td>\n",
       "      <td>/kaggle/input/dehazing-dataset-thesis/O-HAZE/O...</td>\n",
       "    </tr>\n",
       "  </tbody>\n",
       "</table>\n",
       "</div>"
      ],
      "text/plain": [
       "                                                  GT  \\\n",
       "0  /kaggle/input/dehazing-dataset-thesis/O-HAZE/O...   \n",
       "1  /kaggle/input/dehazing-dataset-thesis/O-HAZE/O...   \n",
       "2  /kaggle/input/dehazing-dataset-thesis/O-HAZE/O...   \n",
       "3  /kaggle/input/dehazing-dataset-thesis/O-HAZE/O...   \n",
       "4  /kaggle/input/dehazing-dataset-thesis/O-HAZE/O...   \n",
       "\n",
       "                                                Hazy  \n",
       "0  /kaggle/input/dehazing-dataset-thesis/O-HAZE/O...  \n",
       "1  /kaggle/input/dehazing-dataset-thesis/O-HAZE/O...  \n",
       "2  /kaggle/input/dehazing-dataset-thesis/O-HAZE/O...  \n",
       "3  /kaggle/input/dehazing-dataset-thesis/O-HAZE/O...  \n",
       "4  /kaggle/input/dehazing-dataset-thesis/O-HAZE/O...  "
      ]
     },
     "execution_count": 8,
     "metadata": {},
     "output_type": "execute_result"
    }
   ],
   "source": [
    "ground_truth=list(os.listdir('/kaggle/input/dehazing-dataset-thesis/O-HAZE/O-HAZY NTIRE 2018/GT'))\n",
    "hazy_imgs=list(os.listdir('/kaggle/input/dehazing-dataset-thesis/O-HAZE/O-HAZY NTIRE 2018/hazy'))\n",
    "ground_truth.sort()\n",
    "hazy_imgs.sort()\n",
    "tabular_data_o_haze=pd.DataFrame({'GT':list(map(lambda x:'/kaggle/input/dehazing-dataset-thesis/O-HAZE/O-HAZY NTIRE 2018/GT/'+x,ground_truth)),\n",
    "                                     'Hazy':list(map(lambda x:'/kaggle/input/dehazing-dataset-thesis/O-HAZE/O-HAZY NTIRE 2018/hazy/'+x,hazy_imgs))})\n",
    "tabular_data_o_haze.head()"
   ]
  },
  {
   "cell_type": "code",
   "execution_count": 9,
   "id": "a986c490",
   "metadata": {
    "execution": {
     "iopub.execute_input": "2024-06-07T17:00:11.373157Z",
     "iopub.status.busy": "2024-06-07T17:00:11.372744Z",
     "iopub.status.idle": "2024-06-07T17:00:11.379020Z",
     "shell.execute_reply": "2024-06-07T17:00:11.377769Z"
    },
    "papermill": {
     "duration": 0.020058,
     "end_time": "2024-06-07T17:00:11.381637",
     "exception": false,
     "start_time": "2024-06-07T17:00:11.361579",
     "status": "completed"
    },
    "tags": []
   },
   "outputs": [],
   "source": [
    "train_data_o_haze=tabular_data_o_haze.iloc[:-10,:]\n",
    "val_data_o_haze=tabular_data_o_haze.iloc[-10:-5,:]\n",
    "test_data_o_haze=tabular_data_o_haze.iloc[-5:,:]"
   ]
  },
  {
   "cell_type": "markdown",
   "id": "2cad6b67",
   "metadata": {
    "papermill": {
     "duration": 0.00869,
     "end_time": "2024-06-07T17:00:11.399512",
     "exception": false,
     "start_time": "2024-06-07T17:00:11.390822",
     "status": "completed"
    },
    "tags": []
   },
   "source": [
    "## For BeDDE Dataset"
   ]
  },
  {
   "cell_type": "code",
   "execution_count": 10,
   "id": "6d75401a",
   "metadata": {
    "execution": {
     "iopub.execute_input": "2024-06-07T17:00:11.419742Z",
     "iopub.status.busy": "2024-06-07T17:00:11.419305Z",
     "iopub.status.idle": "2024-06-07T17:00:11.675349Z",
     "shell.execute_reply": "2024-06-07T17:00:11.673817Z"
    },
    "papermill": {
     "duration": 0.269623,
     "end_time": "2024-06-07T17:00:11.678288",
     "exception": false,
     "start_time": "2024-06-07T17:00:11.408665",
     "status": "completed"
    },
    "tags": []
   },
   "outputs": [
    {
     "data": {
      "text/html": [
       "<div>\n",
       "<style scoped>\n",
       "    .dataframe tbody tr th:only-of-type {\n",
       "        vertical-align: middle;\n",
       "    }\n",
       "\n",
       "    .dataframe tbody tr th {\n",
       "        vertical-align: top;\n",
       "    }\n",
       "\n",
       "    .dataframe thead th {\n",
       "        text-align: right;\n",
       "    }\n",
       "</style>\n",
       "<table border=\"1\" class=\"dataframe\">\n",
       "  <thead>\n",
       "    <tr style=\"text-align: right;\">\n",
       "      <th></th>\n",
       "      <th>GT</th>\n",
       "      <th>Hazy</th>\n",
       "    </tr>\n",
       "  </thead>\n",
       "  <tbody>\n",
       "    <tr>\n",
       "      <th>0</th>\n",
       "      <td>/kaggle/input/dehazing-dataset-thesis/BeDDE/Be...</td>\n",
       "      <td>/kaggle/input/dehazing-dataset-thesis/BeDDE/Be...</td>\n",
       "    </tr>\n",
       "    <tr>\n",
       "      <th>1</th>\n",
       "      <td>/kaggle/input/dehazing-dataset-thesis/BeDDE/Be...</td>\n",
       "      <td>/kaggle/input/dehazing-dataset-thesis/BeDDE/Be...</td>\n",
       "    </tr>\n",
       "    <tr>\n",
       "      <th>2</th>\n",
       "      <td>/kaggle/input/dehazing-dataset-thesis/BeDDE/Be...</td>\n",
       "      <td>/kaggle/input/dehazing-dataset-thesis/BeDDE/Be...</td>\n",
       "    </tr>\n",
       "    <tr>\n",
       "      <th>3</th>\n",
       "      <td>/kaggle/input/dehazing-dataset-thesis/BeDDE/Be...</td>\n",
       "      <td>/kaggle/input/dehazing-dataset-thesis/BeDDE/Be...</td>\n",
       "    </tr>\n",
       "    <tr>\n",
       "      <th>4</th>\n",
       "      <td>/kaggle/input/dehazing-dataset-thesis/BeDDE/Be...</td>\n",
       "      <td>/kaggle/input/dehazing-dataset-thesis/BeDDE/Be...</td>\n",
       "    </tr>\n",
       "  </tbody>\n",
       "</table>\n",
       "</div>"
      ],
      "text/plain": [
       "                                                  GT  \\\n",
       "0  /kaggle/input/dehazing-dataset-thesis/BeDDE/Be...   \n",
       "1  /kaggle/input/dehazing-dataset-thesis/BeDDE/Be...   \n",
       "2  /kaggle/input/dehazing-dataset-thesis/BeDDE/Be...   \n",
       "3  /kaggle/input/dehazing-dataset-thesis/BeDDE/Be...   \n",
       "4  /kaggle/input/dehazing-dataset-thesis/BeDDE/Be...   \n",
       "\n",
       "                                                Hazy  \n",
       "0  /kaggle/input/dehazing-dataset-thesis/BeDDE/Be...  \n",
       "1  /kaggle/input/dehazing-dataset-thesis/BeDDE/Be...  \n",
       "2  /kaggle/input/dehazing-dataset-thesis/BeDDE/Be...  \n",
       "3  /kaggle/input/dehazing-dataset-thesis/BeDDE/Be...  \n",
       "4  /kaggle/input/dehazing-dataset-thesis/BeDDE/Be...  "
      ]
     },
     "execution_count": 10,
     "metadata": {},
     "output_type": "execute_result"
    }
   ],
   "source": [
    "hazy_images=list(glob('/kaggle/input/dehazing-dataset-thesis/BeDDE/BeDDE/*/fog/*'))\n",
    "hazy_images.sort()\n",
    "clear_images=list(map(lambda x:x.split('_')[0]+'_clear.png',hazy_images))\n",
    "clear_images=list(map(lambda x:'/'.join(x.split('/')[:7])+'/gt/'+x.split('/')[-1],clear_images))\n",
    "clear_images.sort()\n",
    "tabular_data_bedde=pd.DataFrame({'GT':clear_images,\n",
    "                                     'Hazy':hazy_images})\n",
    "tabular_data_bedde.head()"
   ]
  },
  {
   "cell_type": "markdown",
   "id": "7034882e",
   "metadata": {
    "papermill": {
     "duration": 0.009043,
     "end_time": "2024-06-07T17:00:11.697998",
     "exception": false,
     "start_time": "2024-06-07T17:00:11.688955",
     "status": "completed"
    },
    "tags": []
   },
   "source": [
    "## For RESIDE-ITS"
   ]
  },
  {
   "cell_type": "code",
   "execution_count": 11,
   "id": "a02199f7",
   "metadata": {
    "execution": {
     "iopub.execute_input": "2024-06-07T17:00:11.719444Z",
     "iopub.status.busy": "2024-06-07T17:00:11.719017Z",
     "iopub.status.idle": "2024-06-07T17:00:11.968285Z",
     "shell.execute_reply": "2024-06-07T17:00:11.966912Z"
    },
    "papermill": {
     "duration": 0.265448,
     "end_time": "2024-06-07T17:00:11.973100",
     "exception": false,
     "start_time": "2024-06-07T17:00:11.707652",
     "status": "completed"
    },
    "tags": []
   },
   "outputs": [
    {
     "data": {
      "text/html": [
       "<div>\n",
       "<style scoped>\n",
       "    .dataframe tbody tr th:only-of-type {\n",
       "        vertical-align: middle;\n",
       "    }\n",
       "\n",
       "    .dataframe tbody tr th {\n",
       "        vertical-align: top;\n",
       "    }\n",
       "\n",
       "    .dataframe thead th {\n",
       "        text-align: right;\n",
       "    }\n",
       "</style>\n",
       "<table border=\"1\" class=\"dataframe\">\n",
       "  <thead>\n",
       "    <tr style=\"text-align: right;\">\n",
       "      <th></th>\n",
       "      <th>GT</th>\n",
       "      <th>Hazy</th>\n",
       "    </tr>\n",
       "  </thead>\n",
       "  <tbody>\n",
       "    <tr>\n",
       "      <th>0</th>\n",
       "      <td>/kaggle/input/dehazing-dataset-thesis/archive(...</td>\n",
       "      <td>/kaggle/input/dehazing-dataset-thesis/archive(...</td>\n",
       "    </tr>\n",
       "    <tr>\n",
       "      <th>1</th>\n",
       "      <td>/kaggle/input/dehazing-dataset-thesis/archive(...</td>\n",
       "      <td>/kaggle/input/dehazing-dataset-thesis/archive(...</td>\n",
       "    </tr>\n",
       "    <tr>\n",
       "      <th>2</th>\n",
       "      <td>/kaggle/input/dehazing-dataset-thesis/archive(...</td>\n",
       "      <td>/kaggle/input/dehazing-dataset-thesis/archive(...</td>\n",
       "    </tr>\n",
       "    <tr>\n",
       "      <th>3</th>\n",
       "      <td>/kaggle/input/dehazing-dataset-thesis/archive(...</td>\n",
       "      <td>/kaggle/input/dehazing-dataset-thesis/archive(...</td>\n",
       "    </tr>\n",
       "    <tr>\n",
       "      <th>4</th>\n",
       "      <td>/kaggle/input/dehazing-dataset-thesis/archive(...</td>\n",
       "      <td>/kaggle/input/dehazing-dataset-thesis/archive(...</td>\n",
       "    </tr>\n",
       "  </tbody>\n",
       "</table>\n",
       "</div>"
      ],
      "text/plain": [
       "                                                  GT  \\\n",
       "0  /kaggle/input/dehazing-dataset-thesis/archive(...   \n",
       "1  /kaggle/input/dehazing-dataset-thesis/archive(...   \n",
       "2  /kaggle/input/dehazing-dataset-thesis/archive(...   \n",
       "3  /kaggle/input/dehazing-dataset-thesis/archive(...   \n",
       "4  /kaggle/input/dehazing-dataset-thesis/archive(...   \n",
       "\n",
       "                                                Hazy  \n",
       "0  /kaggle/input/dehazing-dataset-thesis/archive(...  \n",
       "1  /kaggle/input/dehazing-dataset-thesis/archive(...  \n",
       "2  /kaggle/input/dehazing-dataset-thesis/archive(...  \n",
       "3  /kaggle/input/dehazing-dataset-thesis/archive(...  \n",
       "4  /kaggle/input/dehazing-dataset-thesis/archive(...  "
      ]
     },
     "execution_count": 11,
     "metadata": {},
     "output_type": "execute_result"
    }
   ],
   "source": [
    "hazy_imgs_reside=list(os.listdir('/kaggle/input/dehazing-dataset-thesis/archive(1)/hazy'))\n",
    "hazy_imgs_reside.sort()\n",
    "clear_imgs_reside=list(map(lambda x:x.split('_')[0]+'.png',hazy_imgs_reside))\n",
    "hazy_imgs_reside=list(map(lambda x:'/kaggle/input/dehazing-dataset-thesis/archive(1)/hazy/'+x,hazy_imgs_reside))\n",
    "clear_imgs_reside=list(map(lambda x:'/kaggle/input/dehazing-dataset-thesis/archive(1)/clear/'+x,clear_imgs_reside))\n",
    "\n",
    "tabular_data_reside=pd.DataFrame({'GT':clear_imgs_reside,\n",
    "                                     'Hazy':hazy_imgs_reside})\n",
    "tabular_data_reside.head()"
   ]
  },
  {
   "cell_type": "markdown",
   "id": "c2ca2cc8",
   "metadata": {
    "papermill": {
     "duration": 0.009618,
     "end_time": "2024-06-07T17:00:11.994575",
     "exception": false,
     "start_time": "2024-06-07T17:00:11.984957",
     "status": "completed"
    },
    "tags": []
   },
   "source": [
    "## For RESIDE-SOTS"
   ]
  },
  {
   "cell_type": "code",
   "execution_count": 12,
   "id": "1722a71a",
   "metadata": {
    "execution": {
     "iopub.execute_input": "2024-06-07T17:00:12.017001Z",
     "iopub.status.busy": "2024-06-07T17:00:12.016604Z",
     "iopub.status.idle": "2024-06-07T17:00:12.124250Z",
     "shell.execute_reply": "2024-06-07T17:00:12.122425Z"
    },
    "papermill": {
     "duration": 0.122794,
     "end_time": "2024-06-07T17:00:12.127929",
     "exception": false,
     "start_time": "2024-06-07T17:00:12.005135",
     "status": "completed"
    },
    "tags": []
   },
   "outputs": [
    {
     "data": {
      "text/html": [
       "<div>\n",
       "<style scoped>\n",
       "    .dataframe tbody tr th:only-of-type {\n",
       "        vertical-align: middle;\n",
       "    }\n",
       "\n",
       "    .dataframe tbody tr th {\n",
       "        vertical-align: top;\n",
       "    }\n",
       "\n",
       "    .dataframe thead th {\n",
       "        text-align: right;\n",
       "    }\n",
       "</style>\n",
       "<table border=\"1\" class=\"dataframe\">\n",
       "  <thead>\n",
       "    <tr style=\"text-align: right;\">\n",
       "      <th></th>\n",
       "      <th>GT</th>\n",
       "      <th>Hazy</th>\n",
       "    </tr>\n",
       "  </thead>\n",
       "  <tbody>\n",
       "    <tr>\n",
       "      <th>0</th>\n",
       "      <td>/kaggle/input/dehazing-dataset-thesis/SOTS/SOT...</td>\n",
       "      <td>/kaggle/input/dehazing-dataset-thesis/SOTS/SOT...</td>\n",
       "    </tr>\n",
       "    <tr>\n",
       "      <th>1</th>\n",
       "      <td>/kaggle/input/dehazing-dataset-thesis/SOTS/SOT...</td>\n",
       "      <td>/kaggle/input/dehazing-dataset-thesis/SOTS/SOT...</td>\n",
       "    </tr>\n",
       "    <tr>\n",
       "      <th>2</th>\n",
       "      <td>/kaggle/input/dehazing-dataset-thesis/SOTS/SOT...</td>\n",
       "      <td>/kaggle/input/dehazing-dataset-thesis/SOTS/SOT...</td>\n",
       "    </tr>\n",
       "    <tr>\n",
       "      <th>3</th>\n",
       "      <td>/kaggle/input/dehazing-dataset-thesis/SOTS/SOT...</td>\n",
       "      <td>/kaggle/input/dehazing-dataset-thesis/SOTS/SOT...</td>\n",
       "    </tr>\n",
       "    <tr>\n",
       "      <th>4</th>\n",
       "      <td>/kaggle/input/dehazing-dataset-thesis/SOTS/SOT...</td>\n",
       "      <td>/kaggle/input/dehazing-dataset-thesis/SOTS/SOT...</td>\n",
       "    </tr>\n",
       "  </tbody>\n",
       "</table>\n",
       "</div>"
      ],
      "text/plain": [
       "                                                  GT  \\\n",
       "0  /kaggle/input/dehazing-dataset-thesis/SOTS/SOT...   \n",
       "1  /kaggle/input/dehazing-dataset-thesis/SOTS/SOT...   \n",
       "2  /kaggle/input/dehazing-dataset-thesis/SOTS/SOT...   \n",
       "3  /kaggle/input/dehazing-dataset-thesis/SOTS/SOT...   \n",
       "4  /kaggle/input/dehazing-dataset-thesis/SOTS/SOT...   \n",
       "\n",
       "                                                Hazy  \n",
       "0  /kaggle/input/dehazing-dataset-thesis/SOTS/SOT...  \n",
       "1  /kaggle/input/dehazing-dataset-thesis/SOTS/SOT...  \n",
       "2  /kaggle/input/dehazing-dataset-thesis/SOTS/SOT...  \n",
       "3  /kaggle/input/dehazing-dataset-thesis/SOTS/SOT...  \n",
       "4  /kaggle/input/dehazing-dataset-thesis/SOTS/SOT...  "
      ]
     },
     "execution_count": 12,
     "metadata": {},
     "output_type": "execute_result"
    }
   ],
   "source": [
    "hazy_imgs_sots=list(os.listdir('/kaggle/input/dehazing-dataset-thesis/SOTS/SOTS/indoor/hazy'))\n",
    "hazy_imgs_sots.sort()\n",
    "clear_imgs_sots=list(map(lambda x:x.split('_')[0]+'.png',hazy_imgs_sots))\n",
    "hazy_imgs_sots=list(map(lambda x:'/kaggle/input/dehazing-dataset-thesis/SOTS/SOTS/indoor/hazy/'+x,hazy_imgs_sots))\n",
    "clear_imgs_sots=list(map(lambda x:'/kaggle/input/dehazing-dataset-thesis/SOTS/SOTS/indoor/gt/'+x,clear_imgs_sots))\n",
    "\n",
    "tabular_data_sots=pd.DataFrame({'GT':clear_imgs_sots,\n",
    "                                     'Hazy':hazy_imgs_sots})\n",
    "tabular_data_sots.head()"
   ]
  },
  {
   "cell_type": "markdown",
   "id": "5d590647",
   "metadata": {
    "papermill": {
     "duration": 0.010336,
     "end_time": "2024-06-07T17:00:12.148722",
     "exception": false,
     "start_time": "2024-06-07T17:00:12.138386",
     "status": "completed"
    },
    "tags": []
   },
   "source": [
    "## Merging the datasets"
   ]
  },
  {
   "cell_type": "code",
   "execution_count": 13,
   "id": "3f5dd03f",
   "metadata": {
    "execution": {
     "iopub.execute_input": "2024-06-07T17:00:12.170703Z",
     "iopub.status.busy": "2024-06-07T17:00:12.170193Z",
     "iopub.status.idle": "2024-06-07T17:00:12.196350Z",
     "shell.execute_reply": "2024-06-07T17:00:12.194647Z"
    },
    "papermill": {
     "duration": 0.041254,
     "end_time": "2024-06-07T17:00:12.199950",
     "exception": false,
     "start_time": "2024-06-07T17:00:12.158696",
     "status": "completed"
    },
    "tags": []
   },
   "outputs": [
    {
     "data": {
      "text/html": [
       "<div>\n",
       "<style scoped>\n",
       "    .dataframe tbody tr th:only-of-type {\n",
       "        vertical-align: middle;\n",
       "    }\n",
       "\n",
       "    .dataframe tbody tr th {\n",
       "        vertical-align: top;\n",
       "    }\n",
       "\n",
       "    .dataframe thead th {\n",
       "        text-align: right;\n",
       "    }\n",
       "</style>\n",
       "<table border=\"1\" class=\"dataframe\">\n",
       "  <thead>\n",
       "    <tr style=\"text-align: right;\">\n",
       "      <th></th>\n",
       "      <th>GT</th>\n",
       "      <th>Hazy</th>\n",
       "    </tr>\n",
       "  </thead>\n",
       "  <tbody>\n",
       "    <tr>\n",
       "      <th>0</th>\n",
       "      <td>/kaggle/input/dehazing-dataset-thesis/archive(...</td>\n",
       "      <td>/kaggle/input/dehazing-dataset-thesis/archive(...</td>\n",
       "    </tr>\n",
       "    <tr>\n",
       "      <th>1</th>\n",
       "      <td>/kaggle/input/dehazing-dataset-thesis/archive(...</td>\n",
       "      <td>/kaggle/input/dehazing-dataset-thesis/archive(...</td>\n",
       "    </tr>\n",
       "    <tr>\n",
       "      <th>2</th>\n",
       "      <td>/kaggle/input/dehazing-dataset-thesis/archive(...</td>\n",
       "      <td>/kaggle/input/dehazing-dataset-thesis/archive(...</td>\n",
       "    </tr>\n",
       "    <tr>\n",
       "      <th>3</th>\n",
       "      <td>/kaggle/input/dehazing-dataset-thesis/archive(...</td>\n",
       "      <td>/kaggle/input/dehazing-dataset-thesis/archive(...</td>\n",
       "    </tr>\n",
       "    <tr>\n",
       "      <th>4</th>\n",
       "      <td>/kaggle/input/dehazing-dataset-thesis/archive(...</td>\n",
       "      <td>/kaggle/input/dehazing-dataset-thesis/archive(...</td>\n",
       "    </tr>\n",
       "  </tbody>\n",
       "</table>\n",
       "</div>"
      ],
      "text/plain": [
       "                                                  GT  \\\n",
       "0  /kaggle/input/dehazing-dataset-thesis/archive(...   \n",
       "1  /kaggle/input/dehazing-dataset-thesis/archive(...   \n",
       "2  /kaggle/input/dehazing-dataset-thesis/archive(...   \n",
       "3  /kaggle/input/dehazing-dataset-thesis/archive(...   \n",
       "4  /kaggle/input/dehazing-dataset-thesis/archive(...   \n",
       "\n",
       "                                                Hazy  \n",
       "0  /kaggle/input/dehazing-dataset-thesis/archive(...  \n",
       "1  /kaggle/input/dehazing-dataset-thesis/archive(...  \n",
       "2  /kaggle/input/dehazing-dataset-thesis/archive(...  \n",
       "3  /kaggle/input/dehazing-dataset-thesis/archive(...  \n",
       "4  /kaggle/input/dehazing-dataset-thesis/archive(...  "
      ]
     },
     "execution_count": 13,
     "metadata": {},
     "output_type": "execute_result"
    }
   ],
   "source": [
    "dehazing_dataset_train=pd.concat([tabular_data_reside,tabular_data_bedde,train_data_o_haze,train_data_nh_haze,\n",
    "                                    train_data_i_haze,train_data_dense_haze],axis=0)\n",
    "dehazing_dataset_train=dehazing_dataset_train.sample(frac=1,ignore_index=True)\n",
    "dehazing_dataset_train.head()"
   ]
  },
  {
   "cell_type": "code",
   "execution_count": 14,
   "id": "c5daa0be",
   "metadata": {
    "execution": {
     "iopub.execute_input": "2024-06-07T17:00:12.225904Z",
     "iopub.status.busy": "2024-06-07T17:00:12.225325Z",
     "iopub.status.idle": "2024-06-07T17:00:12.242315Z",
     "shell.execute_reply": "2024-06-07T17:00:12.240652Z"
    },
    "papermill": {
     "duration": 0.034776,
     "end_time": "2024-06-07T17:00:12.245360",
     "exception": false,
     "start_time": "2024-06-07T17:00:12.210584",
     "status": "completed"
    },
    "tags": []
   },
   "outputs": [
    {
     "data": {
      "text/html": [
       "<div>\n",
       "<style scoped>\n",
       "    .dataframe tbody tr th:only-of-type {\n",
       "        vertical-align: middle;\n",
       "    }\n",
       "\n",
       "    .dataframe tbody tr th {\n",
       "        vertical-align: top;\n",
       "    }\n",
       "\n",
       "    .dataframe thead th {\n",
       "        text-align: right;\n",
       "    }\n",
       "</style>\n",
       "<table border=\"1\" class=\"dataframe\">\n",
       "  <thead>\n",
       "    <tr style=\"text-align: right;\">\n",
       "      <th></th>\n",
       "      <th>GT</th>\n",
       "      <th>Hazy</th>\n",
       "    </tr>\n",
       "  </thead>\n",
       "  <tbody>\n",
       "    <tr>\n",
       "      <th>0</th>\n",
       "      <td>/kaggle/input/dehazing-dataset-thesis/I-HAZE/I...</td>\n",
       "      <td>/kaggle/input/dehazing-dataset-thesis/I-HAZE/I...</td>\n",
       "    </tr>\n",
       "    <tr>\n",
       "      <th>1</th>\n",
       "      <td>/kaggle/input/dehazing-dataset-thesis/NH-HAZE/...</td>\n",
       "      <td>/kaggle/input/dehazing-dataset-thesis/NH-HAZE/...</td>\n",
       "    </tr>\n",
       "    <tr>\n",
       "      <th>2</th>\n",
       "      <td>/kaggle/input/dehazing-dataset-thesis/O-HAZE/O...</td>\n",
       "      <td>/kaggle/input/dehazing-dataset-thesis/O-HAZE/O...</td>\n",
       "    </tr>\n",
       "    <tr>\n",
       "      <th>3</th>\n",
       "      <td>/kaggle/input/dehazing-dataset-thesis/O-HAZE/O...</td>\n",
       "      <td>/kaggle/input/dehazing-dataset-thesis/O-HAZE/O...</td>\n",
       "    </tr>\n",
       "    <tr>\n",
       "      <th>4</th>\n",
       "      <td>/kaggle/input/dehazing-dataset-thesis/NH-HAZE/...</td>\n",
       "      <td>/kaggle/input/dehazing-dataset-thesis/NH-HAZE/...</td>\n",
       "    </tr>\n",
       "  </tbody>\n",
       "</table>\n",
       "</div>"
      ],
      "text/plain": [
       "                                                  GT  \\\n",
       "0  /kaggle/input/dehazing-dataset-thesis/I-HAZE/I...   \n",
       "1  /kaggle/input/dehazing-dataset-thesis/NH-HAZE/...   \n",
       "2  /kaggle/input/dehazing-dataset-thesis/O-HAZE/O...   \n",
       "3  /kaggle/input/dehazing-dataset-thesis/O-HAZE/O...   \n",
       "4  /kaggle/input/dehazing-dataset-thesis/NH-HAZE/...   \n",
       "\n",
       "                                                Hazy  \n",
       "0  /kaggle/input/dehazing-dataset-thesis/I-HAZE/I...  \n",
       "1  /kaggle/input/dehazing-dataset-thesis/NH-HAZE/...  \n",
       "2  /kaggle/input/dehazing-dataset-thesis/O-HAZE/O...  \n",
       "3  /kaggle/input/dehazing-dataset-thesis/O-HAZE/O...  \n",
       "4  /kaggle/input/dehazing-dataset-thesis/NH-HAZE/...  "
      ]
     },
     "execution_count": 14,
     "metadata": {},
     "output_type": "execute_result"
    }
   ],
   "source": [
    "dehazing_dataset_val=pd.concat([val_data_o_haze,val_data_nh_haze,\n",
    "                                    val_data_i_haze,val_data_dense_haze],axis=0)\n",
    "dehazing_dataset_val=dehazing_dataset_val.sample(frac=1,ignore_index=True)\n",
    "dehazing_dataset_val.head()"
   ]
  },
  {
   "cell_type": "code",
   "execution_count": 15,
   "id": "5424db04",
   "metadata": {
    "execution": {
     "iopub.execute_input": "2024-06-07T17:00:12.269745Z",
     "iopub.status.busy": "2024-06-07T17:00:12.269182Z",
     "iopub.status.idle": "2024-06-07T17:00:12.294172Z",
     "shell.execute_reply": "2024-06-07T17:00:12.292051Z"
    },
    "papermill": {
     "duration": 0.041286,
     "end_time": "2024-06-07T17:00:12.297062",
     "exception": false,
     "start_time": "2024-06-07T17:00:12.255776",
     "status": "completed"
    },
    "tags": []
   },
   "outputs": [
    {
     "data": {
      "text/html": [
       "<div>\n",
       "<style scoped>\n",
       "    .dataframe tbody tr th:only-of-type {\n",
       "        vertical-align: middle;\n",
       "    }\n",
       "\n",
       "    .dataframe tbody tr th {\n",
       "        vertical-align: top;\n",
       "    }\n",
       "\n",
       "    .dataframe thead th {\n",
       "        text-align: right;\n",
       "    }\n",
       "</style>\n",
       "<table border=\"1\" class=\"dataframe\">\n",
       "  <thead>\n",
       "    <tr style=\"text-align: right;\">\n",
       "      <th></th>\n",
       "      <th>GT</th>\n",
       "      <th>Hazy</th>\n",
       "    </tr>\n",
       "  </thead>\n",
       "  <tbody>\n",
       "    <tr>\n",
       "      <th>0</th>\n",
       "      <td>/kaggle/input/dehazing-dataset-thesis/SOTS/SOT...</td>\n",
       "      <td>/kaggle/input/dehazing-dataset-thesis/SOTS/SOT...</td>\n",
       "    </tr>\n",
       "    <tr>\n",
       "      <th>1</th>\n",
       "      <td>/kaggle/input/dehazing-dataset-thesis/SOTS/SOT...</td>\n",
       "      <td>/kaggle/input/dehazing-dataset-thesis/SOTS/SOT...</td>\n",
       "    </tr>\n",
       "    <tr>\n",
       "      <th>2</th>\n",
       "      <td>/kaggle/input/dehazing-dataset-thesis/SOTS/SOT...</td>\n",
       "      <td>/kaggle/input/dehazing-dataset-thesis/SOTS/SOT...</td>\n",
       "    </tr>\n",
       "    <tr>\n",
       "      <th>3</th>\n",
       "      <td>/kaggle/input/dehazing-dataset-thesis/SOTS/SOT...</td>\n",
       "      <td>/kaggle/input/dehazing-dataset-thesis/SOTS/SOT...</td>\n",
       "    </tr>\n",
       "    <tr>\n",
       "      <th>4</th>\n",
       "      <td>/kaggle/input/dehazing-dataset-thesis/SOTS/SOT...</td>\n",
       "      <td>/kaggle/input/dehazing-dataset-thesis/SOTS/SOT...</td>\n",
       "    </tr>\n",
       "  </tbody>\n",
       "</table>\n",
       "</div>"
      ],
      "text/plain": [
       "                                                  GT  \\\n",
       "0  /kaggle/input/dehazing-dataset-thesis/SOTS/SOT...   \n",
       "1  /kaggle/input/dehazing-dataset-thesis/SOTS/SOT...   \n",
       "2  /kaggle/input/dehazing-dataset-thesis/SOTS/SOT...   \n",
       "3  /kaggle/input/dehazing-dataset-thesis/SOTS/SOT...   \n",
       "4  /kaggle/input/dehazing-dataset-thesis/SOTS/SOT...   \n",
       "\n",
       "                                                Hazy  \n",
       "0  /kaggle/input/dehazing-dataset-thesis/SOTS/SOT...  \n",
       "1  /kaggle/input/dehazing-dataset-thesis/SOTS/SOT...  \n",
       "2  /kaggle/input/dehazing-dataset-thesis/SOTS/SOT...  \n",
       "3  /kaggle/input/dehazing-dataset-thesis/SOTS/SOT...  \n",
       "4  /kaggle/input/dehazing-dataset-thesis/SOTS/SOT...  "
      ]
     },
     "execution_count": 15,
     "metadata": {},
     "output_type": "execute_result"
    }
   ],
   "source": [
    "dehazing_dataset_test=pd.concat([tabular_data_sots,test_data_o_haze,test_data_nh_haze,\n",
    "                                    test_data_i_haze,test_data_dense_haze],axis=0)\n",
    "dehazing_dataset_test=dehazing_dataset_test.sample(frac=1,ignore_index=True)\n",
    "dehazing_dataset_test.head()"
   ]
  },
  {
   "cell_type": "markdown",
   "id": "a21f9cd4",
   "metadata": {
    "papermill": {
     "duration": 0.010628,
     "end_time": "2024-06-07T17:00:12.318703",
     "exception": false,
     "start_time": "2024-06-07T17:00:12.308075",
     "status": "completed"
    },
    "tags": []
   },
   "source": [
    "## Exporting"
   ]
  },
  {
   "cell_type": "code",
   "execution_count": 16,
   "id": "cd18e578",
   "metadata": {
    "execution": {
     "iopub.execute_input": "2024-06-07T17:00:12.345585Z",
     "iopub.status.busy": "2024-06-07T17:00:12.343642Z",
     "iopub.status.idle": "2024-06-07T17:00:12.488483Z",
     "shell.execute_reply": "2024-06-07T17:00:12.486853Z"
    },
    "papermill": {
     "duration": 0.161804,
     "end_time": "2024-06-07T17:00:12.492101",
     "exception": false,
     "start_time": "2024-06-07T17:00:12.330297",
     "status": "completed"
    },
    "tags": []
   },
   "outputs": [],
   "source": [
    "dehazing_dataset_train.to_csv('/kaggle/working/dehaing_dataset_train.csv',index=False)\n",
    "dehazing_dataset_val.to_csv('/kaggle/working/dehazing_dataset_val.csv',index=False)\n",
    "dehazing_dataset_test.to_csv('/kaggle/working/dehazing_dataset_test.csv',index=False)"
   ]
  }
 ],
 "metadata": {
  "kaggle": {
   "accelerator": "none",
   "dataSources": [
    {
     "databundleVersionId": 8769925,
     "datasetId": 5101434,
     "sourceId": 8621796,
     "sourceType": "datasetVersion"
    }
   ],
   "dockerImageVersionId": 30698,
   "isGpuEnabled": false,
   "isInternetEnabled": true,
   "language": "python",
   "sourceType": "notebook"
  },
  "kernelspec": {
   "display_name": "Python 3",
   "language": "python",
   "name": "python3"
  },
  "language_info": {
   "codemirror_mode": {
    "name": "ipython",
    "version": 3
   },
   "file_extension": ".py",
   "mimetype": "text/x-python",
   "name": "python",
   "nbconvert_exporter": "python",
   "pygments_lexer": "ipython3",
   "version": "3.10.13"
  },
  "papermill": {
   "default_parameters": {},
   "duration": 6.872641,
   "end_time": "2024-06-07T17:00:13.126905",
   "environment_variables": {},
   "exception": null,
   "input_path": "__notebook__.ipynb",
   "output_path": "__notebook__.ipynb",
   "parameters": {},
   "start_time": "2024-06-07T17:00:06.254264",
   "version": "2.5.0"
  }
 },
 "nbformat": 4,
 "nbformat_minor": 5
}
