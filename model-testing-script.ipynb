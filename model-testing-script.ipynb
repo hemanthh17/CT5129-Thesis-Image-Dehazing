{
 "cells": [
  {
   "cell_type": "markdown",
   "id": "f30e38af",
   "metadata": {
    "papermill": {
     "duration": 0.008246,
     "end_time": "2024-08-04T16:35:58.708143",
     "exception": false,
     "start_time": "2024-08-04T16:35:58.699897",
     "status": "completed"
    },
    "tags": []
   },
   "source": [
    "# Model Testing Script\n",
    "\n",
    "This script is used to evaluate models at various stages. At each stage, the PSNR and SSIM functions are used to evaluate the output at each stage."
   ]
  },
  {
   "cell_type": "markdown",
   "id": "fd81d34d",
   "metadata": {
    "papermill": {
     "duration": 0.007558,
     "end_time": "2024-08-04T16:35:58.723628",
     "exception": false,
     "start_time": "2024-08-04T16:35:58.716070",
     "status": "completed"
    },
    "tags": []
   },
   "source": [
    "## Importing Libraries"
   ]
  },
  {
   "cell_type": "code",
   "execution_count": 1,
   "id": "75464f2d",
   "metadata": {
    "execution": {
     "iopub.execute_input": "2024-08-04T16:35:58.740786Z",
     "iopub.status.busy": "2024-08-04T16:35:58.740369Z",
     "iopub.status.idle": "2024-08-04T16:36:13.237156Z",
     "shell.execute_reply": "2024-08-04T16:36:13.235815Z"
    },
    "papermill": {
     "duration": 14.508497,
     "end_time": "2024-08-04T16:36:13.239839",
     "exception": false,
     "start_time": "2024-08-04T16:35:58.731342",
     "status": "completed"
    },
    "tags": []
   },
   "outputs": [],
   "source": [
    "!pip install torch-enhance torchmetrics lpips -q"
   ]
  },
  {
   "cell_type": "code",
   "execution_count": 2,
   "id": "3c34f50b",
   "metadata": {
    "execution": {
     "iopub.execute_input": "2024-08-04T16:36:13.258187Z",
     "iopub.status.busy": "2024-08-04T16:36:13.257808Z",
     "iopub.status.idle": "2024-08-04T16:36:23.010776Z",
     "shell.execute_reply": "2024-08-04T16:36:23.009826Z"
    },
    "papermill": {
     "duration": 9.765113,
     "end_time": "2024-08-04T16:36:23.013321",
     "exception": false,
     "start_time": "2024-08-04T16:36:13.248208",
     "status": "completed"
    },
    "tags": []
   },
   "outputs": [],
   "source": [
    "import gc,os,cv2\n",
    "from glob import glob\n",
    "import numpy as np\n",
    "import pandas as pd \n",
    "from PIL import Image\n",
    "from sklearn.model_selection import train_test_split\n",
    "from tqdm import tqdm\n",
    "import warnings\n",
    "warnings.filterwarnings('ignore')\n",
    "import lpips\n",
    "import pywt\n",
    "import shutil,time\n",
    "\n",
    "import torch \n",
    "import torch.nn as nn\n",
    "import torch.nn.functional as F\n",
    "import torch.optim as optim\n",
    "from torch.utils.data import DataLoader,Dataset\n",
    "import torchvision.transforms as tt \n",
    "from torch_enhance.losses import VGG as PerceptualLoss\n",
    "from torchmetrics.image import PeakSignalNoiseRatio,StructuralSimilarityIndexMeasure"
   ]
  },
  {
   "cell_type": "markdown",
   "id": "9c85ccd3",
   "metadata": {
    "papermill": {
     "duration": 0.007533,
     "end_time": "2024-08-04T16:36:23.029065",
     "exception": false,
     "start_time": "2024-08-04T16:36:23.021532",
     "status": "completed"
    },
    "tags": []
   },
   "source": [
    "## Dataset Preparation"
   ]
  },
  {
   "cell_type": "code",
   "execution_count": 3,
   "id": "146dcbcc",
   "metadata": {
    "execution": {
     "iopub.execute_input": "2024-08-04T16:36:23.046621Z",
     "iopub.status.busy": "2024-08-04T16:36:23.046080Z",
     "iopub.status.idle": "2024-08-04T16:36:23.076669Z",
     "shell.execute_reply": "2024-08-04T16:36:23.075703Z"
    },
    "papermill": {
     "duration": 0.042217,
     "end_time": "2024-08-04T16:36:23.079211",
     "exception": false,
     "start_time": "2024-08-04T16:36:23.036994",
     "status": "completed"
    },
    "tags": []
   },
   "outputs": [],
   "source": [
    "test_sample=pd.read_csv('/kaggle/input/dehazing-dataset-thesis/dehazing_dataset_sample_test.csv')\n",
    "test_data=pd.read_csv('/kaggle/input/dehazing-dataset-thesis/dehazing_dataset_test.csv')"
   ]
  },
  {
   "cell_type": "code",
   "execution_count": 4,
   "id": "874b434a",
   "metadata": {
    "execution": {
     "iopub.execute_input": "2024-08-04T16:36:23.097481Z",
     "iopub.status.busy": "2024-08-04T16:36:23.097092Z",
     "iopub.status.idle": "2024-08-04T16:36:23.107945Z",
     "shell.execute_reply": "2024-08-04T16:36:23.106716Z"
    },
    "papermill": {
     "duration": 0.022895,
     "end_time": "2024-08-04T16:36:23.110262",
     "exception": false,
     "start_time": "2024-08-04T16:36:23.087367",
     "status": "completed"
    },
    "tags": []
   },
   "outputs": [],
   "source": [
    "class DehazingDataset_RGB(Dataset):\n",
    "    def __init__(self,dataset,in_transforms=None,out_transforms=None):\n",
    "        self.dataset=dataset\n",
    "        self.in_transforms=in_transforms\n",
    "        self.out_transforms=out_transforms\n",
    "    def __len__(self):\n",
    "        return len(self.dataset)\n",
    "    def __getitem__(self,idx):\n",
    "        hazy_img_path=self.dataset.iloc[idx,1]\n",
    "        clear_img_path=self.dataset.iloc[idx,0]\n",
    "        if self.in_transforms:\n",
    "            hazy_img=self.in_transforms(Image.open(str(hazy_img_path)))\n",
    "        if self.out_transforms:\n",
    "            clear_img=self.out_transforms(Image.open(str(clear_img_path)))\n",
    "        return {'hazy':hazy_img,\n",
    "               'gt':clear_img}\n",
    "\n",
    "    \n",
    "    \n",
    "class DehazingDataset_YCBCR(Dataset):\n",
    "    def __init__(self,dataset,in_transforms=None,out_transforms=None):\n",
    "        self.dataset=dataset\n",
    "        self.in_transforms=in_transforms\n",
    "        self.out_transforms=out_transforms\n",
    "    def __len__(self):\n",
    "        return len(self.dataset)\n",
    "    def __getitem__(self,idx):\n",
    "        hazy_img_path=self.dataset.iloc[idx,1]\n",
    "        clear_img_path=self.dataset.iloc[idx,0]\n",
    "        if self.in_transforms:\n",
    "            hazy_img=self.in_transforms(Image.open(str(hazy_img_path)).convert('YCbCr'))\n",
    "        if self.out_transforms:\n",
    "            clear_img=self.out_transforms(Image.open(str(clear_img_path)).convert('YCbCr'))\n",
    "        return {'hazy':hazy_img,\n",
    "               'gt':clear_img} \n",
    "\n"
   ]
  },
  {
   "cell_type": "code",
   "execution_count": 5,
   "id": "53e8fb9c",
   "metadata": {
    "execution": {
     "iopub.execute_input": "2024-08-04T16:36:23.128651Z",
     "iopub.status.busy": "2024-08-04T16:36:23.127922Z",
     "iopub.status.idle": "2024-08-04T16:36:23.134799Z",
     "shell.execute_reply": "2024-08-04T16:36:23.133770Z"
    },
    "papermill": {
     "duration": 0.018554,
     "end_time": "2024-08-04T16:36:23.137099",
     "exception": false,
     "start_time": "2024-08-04T16:36:23.118545",
     "status": "completed"
    },
    "tags": []
   },
   "outputs": [],
   "source": [
    "input_transforms_rgb=tt.Compose([\n",
    "    tt.transforms.Resize((256,256)),\n",
    "    tt.ToTensor(),\n",
    "    tt.Normalize(mean=(0.6344,0.5955,0.5857),std=(0.1742,0.1798,0.1871))\n",
    "])\n",
    "output_transforms_rgb=tt.Compose([\n",
    "    tt.transforms.Resize((256,256)),\n",
    "    tt.ToTensor(),\n",
    "    tt.Normalize(mean=(0.4556,0.3837,0.3642),std=(0.2689,0.2691,0.2828))\n",
    "])\n",
    "\n",
    "test_dataset_rgb=DehazingDataset_RGB(test_data,input_transforms_rgb,output_transforms_rgb)\n",
    "test_sample_dataset_rgb=DehazingDataset_RGB(test_sample,input_transforms_rgb,output_transforms_rgb)\n"
   ]
  },
  {
   "cell_type": "code",
   "execution_count": 6,
   "id": "60be1403",
   "metadata": {
    "execution": {
     "iopub.execute_input": "2024-08-04T16:36:23.155049Z",
     "iopub.status.busy": "2024-08-04T16:36:23.154138Z",
     "iopub.status.idle": "2024-08-04T16:36:23.161115Z",
     "shell.execute_reply": "2024-08-04T16:36:23.159992Z"
    },
    "papermill": {
     "duration": 0.018344,
     "end_time": "2024-08-04T16:36:23.163306",
     "exception": false,
     "start_time": "2024-08-04T16:36:23.144962",
     "status": "completed"
    },
    "tags": []
   },
   "outputs": [],
   "source": [
    "input_transforms_ycbcr=tt.Compose([\n",
    "    tt.transforms.Resize((256,256)),\n",
    "    tt.ToTensor(),\n",
    "    tt.Normalize(mean=(0.6041,0.4889,0.5205),std=(0.1769,0.0279,0.0251))\n",
    "])\n",
    "output_transforms_ycbcr=tt.Compose([\n",
    "    tt.transforms.Resize((256,256)),\n",
    "    tt.ToTensor(),\n",
    "    tt.Normalize(mean=(0.4011,0.4784,0.5378),std=(0.2667,0.0479,0.0414))\n",
    "])\n",
    "\n",
    "test_dataset_ycbcr=DehazingDataset_YCBCR(test_data,input_transforms_ycbcr,output_transforms_ycbcr)\n",
    "test_sample_dataset_ycbcr=DehazingDataset_YCBCR(test_sample,input_transforms_ycbcr,output_transforms_ycbcr)\n"
   ]
  },
  {
   "cell_type": "code",
   "execution_count": 7,
   "id": "1bf85b88",
   "metadata": {
    "execution": {
     "iopub.execute_input": "2024-08-04T16:36:23.181253Z",
     "iopub.status.busy": "2024-08-04T16:36:23.180207Z",
     "iopub.status.idle": "2024-08-04T16:36:23.186561Z",
     "shell.execute_reply": "2024-08-04T16:36:23.185524Z"
    },
    "papermill": {
     "duration": 0.01773,
     "end_time": "2024-08-04T16:36:23.188814",
     "exception": false,
     "start_time": "2024-08-04T16:36:23.171084",
     "status": "completed"
    },
    "tags": []
   },
   "outputs": [],
   "source": [
    "test_sample_loader_rgb=DataLoader(test_sample_dataset_rgb,batch_size=1)\n",
    "test_loader_rgb=DataLoader(test_dataset_rgb,batch_size=1)\n",
    "test_sample_loader_ycbcr=DataLoader(test_sample_dataset_ycbcr,batch_size=1)\n",
    "test_loader_ycbcr=DataLoader(test_dataset_ycbcr,batch_size=1)"
   ]
  },
  {
   "cell_type": "markdown",
   "id": "b54b09dc",
   "metadata": {
    "papermill": {
     "duration": 0.007546,
     "end_time": "2024-08-04T16:36:23.204910",
     "exception": false,
     "start_time": "2024-08-04T16:36:23.197364",
     "status": "completed"
    },
    "tags": []
   },
   "source": [
    "## Model Initilaisations"
   ]
  },
  {
   "cell_type": "code",
   "execution_count": 8,
   "id": "783a3eb3",
   "metadata": {
    "execution": {
     "iopub.execute_input": "2024-08-04T16:36:23.222434Z",
     "iopub.status.busy": "2024-08-04T16:36:23.222078Z",
     "iopub.status.idle": "2024-08-04T16:36:23.258201Z",
     "shell.execute_reply": "2024-08-04T16:36:23.257032Z"
    },
    "papermill": {
     "duration": 0.047924,
     "end_time": "2024-08-04T16:36:23.260478",
     "exception": false,
     "start_time": "2024-08-04T16:36:23.212554",
     "status": "completed"
    },
    "tags": []
   },
   "outputs": [],
   "source": [
    "class PixelAttention(nn.Module):\n",
    "    def __init__(self,channel,reduct_ratio=8):\n",
    "        super(PixelAttention,self).__init__()\n",
    "        reduced_channel=max(1,channel//reduct_ratio)\n",
    "        self.pixel_attention=nn.Sequential(\n",
    "            nn.Conv2d(channel,channel//reduced_channel,kernel_size=1,padding=0,bias=True),\n",
    "            nn.ReLU(inplace=True),\n",
    "            nn.Conv2d(channel//reduced_channel,1,kernel_size=1,padding=0,bias=True),\n",
    "            nn.Sigmoid()\n",
    "        )\n",
    "    def forward(self,feature):\n",
    "        x=self.pixel_attention(feature)\n",
    "        return x*feature\n",
    "\n",
    "class ChannelAttention(nn.Module):\n",
    "    def __init__(self,input_channels,reduct_ratio=8):\n",
    "        super(ChannelAttention,self).__init__()\n",
    "        reduced_channel=max(1,input_channels//reduct_ratio)\n",
    "        self.avg_pooler=nn.AdaptiveAvgPool2d(1)\n",
    "        self.fcn=nn.Sequential(\n",
    "            nn.Linear(input_channels,reduced_channel),\n",
    "            nn.ReLU(inplace=True),\n",
    "            nn.Linear(reduced_channel,input_channels)\n",
    "        )\n",
    "\n",
    "    def forward(self,input_feature):\n",
    "        n,c,_,_=input_feature.size()\n",
    "        x=self.avg_pooler(input_feature).view(n,c)\n",
    "        x=F.sigmoid(self.fcn(x).view(n,c,1,1))\n",
    "        return input_feature*x\n",
    "\n",
    "class AttentionBlock(nn.Module):\n",
    "    def __init__(self,dims,kernel_size=1):\n",
    "        super(AttentionBlock,self).__init__()\n",
    "        self.conv1=nn.Conv2d(dims,dims,kernel_size,padding=(kernel_size//2),bias=True)\n",
    "        self.conv2=nn.Conv2d(dims,dims,kernel_size,padding=(kernel_size//2),bias=True)\n",
    "        self.ca=ChannelAttention(dims)\n",
    "        self.pa=PixelAttention(dims)\n",
    "    def forward(self,img):\n",
    "        feat=F.relu(self.conv1(img),inplace=True)\n",
    "        feat=feat+img\n",
    "        feat=F.relu(self.conv1(feat),inplace=True)\n",
    "        feat=self.ca(feat)\n",
    "        feat=self.pa(feat)\n",
    "        feat+=img\n",
    "        return feat\n",
    "class DWT_DehazingNet(nn.Module):\n",
    "    def __init__(self):\n",
    "        super(DWT_DehazingNet,self).__init__()\n",
    "        self.conv1=nn.Conv2d(in_channels=3,out_channels=3,kernel_size=1,stride=1,padding=0)\n",
    "        self.conv2=nn.Conv2d(in_channels=3,out_channels=3,kernel_size=3,stride=1,padding=1)\n",
    "        self.attn1=AttentionBlock(3)\n",
    "        self.conv3=nn.Conv2d(in_channels=9,out_channels=3,kernel_size=5,stride=1,padding=2)\n",
    "        self.conv4=nn.Conv2d(in_channels=6,out_channels=3,kernel_size=7,stride=1,padding=3)\n",
    "        self.attn2=AttentionBlock(3)\n",
    "        self.conv5=nn.Conv2d(in_channels=15,out_channels=3,kernel_size=3,stride=1,padding=1)\n",
    "        self.conv_dwt=nn.Conv2d(in_channels=12,out_channels=3,kernel_size=3,stride=1,padding=1)\n",
    "        self.b=1\n",
    "\n",
    "    def forward(self,x):\n",
    "        dwt_coeffs=pywt.dwt2(x.cpu(),wavelet='db4')\n",
    "        LL,(LH,HL,HH)=dwt_coeffs\n",
    "        dwt_out=torch.concat([torch.from_numpy(LL),torch.from_numpy(LH),torch.from_numpy(HL),torch.from_numpy(HH)],dim=1)\n",
    "        x1=F.relu(self.conv1(x))\n",
    "        dwt_out=tt.Resize((256,256))(dwt_out)\n",
    "        dwt_in=self.conv_dwt(dwt_out)\n",
    "        x2=F.relu(self.conv2(x1))\n",
    "        x2=self.attn1(x2)\n",
    "        cat1=torch.cat((x1,x2,dwt_in),1)\n",
    "        x3=F.relu(self.conv3(cat1))\n",
    "        cat2=torch.cat((x2,x3),1)\n",
    "        x4=F.relu(self.conv4(cat2))\n",
    "        x4=self.attn2(x4)\n",
    "        cat3=torch.cat((x1,x2,x3,x4,dwt_in),1)\n",
    "        k=F.relu(self.conv5(cat3))\n",
    "        return F.relu(k*x-k+self.b)\n",
    "class DehazingNet(nn.Module):\n",
    "    def __init__(self):\n",
    "        super(DehazingNet,self).__init__()\n",
    "        self.conv1=nn.Conv2d(in_channels=3,out_channels=3,kernel_size=1,stride=1,padding=0)\n",
    "        self.conv2=nn.Conv2d(in_channels=3,out_channels=3,kernel_size=3,stride=1,padding=1)\n",
    "        self.attn1=AttentionBlock(3)\n",
    "        self.conv3=nn.Conv2d(in_channels=6,out_channels=3,kernel_size=5,stride=1,padding=2)\n",
    "        self.conv4=nn.Conv2d(in_channels=6,out_channels=3,kernel_size=7,stride=1,padding=3)\n",
    "        self.attn2=AttentionBlock(3)\n",
    "        self.conv5=nn.Conv2d(in_channels=12,out_channels=3,kernel_size=3,stride=1,padding=1)\n",
    "        self.conv_dwt=nn.Conv2d(in_channels=6,out_channels=3,kernel_size=3,stride=1,padding=1)\n",
    "        self.b=1\n",
    "\n",
    "    def forward(self,x):\n",
    "        x1=F.relu(self.conv1(x))\n",
    "        x2=F.relu(self.conv2(x1))\n",
    "        x2=self.attn1(x2)\n",
    "        cat1=torch.cat((x1,x2),1)\n",
    "        x3=F.relu(self.conv3(cat1))\n",
    "        cat2=torch.cat((x2,x3),1)\n",
    "        x4=F.relu(self.conv4(cat2))\n",
    "        x4=self.attn2(x4)\n",
    "        cat3=torch.cat((x1,x2,x3,x4),1)\n",
    "        k=F.relu(self.conv5(cat3))\n",
    "        return F.relu(k*x-k+self.b)\n",
    "class AODnet(nn.Module):\n",
    "    def __init__(self):\n",
    "        super(AODnet,self).__init__()\n",
    "        self.conv1=nn.Conv2d(in_channels=3,out_channels=3,kernel_size=1,stride=1,padding=0)\n",
    "        self.conv2=nn.Conv2d(in_channels=3,out_channels=3,kernel_size=3,stride=1,padding=1)\n",
    "        self.conv3=nn.Conv2d(in_channels=6,out_channels=3,kernel_size=5,stride=1,padding=2)\n",
    "        self.conv4=nn.Conv2d(in_channels=6,out_channels=3,kernel_size=7,stride=1,padding=3)\n",
    "        self.conv5=nn.Conv2d(in_channels=12,out_channels=3,kernel_size=3,stride=1,padding=1)\n",
    "        self.b=1\n",
    "\n",
    "    def forward(self, x):\n",
    "        x1=F.relu(self.conv1(x))\n",
    "        x2=F.relu(self.conv2(x1))\n",
    "        cat1=torch.cat((x1,x2),1)\n",
    "        x3=F.relu(self.conv3(cat1))\n",
    "        cat2=torch.cat((x2,x3),1)\n",
    "        x4=F.relu(self.conv4(cat2))\n",
    "        cat3=torch.cat((x1,x2,x3,x4),1)\n",
    "        k=F.relu(self.conv5(cat3))\n",
    "        return F.relu(k*x-k+self.b)\n",
    "\n",
    "class AOD_net_pretrained(nn.Module):\n",
    "\tdef __init__(self):\n",
    "\t\tsuper(AOD_net_pretrained, self).__init__()\n",
    "\t\tself.relu=nn.ReLU(inplace=True)\n",
    "\t\tself.e_conv1=nn.Conv2d(3,3,1,1,0,bias=True) \n",
    "\t\tself.e_conv2=nn.Conv2d(3,3,3,1,1,bias=True) \n",
    "\t\tself.e_conv3=nn.Conv2d(6,3,5,1,2,bias=True) \n",
    "\t\tself.e_conv4=nn.Conv2d(6,3,7,1,3,bias=True) \n",
    "\t\tself.e_conv5=nn.Conv2d(12,3,3,1,1,bias=True) \t\t\n",
    "\tdef forward(self,x):\n",
    "\t\tsource=[]\n",
    "\t\tsource.append(x)\n",
    "\t\tx1=self.relu(self.e_conv1(x))\n",
    "\t\tx2=self.relu(self.e_conv2(x1))\n",
    "\t\tconcat1=torch.cat((x1,x2),1)\n",
    "\t\tx3=self.relu(self.e_conv3(concat1))\n",
    "\t\tconcat2=torch.cat((x2,x3),1)\n",
    "\t\tx4=self.relu(self.e_conv4(concat2))\n",
    "\t\tconcat3=torch.cat((x1,x2,x3,x4),1)\n",
    "\t\tx5=self.relu(self.e_conv5(concat3))\n",
    "\t\treturn self.relu((x5*x)-x5+1) \n"
   ]
  },
  {
   "cell_type": "code",
   "execution_count": 9,
   "id": "0eb09103",
   "metadata": {
    "execution": {
     "iopub.execute_input": "2024-08-04T16:36:23.278802Z",
     "iopub.status.busy": "2024-08-04T16:36:23.277982Z",
     "iopub.status.idle": "2024-08-04T16:36:23.444022Z",
     "shell.execute_reply": "2024-08-04T16:36:23.442979Z"
    },
    "papermill": {
     "duration": 0.178045,
     "end_time": "2024-08-04T16:36:23.446461",
     "exception": false,
     "start_time": "2024-08-04T16:36:23.268416",
     "status": "completed"
    },
    "tags": []
   },
   "outputs": [
    {
     "data": {
      "text/plain": [
       "<All keys matched successfully>"
      ]
     },
     "execution_count": 9,
     "metadata": {},
     "output_type": "execute_result"
    }
   ],
   "source": [
    "dwt_dehazenet_rgb=nn.DataParallel(DWT_DehazingNet())\n",
    "dwt_dehazenet_rgb_new=nn.DataParallel(DWT_DehazingNet())\n",
    "dwt_dehazenet_ycbcr_3l=nn.DataParallel(DWT_DehazingNet())\n",
    "dwt_dehazenet_ycbcr=nn.DataParallel(DWT_DehazingNet())\n",
    "dehazenet_ycbcr=nn.DataParallel(DehazingNet())\n",
    "aod_ycbcr_l2=nn.DataParallel(AODnet())\n",
    "aod_ycbcr_mse=nn.DataParallel(AODnet())\n",
    "aod_ycbcr_3l=nn.DataParallel(AODnet())\n",
    "aod_pretrained=AOD_net_pretrained()\n",
    "dehazenet_rgb=nn.DataParallel(DehazingNet())\n",
    "dehazenet_rgb_fft=nn.DataParallel(DehazingNet())\n",
    "dwt_dehazenet_rgb_fft=nn.DataParallel(DWT_DehazingNet())\n",
    "\n",
    "\n",
    "dwt_dehazenet_ycbcr_3l.load_state_dict(torch.load(r'/kaggle/input/dehazing-models-ct5129/dwt-dehazenet-ycbcr-3l.pth',map_location=torch.device('cpu')))\n",
    "dwt_dehazenet_rgb_fft.load_state_dict(torch.load(r'/kaggle/input/dehazing-models-ct5129/dwt-dehazenet-fft-rgb.pth',map_location=torch.device('cpu')))\n",
    "dwt_dehazenet_rgb.load_state_dict(torch.load(r'/kaggle/input/dehazing-models-ct5129/dehazing-rgb-dwt-2l.pth',map_location=torch.device('cpu')))\n",
    "dwt_dehazenet_ycbcr.load_state_dict(torch.load(r'/kaggle/input/dehazing-models-ct5129/dehazing-ycbcr-dwt-2l.pth',map_location=torch.device('cpu')))\n",
    "dehazenet_ycbcr.load_state_dict(torch.load(r'/kaggle/input/dehazing-models-ct5129/dehazing-ycbcr-2l.pth',map_location=torch.device('cpu')))\n",
    "aod_ycbcr_l2.load_state_dict(torch.load('/kaggle/input/dehazing-models-ct5129/aodnet-ycbcr-2l.pth',map_location=torch.device('cpu')))\n",
    "aod_ycbcr_3l.load_state_dict(torch.load('/kaggle/input/dehazing-models-ct5129/aodnet-ycbcr-3l.pth',map_location=torch.device('cpu')))\n",
    "aod_ycbcr_mse.load_state_dict(torch.load('/kaggle/input/dehazing-models-ct5129/aodnet-ycbcr-mse.pth',map_location=torch.device('cpu')))\n",
    "aod_pretrained.load_state_dict(torch.load('/kaggle/input/dehazing-models-ct5129/aodnet-pretrained.pth',map_location=torch.device('cpu')))\n",
    "dehazenet_rgb.load_state_dict(torch.load(r'/kaggle/input/dehazing-models-ct5129/dehazenet-rgb-2l.pth',map_location=torch.device('cpu')))\n",
    "dehazenet_rgb_fft.load_state_dict(torch.load(r'/kaggle/input/dehazing-models-ct5129/dehazenet-mse_per_fft-rgb.pth',map_location=torch.device('cpu')))\n"
   ]
  },
  {
   "cell_type": "code",
   "execution_count": 10,
   "id": "bcad3ab7",
   "metadata": {
    "execution": {
     "iopub.execute_input": "2024-08-04T16:36:23.464830Z",
     "iopub.status.busy": "2024-08-04T16:36:23.464405Z",
     "iopub.status.idle": "2024-08-04T16:36:23.508428Z",
     "shell.execute_reply": "2024-08-04T16:36:23.507332Z"
    },
    "papermill": {
     "duration": 0.05608,
     "end_time": "2024-08-04T16:36:23.510775",
     "exception": false,
     "start_time": "2024-08-04T16:36:23.454695",
     "status": "completed"
    },
    "tags": []
   },
   "outputs": [
    {
     "data": {
      "text/plain": [
       "<All keys matched successfully>"
      ]
     },
     "execution_count": 10,
     "metadata": {},
     "output_type": "execute_result"
    }
   ],
   "source": [
    "class PixelAttention(nn.Module):\n",
    "    def __init__(self,channel,reduct_ratio=8):\n",
    "        super(PixelAttention,self).__init__()\n",
    "        reduced_channel=max(1,channel//reduct_ratio)\n",
    "        self.pixel_attention=nn.Sequential(\n",
    "            nn.Conv2d(channel,channel//reduced_channel,kernel_size=1,padding=0,bias=True),\n",
    "            nn.ReLU(inplace=True),\n",
    "            nn.Conv2d(channel//reduced_channel,1,kernel_size=1,padding=0,bias=True),\n",
    "            nn.Sigmoid()\n",
    "        )\n",
    "    def forward(self,feature):\n",
    "        x=self.pixel_attention(feature)\n",
    "        return x*feature\n",
    "\n",
    "class ChannelAttention(nn.Module):\n",
    "    def __init__(self,input_channels,reduct_ratio=8):\n",
    "        super(ChannelAttention,self).__init__()\n",
    "        reduced_channel=max(1,input_channels//reduct_ratio)\n",
    "        self.avg_pooler=nn.AdaptiveAvgPool2d(1)\n",
    "        self.fcn=nn.Sequential(\n",
    "            nn.Linear(input_channels,reduced_channel),\n",
    "            nn.ReLU(inplace=True),\n",
    "            nn.Linear(reduced_channel,input_channels)\n",
    "        )\n",
    "\n",
    "    def forward(self,input_feature):\n",
    "        n,c,_,_=input_feature.size()\n",
    "        x=self.avg_pooler(input_feature).view(n,c)\n",
    "        x=F.sigmoid(self.fcn(x).view(n,c,1,1))\n",
    "        return input_feature*x\n",
    "\n",
    "class AttentionBlock(nn.Module):\n",
    "    def __init__(self,dims,kernel_size=1):\n",
    "        super(AttentionBlock,self).__init__()\n",
    "        self.conv1=nn.Conv2d(dims,dims,kernel_size,padding=(kernel_size//2),bias=True)\n",
    "        self.conv2=nn.Conv2d(dims,dims,kernel_size,padding=(kernel_size//2),bias=True)\n",
    "        self.ca=ChannelAttention(dims)\n",
    "        self.pa=PixelAttention(dims)\n",
    "    def forward(self,img):\n",
    "        feat=F.relu(self.conv1(img),inplace=True)\n",
    "        feat=feat+img\n",
    "        feat=F.relu(self.conv1(feat),inplace=True)\n",
    "        feat=self.ca(feat)\n",
    "        feat=self.pa(feat)\n",
    "        feat+=img\n",
    "        return feat\n",
    "class DehazingNet(nn.Module):\n",
    "    def __init__(self):\n",
    "        super(DehazingNet, self).__init__()\n",
    "        self.conv1=nn.Conv2d(in_channels=3,out_channels=3,kernel_size=1,stride=1,padding=0)\n",
    "        self.conv2=nn.Conv2d(in_channels=3,out_channels=3,kernel_size=3,stride=1,padding=1)\n",
    "        self.attn1=AttentionBlock(3)\n",
    "        self.conv3=nn.Conv2d(in_channels=6,out_channels=3,kernel_size=5,stride=1,padding=2)\n",
    "        self.conv4=nn.Conv2d(in_channels=6,out_channels=3,kernel_size=7,stride=1,padding=3)\n",
    "        self.attn2=AttentionBlock(3)\n",
    "        self.conv5=nn.Conv2d(in_channels=12,out_channels=3, kernel_size=3, stride=1,padding=1)\n",
    "        self.b=1\n",
    "        self.pono=PONO(affine=False)\n",
    "        self.ms=MS()\n",
    "\n",
    "    def forward(self, x):\n",
    "        x1=F.relu(self.conv1(x))\n",
    "        x2=self.attn1(F.relu(self.conv2(x1)))\n",
    "        cat1=torch.cat((x1,x2),1)\n",
    "        x1,mean1,std1=self.pono(x1)\n",
    "        x2, mean2,std2=self.pono(x2)\n",
    "        x3=F.relu(self.conv3(cat1))\n",
    "        cat2=torch.cat((x2,x3),1)\n",
    "        x3=self.ms(x3,mean1,std1)\n",
    "        x4=self.attn2(F.relu(self.conv4(cat2)))\n",
    "        x4=self.ms(x4,mean2,std2)\n",
    "        cat3=torch.cat((x1,x2,x3,x4),1)\n",
    "        k=F.relu(self.conv5(cat3))\n",
    "        return F.relu(k*x-k+self.b)\n",
    "\n",
    "class PONO(nn.Module):\n",
    "    def __init__(self,input_size=None,stats=False,affine=True,eps=1e-5):\n",
    "        super(PONO, self).__init__()\n",
    "        self.return_stats=stats\n",
    "        self.input_size=input_size\n",
    "        self.eps=eps\n",
    "        self.affine=affine\n",
    "        if affine:\n",
    "            self.beta=nn.Parameter(torch.zeros(1,1,*input_size))\n",
    "            self.gamma=nn.Parameter(torch.ones(1,1,*input_size))\n",
    "        else:\n",
    "            self.beta,self.gamma=None,None\n",
    "    def forward(self, x):\n",
    "        mean=x.mean(dim=1,keepdim=True)\n",
    "        std=(x.var(dim=1,keepdim=True)+self.eps).sqrt()\n",
    "        x=(x-mean)/std\n",
    "        if self.affine:\n",
    "            x=x*self.gamma+self.beta\n",
    "        return x,mean,std\n",
    "\n",
    "class MS(nn.Module):\n",
    "    def __init__(self,beta=None,gamma=None):\n",
    "        super(MS,self).__init__()\n",
    "        self.gamma,self.beta=gamma,beta\n",
    "    def forward(self,x,beta=None,gamma=None):\n",
    "        beta=self.beta if beta is None else beta\n",
    "        gamma=self.gamma if gamma is None else gamma\n",
    "        if gamma is not None:\n",
    "            x*=gamma\n",
    "        if beta is not None:\n",
    "            x+=beta\n",
    "        return x\n",
    "dehazenet_pono_fft=nn.DataParallel(DehazingNet())\n",
    "dehazenet_pono_fft.load_state_dict(torch.load(r'/kaggle/input/dehazing-models-ct5129/dehazenet-pono-rgb-fft.pth',map_location=torch.device('cpu')))\n"
   ]
  },
  {
   "cell_type": "code",
   "execution_count": 11,
   "id": "59a7e062",
   "metadata": {
    "execution": {
     "iopub.execute_input": "2024-08-04T16:36:23.529206Z",
     "iopub.status.busy": "2024-08-04T16:36:23.528839Z",
     "iopub.status.idle": "2024-08-04T16:36:24.552460Z",
     "shell.execute_reply": "2024-08-04T16:36:24.551185Z"
    },
    "papermill": {
     "duration": 1.035987,
     "end_time": "2024-08-04T16:36:24.555025",
     "exception": false,
     "start_time": "2024-08-04T16:36:23.519038",
     "status": "completed"
    },
    "tags": []
   },
   "outputs": [
    {
     "data": {
      "text/plain": [
       "<All keys matched successfully>"
      ]
     },
     "execution_count": 11,
     "metadata": {},
     "output_type": "execute_result"
    }
   ],
   "source": [
    "class PixelAttention(nn.Module):\n",
    "    def __init__(self,channel,reduct_ratio=8):\n",
    "        super(PixelAttention,self).__init__()\n",
    "        self.pixel_attention=nn.Sequential(\n",
    "            nn.Conv2d(channel,channel//reduct_ratio,kernel_size=1,padding=0,bias=True),\n",
    "            nn.ReLU(inplace=True),\n",
    "            nn.Conv2d(channel//reduct_ratio,1,kernel_size=1,padding=0,bias=True),\n",
    "            nn.Sigmoid()\n",
    "        )\n",
    "    def forward(self,feature):\n",
    "        x=self.pixel_attention(feature)\n",
    "        return x*feature\n",
    "\n",
    "class ChannelAttention(nn.Module):\n",
    "    def __init__(self,input_channels,reduct_ratio=8):\n",
    "        super(ChannelAttention,self).__init__()\n",
    "        self.avg_pooler=nn.AdaptiveAvgPool2d(1)\n",
    "        self.fcn=nn.Sequential(\n",
    "            nn.Linear(input_channels,input_channels//reduct_ratio),\n",
    "            nn.ReLU(inplace=True),\n",
    "            nn.Linear(input_channels//reduct_ratio,input_channels)\n",
    "        )\n",
    "\n",
    "    def forward(self,input_feature):\n",
    "        n,c,_,_=input_feature.size()\n",
    "        x=self.avg_pooler(input_feature).view(n,c)\n",
    "        x=F.sigmoid(self.fcn(x).view(n,c,1,1))\n",
    "        return input_feature*x\n",
    "\n",
    "class AttentionBlock(nn.Module):\n",
    "    def __init__(self,dims,kernel_size=1):\n",
    "        super(AttentionBlock,self).__init__()\n",
    "        self.conv1=nn.Conv2d(dims,dims,kernel_size,padding=(kernel_size//2),bias=True)\n",
    "        self.conv2=nn.Conv2d(dims,dims,kernel_size,padding=(kernel_size//2),bias=True)\n",
    "        self.ca=ChannelAttention(dims)\n",
    "        self.pa=PixelAttention(dims)\n",
    "    def forward(self,img):\n",
    "        feat=F.relu(self.conv1(img),inplace=True)\n",
    "        feat=feat+img\n",
    "        feat=F.relu(self.conv1(feat),inplace=True)\n",
    "        feat=self.ca(feat)\n",
    "        feat=self.pa(feat)\n",
    "        feat+=img\n",
    "        return feat\n",
    "\n",
    "class ComplexNet_RGB(nn.Module):\n",
    "    def __init__(self,input_channels=3,output_channels=3,features=128):\n",
    "        super(ComplexNet_RGB,self).__init__()\n",
    "        self.encoder_c1=nn.Conv2d(input_channels,features,kernel_size=3,padding=1,padding_mode='reflect',stride=2)\n",
    "        self.encoder_c2=nn.Conv2d(features+(output_channels*4),features*2,kernel_size=3,padding=1,padding_mode='reflect',stride=2)\n",
    "        self.enc_chan_attn1=AttentionBlock(features*2)\n",
    "        self.encoder_n1=nn.InstanceNorm2d(features*2,affine=True)\n",
    "        self.encoder_c3=nn.Conv2d(features*2,features*4,kernel_size=3,padding=1,stride=2)\n",
    "        self.encoder_c4=nn.Conv2d(features*4,features*8,kernel_size=3,padding=1,stride=2)\n",
    "        self.enc_chan_attn2=AttentionBlock(features*8)\n",
    "        self.encoder_n2=nn.InstanceNorm2d(features*8,affine=True)\n",
    "\n",
    "        self.decoder_c1=nn.ConvTranspose2d(features*8,features*4,kernel_size=4,stride=2,padding=1)\n",
    "        self.dec_chan_attn1=AttentionBlock(features*4)\n",
    "        self.decoder_c2=nn.ConvTranspose2d(features*4,features*2,kernel_size=4,stride=2,padding=1)\n",
    "        self.decoder_c3=nn.ConvTranspose2d(features*2,features,kernel_size=4,stride=2,padding=1)\n",
    "        self.decoder_c4=nn.ConvTranspose2d(features+(output_channels*4),features,kernel_size=4,stride=2,padding=1)\n",
    "        self.dec_chan_attn2=AttentionBlock(features)\n",
    "        self.decoder_c5=nn.Conv2d(features,features,kernel_size=3,padding=1)\n",
    "        self.decoder_c6=nn.Conv2d(features,output_channels,kernel_size=3,padding=1)\n",
    "\n",
    "\n",
    "    def forward(self, hazy):\n",
    "        dwt_coeffs=pywt.dwt2(hazy.cpu(),wavelet='db4')\n",
    "        LL,(LH,HL,HH)=dwt_coeffs\n",
    "        dwt_out=torch.concat([torch.from_numpy(LL),torch.from_numpy(LH),torch.from_numpy(HL),torch.from_numpy(HH)],dim=1)\n",
    "        dwt_out=tt.Resize((128,128))(dwt_out)\n",
    "        x1=F.relu(self.encoder_c1(hazy),inplace=True)\n",
    "        x1=torch.concat([x1,dwt_out],dim=1)\n",
    "        x2=self.encoder_n1(self.enc_chan_attn1(F.relu(self.encoder_c2(x1),inplace=True)))\n",
    "        x3=F.relu(self.encoder_c3(x2),inplace=True)\n",
    "        x4=self.encoder_n2(self.enc_chan_attn2(F.relu(self.encoder_c4(x3),inplace=True)))\n",
    "\n",
    "        x5=F.relu(self.dec_chan_attn1(F.relu(self.decoder_c1(x4),inplace=True)+x3),inplace=True)\n",
    "        x6=F.relu(self.decoder_c2(x5),inplace=True)+x2\n",
    "        x7=F.relu(self.decoder_c3(x6),inplace=True)\n",
    "        x7=torch.concat([x7,dwt_out],dim=1)\n",
    "        x8=F.relu(self.decoder_c4(x7),inplace=True)\n",
    "        x9=F.relu(self.decoder_c5(x8),inplace=True)\n",
    "        x10=F.relu(self.decoder_c6(x9),inplace=True)\n",
    "        return x10\n",
    "complexnet_rgb=nn.DataParallel(ComplexNet_RGB())\n",
    "complexnet_rgb.load_state_dict(torch.load(r'/kaggle/input/dehazing-models-ct5129/complexnet-rgb-3l.pth',map_location=torch.device('cpu')))\n"
   ]
  },
  {
   "cell_type": "code",
   "execution_count": 12,
   "id": "dcb06e4d",
   "metadata": {
    "execution": {
     "iopub.execute_input": "2024-08-04T16:36:24.574160Z",
     "iopub.status.busy": "2024-08-04T16:36:24.573794Z",
     "iopub.status.idle": "2024-08-04T16:36:25.546736Z",
     "shell.execute_reply": "2024-08-04T16:36:25.545664Z"
    },
    "papermill": {
     "duration": 0.985283,
     "end_time": "2024-08-04T16:36:25.549101",
     "exception": false,
     "start_time": "2024-08-04T16:36:24.563818",
     "status": "completed"
    },
    "tags": []
   },
   "outputs": [
    {
     "data": {
      "text/plain": [
       "<All keys matched successfully>"
      ]
     },
     "execution_count": 12,
     "metadata": {},
     "output_type": "execute_result"
    }
   ],
   "source": [
    "class PixelAttention(nn.Module):\n",
    "    def __init__(self,channel,reduct_ratio=8):\n",
    "        super(PixelAttention,self).__init__()\n",
    "        self.pixel_attention=nn.Sequential(\n",
    "            nn.Conv2d(channel,channel//reduct_ratio,kernel_size=1,padding=0,bias=True),\n",
    "            nn.ReLU(inplace=True),\n",
    "            nn.Conv2d(channel//reduct_ratio,1,kernel_size=1,padding=0,bias=True),\n",
    "            nn.Sigmoid()\n",
    "        )\n",
    "    def forward(self,feature):\n",
    "        x=self.pixel_attention(feature)\n",
    "        return x*feature\n",
    "\n",
    "class ChannelAttention(nn.Module):\n",
    "    def __init__(self,input_channels,reduct_ratio=8):\n",
    "        super(ChannelAttention,self).__init__()\n",
    "        self.avg_pooler=nn.AdaptiveAvgPool2d(1)\n",
    "        self.fcn=nn.Sequential(\n",
    "            nn.Linear(input_channels,input_channels//reduct_ratio),\n",
    "            nn.ReLU(inplace=True),\n",
    "            nn.Linear(input_channels//reduct_ratio,input_channels)\n",
    "        )\n",
    "\n",
    "    def forward(self,input_feature):\n",
    "        n,c,_,_=input_feature.size()\n",
    "        x=self.avg_pooler(input_feature).view(n,c)\n",
    "        x=F.sigmoid(self.fcn(x).view(n,c,1,1))\n",
    "        return input_feature*x\n",
    "\n",
    "class AttentionBlock(nn.Module):\n",
    "    def __init__(self,dims,kernel_size=1):\n",
    "        super(AttentionBlock,self).__init__()\n",
    "        self.conv1=nn.Conv2d(dims,dims,kernel_size,padding=(kernel_size//2),bias=True)\n",
    "        self.conv2=nn.Conv2d(dims,dims,kernel_size,padding=(kernel_size//2),bias=True)\n",
    "        self.ca=ChannelAttention(dims)\n",
    "        self.pa=PixelAttention(dims)\n",
    "    def forward(self,img):\n",
    "        feat=F.relu(self.conv1(img),inplace=True)\n",
    "        feat=feat+img\n",
    "        feat=F.relu(self.conv1(feat),inplace=True)\n",
    "        feat=self.ca(feat)\n",
    "        feat=self.pa(feat)\n",
    "        feat+=img\n",
    "        return feat\n",
    "\n",
    "\n",
    "class ComplexNet_YCRCB(nn.Module):\n",
    "    def __init__(self,input_channels=3,output_channels=3,features=128):\n",
    "        super(ComplexNet_YCRCB,self).__init__()\n",
    "        self.encoder_c1=nn.Conv2d(input_channels,features,kernel_size=3,padding=1,padding_mode='reflect',stride=2)\n",
    "        self.encoder_c2=nn.Conv2d(features+(output_channels*4),features*2,kernel_size=3,padding=1,padding_mode='reflect',stride=2)\n",
    "        self.enc_chan_attn1=AttentionBlock(features*2)\n",
    "        self.encoder_n1=nn.InstanceNorm2d(features*2,affine=True)\n",
    "        self.encoder_c3=nn.Conv2d(features*2,features*4,kernel_size=3,padding=1,stride=2)\n",
    "        self.encoder_c4=nn.Conv2d(features*4,features*8,kernel_size=3,padding=1,stride=2)\n",
    "        self.enc_chan_attn2=AttentionBlock(features*8)\n",
    "        self.encoder_n2=nn.InstanceNorm2d(features*8,affine=True)\n",
    "\n",
    "        self.decoder_c1=nn.ConvTranspose2d(features*8,features*4,kernel_size=4,stride=2,padding=1)\n",
    "        self.dec_chan_attn1=AttentionBlock(features*4)\n",
    "        self.decoder_c2=nn.ConvTranspose2d(features*4,features*2,kernel_size=4,stride=2,padding=1)\n",
    "        self.decoder_c3=nn.ConvTranspose2d(features*2,features,kernel_size=4,stride=2,padding=1)\n",
    "        self.decoder_c4=nn.ConvTranspose2d(features+(output_channels*4),features,kernel_size=4,stride=2,padding=1)\n",
    "        self.dec_chan_attn2=AttentionBlock(features)\n",
    "        self.decoder_c5=nn.Conv2d(features,features,kernel_size=3,padding=1)\n",
    "        self.decoder_c6=nn.Conv2d(features,output_channels,kernel_size=3,padding=1)\n",
    "\n",
    "\n",
    "    def forward(self, hazy):\n",
    "        dwt_coeffs=pywt.dwt2(hazy.cpu(),wavelet='db4')\n",
    "        LL,(LH,HL,HH)=dwt_coeffs\n",
    "        dwt_out=torch.concat([torch.from_numpy(LL),torch.from_numpy(LH),torch.from_numpy(HL),torch.from_numpy(HH)],dim=1)\n",
    "        dwt_out=tt.Resize((128,128))(dwt_out)\n",
    "        x1=F.relu(self.encoder_c1(hazy),inplace=True)\n",
    "        x1=torch.concat([x1,dwt_out],dim=1)\n",
    "        x2=self.encoder_n1(self.enc_chan_attn1(F.relu(self.encoder_c2(x1),inplace=True)))\n",
    "        x3=F.relu(self.encoder_c3(x2),inplace=True)\n",
    "        x4=self.encoder_n2(self.enc_chan_attn2(F.relu(self.encoder_c4(x3),inplace=True)))\n",
    "\n",
    "        x5=F.relu(self.dec_chan_attn1(F.relu(self.decoder_c1(x4),inplace=True)+x3),inplace=True)\n",
    "        x6=F.relu(self.decoder_c2(x5),inplace=True)+x2\n",
    "        x7=F.relu(self.decoder_c3(x6),inplace=True)\n",
    "        x7=torch.concat([x7,dwt_out],dim=1)\n",
    "        x8=F.relu(self.decoder_c4(x7),inplace=True)\n",
    "        x9=F.relu(self.decoder_c5(x8),inplace=True)\n",
    "        x10=F.relu(self.decoder_c6(x9),inplace=True)\n",
    "        return x10\n",
    "complexnet_ycbcr=nn.DataParallel(ComplexNet_YCRCB())\n",
    "complexnet_ycbcr.load_state_dict(torch.load(r'/kaggle/input/dehazing-models-ct5129/complexnet-ycbcr-3l.pth',map_location=torch.device('cpu')))\n",
    "\n"
   ]
  },
  {
   "cell_type": "markdown",
   "id": "323f6d12",
   "metadata": {
    "papermill": {
     "duration": 0.008045,
     "end_time": "2024-08-04T16:36:25.565803",
     "exception": false,
     "start_time": "2024-08-04T16:36:25.557758",
     "status": "completed"
    },
    "tags": []
   },
   "source": [
    "## Helper Functions"
   ]
  },
  {
   "cell_type": "code",
   "execution_count": 13,
   "id": "4073d515",
   "metadata": {
    "execution": {
     "iopub.execute_input": "2024-08-04T16:36:25.584589Z",
     "iopub.status.busy": "2024-08-04T16:36:25.583793Z",
     "iopub.status.idle": "2024-08-04T16:36:25.599302Z",
     "shell.execute_reply": "2024-08-04T16:36:25.598142Z"
    },
    "papermill": {
     "duration": 0.027758,
     "end_time": "2024-08-04T16:36:25.601821",
     "exception": false,
     "start_time": "2024-08-04T16:36:25.574063",
     "status": "completed"
    },
    "tags": []
   },
   "outputs": [],
   "source": [
    "def save_image_ycbcr(img_tensor,file_path):\n",
    "    if img_tensor.shape[0]!=3:\n",
    "        raise ValueError(\"Input tensor must have 3 channels only...\")\n",
    "    ycbcr_array=tensor_denormalize_ycbcr(img_tensor).permute(1,2,0).cpu().detach().numpy()\n",
    "    ycbcr_image=Image.fromarray((np.clip(ycbcr_array,0,1)*255).astype(np.uint8),mode='YCbCr')\n",
    "    rgb_image=ycbcr_image.convert('RGB')\n",
    "    rgb_image.save(file_path)\n",
    "    \n",
    "def tensor_denormalize_ycbcr(out_tensor,mean=[0.4011,0.4784,0.5378],std=[0.2667,0.0479,0.0414]):\n",
    "    if len(out_tensor.shape)==3:\n",
    "        out_tensor=out_tensor.unsqueeze(0)\n",
    "    mean=torch.tensor(mean).unsqueeze(0).unsqueeze(2).unsqueeze(3)\n",
    "    std=torch.tensor(std).unsqueeze(0).unsqueeze(2).unsqueeze(3)    \n",
    "    denorm_tensor=(out_tensor*std)+mean\n",
    "    return denorm_tensor.squeeze(0) \n",
    "def save_image_rgb(img_tensor,file_path):\n",
    "    if img_tensor.shape[0]!=3:\n",
    "        raise ValueError(\"Input tensor must have 3 channels only...\")\n",
    "    rgb_array=tensor_denormalize_rgb(img_tensor).permute(1,2,0).cpu().detach().numpy()\n",
    "    rgb_image=Image.fromarray((np.clip(rgb_array,0,1)*255).astype(np.uint8),mode='RGB')\n",
    "    rgb_image.save(file_path)\n",
    "\n",
    "def tensor_denormalize_rgb(out_tensor,mean=[0.4556,0.3837,0.3642],std=[0.2689,0.2691,0.2828]):\n",
    "    if len(out_tensor.shape)==3:\n",
    "        out_tensor=out_tensor.unsqueeze(0)\n",
    "    mean=torch.tensor(mean).unsqueeze(0).unsqueeze(2).unsqueeze(3)\n",
    "    std=torch.tensor(std).unsqueeze(0).unsqueeze(2).unsqueeze(3)    \n",
    "    denorm_tensor=(out_tensor*std)+mean\n",
    "    return denorm_tensor.squeeze(0)\n",
    "\n",
    "ssim_fn=StructuralSimilarityIndexMeasure()\n",
    "psnr_fn=PeakSignalNoiseRatio()\n",
    "\n",
    "def metrics_calculator(out_path,clear_path):\n",
    "    out_tensor=tt.ToTensor()(cv2.imread(out_path))\n",
    "    clear_tensor=tt.ToTensor()(cv2.imread(clear_path))\n",
    "    return psnr_fn(out_tensor,clear_tensor),ssim_fn(out_tensor.unsqueeze(0),clear_tensor.unsqueeze(0))\n",
    "    \n",
    "    "
   ]
  },
  {
   "cell_type": "code",
   "execution_count": 14,
   "id": "0b11b420",
   "metadata": {
    "execution": {
     "iopub.execute_input": "2024-08-04T16:36:25.620328Z",
     "iopub.status.busy": "2024-08-04T16:36:25.619943Z",
     "iopub.status.idle": "2024-08-04T16:36:25.630008Z",
     "shell.execute_reply": "2024-08-04T16:36:25.628947Z"
    },
    "papermill": {
     "duration": 0.021998,
     "end_time": "2024-08-04T16:36:25.632180",
     "exception": false,
     "start_time": "2024-08-04T16:36:25.610182",
     "status": "completed"
    },
    "tags": []
   },
   "outputs": [],
   "source": [
    "def model_evaluator(dehaze_model,exp_name,data_loader,img_format='RGB',mode='sample'):\n",
    "    psnr_data,ssim_data,time_data=[],[],[]\n",
    "    os.makedirs(f'/kaggle/working/{exp_name}',exist_ok=True)\n",
    "    i=0\n",
    "    dehaze_model.eval()\n",
    "    for pair in data_loader:\n",
    "        inp=pair['hazy']\n",
    "        clear=pair['gt']        \n",
    "        img_tensor=inp.cpu()\n",
    "        start_time=time.time()\n",
    "        model_out=dehaze_model(img_tensor)\n",
    "        time_data.append(time.time()-start_time)\n",
    "        out_tensor=model_out.cpu() \n",
    "        if img_format==\"RGB\":\n",
    "            save_image_rgb(img_tensor.squeeze(),f'/kaggle/working/{exp_name}/input_image_{i}.png')\n",
    "            save_image_rgb(out_tensor.squeeze(),f'/kaggle/working/{exp_name}/output_image_{i}.png')\n",
    "            save_image_rgb(clear.squeeze(),f'/kaggle/working/{exp_name}/clear_image_{i}.png')\n",
    "        else:\n",
    "            save_image_ycbcr(img_tensor.squeeze(),f'/kaggle/working/{exp_name}/input_image_{i}.png')\n",
    "            save_image_ycbcr(out_tensor.squeeze(),f'/kaggle/working/{exp_name}/output_image_{i}.png')\n",
    "            save_image_ycbcr(clear.squeeze(),f'/kaggle/working/{exp_name}/clear_image_{i}.png')\n",
    "        output_calc_metric=metrics_calculator(f'/kaggle/working/{exp_name}/output_image_{i}.png',\n",
    "                                             f'/kaggle/working/{exp_name}/clear_image_{i}.png')\n",
    "        psnr_data.append(output_calc_metric[0].detach().numpy())\n",
    "        ssim_data.append(output_calc_metric[1].detach().numpy())\n",
    "        i+=1\n",
    "        gc.collect()\n",
    "    \n",
    "    print(f\"Avg Time for {exp_name}: {sum(time_data)/len(time_data)}\")\n",
    "    "
   ]
  },
  {
   "cell_type": "markdown",
   "id": "23c7e387",
   "metadata": {
    "papermill": {
     "duration": 0.008017,
     "end_time": "2024-08-04T16:36:25.648850",
     "exception": false,
     "start_time": "2024-08-04T16:36:25.640833",
     "status": "completed"
    },
    "tags": []
   },
   "source": [
    "## Primary Postprocessing"
   ]
  },
  {
   "cell_type": "code",
   "execution_count": 15,
   "id": "bcbeff47",
   "metadata": {
    "execution": {
     "iopub.execute_input": "2024-08-04T16:36:25.667246Z",
     "iopub.status.busy": "2024-08-04T16:36:25.666864Z",
     "iopub.status.idle": "2024-08-04T16:36:25.676434Z",
     "shell.execute_reply": "2024-08-04T16:36:25.675403Z"
    },
    "papermill": {
     "duration": 0.021521,
     "end_time": "2024-08-04T16:36:25.678719",
     "exception": false,
     "start_time": "2024-08-04T16:36:25.657198",
     "status": "completed"
    },
    "tags": []
   },
   "outputs": [],
   "source": [
    "def unsharp_mask(image,kernel_size=(5,5),sigma=0.4,amount=1.0,threshold=1):\n",
    "    blurred=cv2.GaussianBlur(image,kernel_size,sigma)\n",
    "    sharpened=float(amount+1)*image-float(amount)*blurred\n",
    "    sharpened=np.maximum(sharpened,np.zeros(sharpened.shape))\n",
    "    sharpened=np.minimum(sharpened,255*np.ones(sharpened.shape))\n",
    "    sharpened=sharpened.round().astype(np.uint8)\n",
    "    if threshold>0:\n",
    "        low_contrast_mask=np.absolute(image-blurred)<threshold\n",
    "        np.copyto(sharpened,image,where=low_contrast_mask)\n",
    "    return sharpened\n",
    "\n",
    "def clahe(image):\n",
    "    clahe=cv2.createCLAHE(clipLimit=1,tileGridSize=(2,2))\n",
    "    lab=cv2.cvtColor(image,cv2.COLOR_BGR2LAB)\n",
    "    lab[:,:,0]=clahe.apply(lab[:,:,0])\n",
    "    return cv2.cvtColor(lab, cv2.COLOR_LAB2BGR)\n",
    "\n",
    "def enhance_image(image_path):\n",
    "    image=cv2.imread(image_path)\n",
    "    img=cv2.cvtColor(image, cv2.COLOR_BGR2RGB)\n",
    "    image_sharpened=unsharp_mask(img)\n",
    "    image_clahe=clahe(image_sharpened)\n",
    "    image_tensor=tt.ToTensor()(image_clahe)   \n",
    "    return image_tensor"
   ]
  },
  {
   "cell_type": "code",
   "execution_count": 16,
   "id": "e0fe04ae",
   "metadata": {
    "execution": {
     "iopub.execute_input": "2024-08-04T16:36:25.697693Z",
     "iopub.status.busy": "2024-08-04T16:36:25.697290Z",
     "iopub.status.idle": "2024-08-04T16:36:25.709040Z",
     "shell.execute_reply": "2024-08-04T16:36:25.708057Z"
    },
    "papermill": {
     "duration": 0.024331,
     "end_time": "2024-08-04T16:36:25.711466",
     "exception": false,
     "start_time": "2024-08-04T16:36:25.687135",
     "status": "completed"
    },
    "tags": []
   },
   "outputs": [],
   "source": [
    "def processed_tester(path,exp_name):\n",
    "    psnr_data_raw,ssim_data_raw=[],[]\n",
    "    psnr_data_proc,ssim_data_proc=[],[]\n",
    "    for i in range(len(glob(path+'*.png'))//3):\n",
    "        proc_out_tensor=enhance_image(path+f'output_image_{i}.png')\n",
    "        proc_arr=proc_out_tensor.permute(1,2,0).cpu().detach().numpy()\n",
    "        proc_image=Image.fromarray((np.clip(proc_arr,0,1)*255).astype(np.uint8),mode='RGB')\n",
    "        proc_image.save(path+f'processed_image_{i}.png')       \n",
    "        out_tensor=tt.ToTensor()(cv2.imread(path+f'output_image_{i}.png'))\n",
    "        clear_tensor=tt.ToTensor()(cv2.imread(path+f'clear_image_{i}.png'))\n",
    "        psnr_data_raw.append(psnr_fn(out_tensor,clear_tensor))\n",
    "        psnr_data_proc.append(psnr_fn(proc_out_tensor,clear_tensor))\n",
    "        ssim_data_raw.append(ssim_fn(out_tensor.unsqueeze(0),clear_tensor.unsqueeze(0)))\n",
    "        ssim_data_proc.append(ssim_fn(proc_out_tensor.unsqueeze(0),clear_tensor.unsqueeze(0)))\n",
    "        gc.collect()\n",
    "    print(f\"Avg PSNR Data for {exp_name} Raw: {sum(psnr_data_raw)/len(psnr_data_raw)}\")\n",
    "    print(f\"Avg SSIM Data for {exp_name} Raw: {sum(ssim_data_raw)/len(ssim_data_raw)}\")\n",
    "    print(f\"Avg PSNR Data for {exp_name} Processed: {sum(psnr_data_proc)/len(psnr_data_proc)}\")\n",
    "    print(f\"Avg SSIM Data for {exp_name} Processed: {sum(ssim_data_proc)/len(ssim_data_proc)}\")\n",
    "def evaluation_printer(dehaze_model,exp_name,data_loader,img_format='RGB',mode='sample'):\n",
    "    print(f'----------------{exp_name}-----------------------------')\n",
    "    model_evaluator(dehaze_model,exp_name,data_loader,img_format,mode)\n",
    "    processed_tester(f'/kaggle/working/{exp_name}/',exp_name)\n",
    "    gc.collect()\n",
    "    shutil.make_archive(f'/kaggle/working/{exp_name}','zip',f'/kaggle/working/{exp_name}')\n",
    "    print('\\n')\n",
    "\n",
    "    "
   ]
  },
  {
   "cell_type": "code",
   "execution_count": 17,
   "id": "e3ecfb04",
   "metadata": {
    "execution": {
     "iopub.execute_input": "2024-08-04T16:36:25.731014Z",
     "iopub.status.busy": "2024-08-04T16:36:25.730635Z",
     "iopub.status.idle": "2024-08-04T16:37:48.015172Z",
     "shell.execute_reply": "2024-08-04T16:37:48.013869Z"
    },
    "papermill": {
     "duration": 82.297233,
     "end_time": "2024-08-04T16:37:48.017411",
     "exception": false,
     "start_time": "2024-08-04T16:36:25.720178",
     "status": "completed"
    },
    "tags": []
   },
   "outputs": [
    {
     "name": "stdout",
     "output_type": "stream",
     "text": [
      "----------------Dehazenet_3L_RGB_FFT-----------------------------\n",
      "Avg Time for Dehazenet_3L_RGB_FFT: 0.04374547004699707\n",
      "Avg PSNR Data for Dehazenet_3L_RGB_FFT Raw: 13.652524948120117\n",
      "Avg SSIM Data for Dehazenet_3L_RGB_FFT Raw: 0.6173181533813477\n",
      "Avg PSNR Data for Dehazenet_3L_RGB_FFT Processed: 14.763494491577148\n",
      "Avg SSIM Data for Dehazenet_3L_RGB_FFT Processed: 0.6328158974647522\n",
      "\n",
      "\n",
      "----------------DWT_Dehazenet_RGB_FFT-----------------------------\n",
      "Avg Time for DWT_Dehazenet_RGB_FFT: 0.04293990135192871\n",
      "Avg PSNR Data for DWT_Dehazenet_RGB_FFT Raw: 13.52770709991455\n",
      "Avg SSIM Data for DWT_Dehazenet_RGB_FFT Raw: 0.6198670268058777\n",
      "Avg PSNR Data for DWT_Dehazenet_RGB_FFT Processed: 14.515462875366211\n",
      "Avg SSIM Data for DWT_Dehazenet_RGB_FFT Processed: 0.6338726282119751\n",
      "\n",
      "\n",
      "----------------AODNet_Pretrained-----------------------------\n",
      "Avg Time for AODNet_Pretrained: 0.3241743564605713\n",
      "Avg PSNR Data for AODNet_Pretrained Raw: 12.435722351074219\n",
      "Avg SSIM Data for AODNet_Pretrained Raw: 0.4474562704563141\n",
      "Avg PSNR Data for AODNet_Pretrained Processed: 12.329973220825195\n",
      "Avg SSIM Data for AODNet_Pretrained Processed: 0.46711868047714233\n",
      "\n",
      "\n",
      "----------------DWT_Dehazenet_RGB-----------------------------\n",
      "Avg Time for DWT_Dehazenet_RGB: 0.04434351921081543\n",
      "Avg PSNR Data for DWT_Dehazenet_RGB Raw: 13.971867561340332\n",
      "Avg SSIM Data for DWT_Dehazenet_RGB Raw: 0.5420442819595337\n",
      "Avg PSNR Data for DWT_Dehazenet_RGB Processed: 14.874204635620117\n",
      "Avg SSIM Data for DWT_Dehazenet_RGB Processed: 0.6110288500785828\n",
      "\n",
      "\n",
      "----------------Dehazenet_2L_RGB-----------------------------\n",
      "Avg Time for Dehazenet_2L_RGB: 0.02850179672241211\n",
      "Avg PSNR Data for Dehazenet_2L_RGB Raw: 13.836158752441406\n",
      "Avg SSIM Data for Dehazenet_2L_RGB Raw: 0.5492223501205444\n",
      "Avg PSNR Data for Dehazenet_2L_RGB Processed: 14.678677558898926\n",
      "Avg SSIM Data for Dehazenet_2L_RGB Processed: 0.6193143725395203\n",
      "\n",
      "\n",
      "----------------PONO_Dehazenet_RGB_FFT-----------------------------\n",
      "Avg Time for PONO_Dehazenet_RGB_FFT: 0.05442805290222168\n",
      "Avg PSNR Data for PONO_Dehazenet_RGB_FFT Raw: 13.34577465057373\n",
      "Avg SSIM Data for PONO_Dehazenet_RGB_FFT Raw: 0.5652128458023071\n",
      "Avg PSNR Data for PONO_Dehazenet_RGB_FFT Processed: 14.091943740844727\n",
      "Avg SSIM Data for PONO_Dehazenet_RGB_FFT Processed: 0.5900193452835083\n",
      "\n",
      "\n",
      "----------------ComplexNet_3L_RGB-----------------------------\n",
      "Avg Time for ComplexNet_3L_RGB: 1.8820425033569337\n",
      "Avg PSNR Data for ComplexNet_3L_RGB Raw: 11.126222610473633\n",
      "Avg SSIM Data for ComplexNet_3L_RGB Raw: 0.6463640928268433\n",
      "Avg PSNR Data for ComplexNet_3L_RGB Processed: 13.088340759277344\n",
      "Avg SSIM Data for ComplexNet_3L_RGB Processed: 0.6714917421340942\n",
      "\n",
      "\n",
      "----------------DWT_Dehazenet_YCbCr_3L-----------------------------\n",
      "Avg Time for DWT_Dehazenet_YCbCr_3L: 0.044678020477294925\n",
      "Avg PSNR Data for DWT_Dehazenet_YCbCr_3L Raw: 12.693563461303711\n",
      "Avg SSIM Data for DWT_Dehazenet_YCbCr_3L Raw: 0.5338877439498901\n",
      "Avg PSNR Data for DWT_Dehazenet_YCbCr_3L Processed: 13.342199325561523\n",
      "Avg SSIM Data for DWT_Dehazenet_YCbCr_3L Processed: 0.5703774094581604\n",
      "\n",
      "\n",
      "----------------DWT_Dehazenet_YCbCr-----------------------------\n",
      "Avg Time for DWT_Dehazenet_YCbCr: 0.03995389938354492\n",
      "Avg PSNR Data for DWT_Dehazenet_YCbCr Raw: 13.83124828338623\n",
      "Avg SSIM Data for DWT_Dehazenet_YCbCr Raw: 0.44310927391052246\n",
      "Avg PSNR Data for DWT_Dehazenet_YCbCr Processed: 14.364553451538086\n",
      "Avg SSIM Data for DWT_Dehazenet_YCbCr Processed: 0.44409435987472534\n",
      "\n",
      "\n",
      "----------------AODNet_MSE_YCbCr-----------------------------\n",
      "Avg Time for AODNet_MSE_YCbCr: 0.015183830261230468\n",
      "Avg PSNR Data for AODNet_MSE_YCbCr Raw: 13.616223335266113\n",
      "Avg SSIM Data for AODNet_MSE_YCbCr Raw: 0.43785157799720764\n",
      "Avg PSNR Data for AODNet_MSE_YCbCr Processed: 14.06053352355957\n",
      "Avg SSIM Data for AODNet_MSE_YCbCr Processed: 0.43329063057899475\n",
      "\n",
      "\n",
      "----------------AODNet_2L_YCbCr-----------------------------\n",
      "Avg Time for AODNet_2L_YCbCr: 0.015010881423950195\n",
      "Avg PSNR Data for AODNet_2L_YCbCr Raw: 13.556007385253906\n",
      "Avg SSIM Data for AODNet_2L_YCbCr Raw: 0.47135990858078003\n",
      "Avg PSNR Data for AODNet_2L_YCbCr Processed: 14.319875717163086\n",
      "Avg SSIM Data for AODNet_2L_YCbCr Processed: 0.4904525876045227\n",
      "\n",
      "\n",
      "----------------AODNet_3L_YCbCr-----------------------------\n",
      "Avg Time for AODNet_3L_YCbCr: 0.014996767044067383\n",
      "Avg PSNR Data for AODNet_3L_YCbCr Raw: 8.15013313293457\n",
      "Avg SSIM Data for AODNet_3L_YCbCr Raw: 0.2655927240848541\n",
      "Avg PSNR Data for AODNet_3L_YCbCr Processed: 8.089570999145508\n",
      "Avg SSIM Data for AODNet_3L_YCbCr Processed: 0.2655467689037323\n",
      "\n",
      "\n",
      "----------------Dehazenet_2L_YCbCr-----------------------------\n",
      "Avg Time for Dehazenet_2L_YCbCr: 0.0240786075592041\n",
      "Avg PSNR Data for Dehazenet_2L_YCbCr Raw: 13.75445556640625\n",
      "Avg SSIM Data for Dehazenet_2L_YCbCr Raw: 0.47996383905410767\n",
      "Avg PSNR Data for Dehazenet_2L_YCbCr Processed: 14.55194091796875\n",
      "Avg SSIM Data for Dehazenet_2L_YCbCr Processed: 0.4985447824001312\n",
      "\n",
      "\n",
      "----------------ComplexNet_3L_YCbCr-----------------------------\n",
      "Avg Time for ComplexNet_3L_YCbCr: 0.8213738441467285\n",
      "Avg PSNR Data for ComplexNet_3L_YCbCr Raw: 10.08460807800293\n",
      "Avg SSIM Data for ComplexNet_3L_YCbCr Raw: 0.594987690448761\n",
      "Avg PSNR Data for ComplexNet_3L_YCbCr Processed: 11.764059066772461\n",
      "Avg SSIM Data for ComplexNet_3L_YCbCr Processed: 0.6156589984893799\n",
      "\n",
      "\n"
     ]
    }
   ],
   "source": [
    "evaluation_printer(dehazenet_rgb_fft,'Dehazenet_3L_RGB_FFT',test_sample_loader_rgb,'RGB')\n",
    "evaluation_printer(dwt_dehazenet_rgb_fft,'DWT_Dehazenet_RGB_FFT',test_sample_loader_rgb,'RGB')\n",
    "evaluation_printer(aod_pretrained,'AODNet_Pretrained',test_sample_loader_rgb,'RGB')\n",
    "evaluation_printer(dwt_dehazenet_rgb,'DWT_Dehazenet_RGB',test_sample_loader_rgb,'RGB')\n",
    "evaluation_printer(dehazenet_rgb,'Dehazenet_2L_RGB',test_sample_loader_rgb,'RGB')\n",
    "evaluation_printer(dehazenet_pono_fft,'PONO_Dehazenet_RGB_FFT',test_sample_loader_rgb,'RGB')\n",
    "evaluation_printer(complexnet_rgb,'ComplexNet_3L_RGB',test_sample_loader_rgb,'RGB')\n",
    "\n",
    "\n",
    "evaluation_printer(dwt_dehazenet_ycbcr_3l,'DWT_Dehazenet_YCbCr_3L',test_sample_loader_ycbcr,'YCBCR')\n",
    "evaluation_printer(dwt_dehazenet_ycbcr,'DWT_Dehazenet_YCbCr',test_sample_loader_ycbcr,'YCBCR')\n",
    "evaluation_printer(aod_ycbcr_mse,'AODNet_MSE_YCbCr',test_sample_loader_ycbcr,'YCBCR')\n",
    "evaluation_printer(aod_ycbcr_l2,'AODNet_2L_YCbCr',test_sample_loader_ycbcr,'YCBCR')\n",
    "evaluation_printer(aod_ycbcr_3l,'AODNet_3L_YCbCr',test_sample_loader_ycbcr,'YCBCR')\n",
    "evaluation_printer(dehazenet_ycbcr,'Dehazenet_2L_YCbCr',test_sample_loader_ycbcr,'YCBCR')\n",
    "evaluation_printer(complexnet_ycbcr,'ComplexNet_3L_YCbCr',test_sample_loader_ycbcr,'YCBCR')\n"
   ]
  },
  {
   "cell_type": "code",
   "execution_count": 18,
   "id": "b423576b",
   "metadata": {
    "execution": {
     "iopub.execute_input": "2024-08-04T16:37:48.041558Z",
     "iopub.status.busy": "2024-08-04T16:37:48.041151Z",
     "iopub.status.idle": "2024-08-04T18:20:41.439406Z",
     "shell.execute_reply": "2024-08-04T18:20:41.437966Z"
    },
    "papermill": {
     "duration": 6173.413588,
     "end_time": "2024-08-04T18:20:41.442332",
     "exception": false,
     "start_time": "2024-08-04T16:37:48.028744",
     "status": "completed"
    },
    "tags": []
   },
   "outputs": [
    {
     "name": "stdout",
     "output_type": "stream",
     "text": [
      "----------------Dehazenet_3L_RGB_FFT_Test-----------------------------\n",
      "Avg Time for Dehazenet_3L_RGB_FFT_Test: 0.027318309820615328\n",
      "Avg PSNR Data for Dehazenet_3L_RGB_FFT_Test Raw: 12.593730926513672\n",
      "Avg SSIM Data for Dehazenet_3L_RGB_FFT_Test Raw: 0.6547240614891052\n",
      "Avg PSNR Data for Dehazenet_3L_RGB_FFT_Test Processed: 12.936782836914062\n",
      "Avg SSIM Data for Dehazenet_3L_RGB_FFT_Test Processed: 0.6025488376617432\n",
      "\n",
      "\n",
      "----------------DWT_Dehazenet_RGB_FFT_Test-----------------------------\n",
      "Avg Time for DWT_Dehazenet_RGB_FFT_Test: 0.03966274123925429\n",
      "Avg PSNR Data for DWT_Dehazenet_RGB_FFT_Test Raw: 12.429469108581543\n",
      "Avg SSIM Data for DWT_Dehazenet_RGB_FFT_Test Raw: 0.6580450534820557\n",
      "Avg PSNR Data for DWT_Dehazenet_RGB_FFT_Test Processed: 12.837409019470215\n",
      "Avg SSIM Data for DWT_Dehazenet_RGB_FFT_Test Processed: 0.6074617505073547\n",
      "\n",
      "\n",
      "----------------AODNet_Pretrained_Test-----------------------------\n",
      "Avg Time for AODNet_Pretrained_Test: 0.3293459919782785\n",
      "Avg PSNR Data for AODNet_Pretrained_Test Raw: 11.285662651062012\n",
      "Avg SSIM Data for AODNet_Pretrained_Test Raw: 0.567654013633728\n",
      "Avg PSNR Data for AODNet_Pretrained_Test Processed: 10.987275123596191\n",
      "Avg SSIM Data for AODNet_Pretrained_Test Processed: 0.5252479910850525\n",
      "\n",
      "\n",
      "----------------DWT_Dehazenet_RGB_Test-----------------------------\n",
      "Avg Time for DWT_Dehazenet_RGB_Test: 0.041229142134006205\n",
      "Avg PSNR Data for DWT_Dehazenet_RGB_Test Raw: 13.336014747619629\n",
      "Avg SSIM Data for DWT_Dehazenet_RGB_Test Raw: 0.660935640335083\n",
      "Avg PSNR Data for DWT_Dehazenet_RGB_Test Processed: 13.718467712402344\n",
      "Avg SSIM Data for DWT_Dehazenet_RGB_Test Processed: 0.6499157547950745\n",
      "\n",
      "\n",
      "----------------Dehazenet_2L_RGB_Test-----------------------------\n",
      "Avg Time for Dehazenet_2L_RGB_Test: 0.026874860891929038\n",
      "Avg PSNR Data for Dehazenet_2L_RGB_Test Raw: 13.309735298156738\n",
      "Avg SSIM Data for Dehazenet_2L_RGB_Test Raw: 0.6668444275856018\n",
      "Avg PSNR Data for Dehazenet_2L_RGB_Test Processed: 13.684473991394043\n",
      "Avg SSIM Data for Dehazenet_2L_RGB_Test Processed: 0.6527342200279236\n",
      "\n",
      "\n",
      "----------------PONO_Dehazenet_RGB_FFT_Test-----------------------------\n",
      "Avg Time for PONO_Dehazenet_RGB_FFT_Test: 0.05014868974685669\n",
      "Avg PSNR Data for PONO_Dehazenet_RGB_FFT_Test Raw: 12.57281494140625\n",
      "Avg SSIM Data for PONO_Dehazenet_RGB_FFT_Test Raw: 0.6387034058570862\n",
      "Avg PSNR Data for PONO_Dehazenet_RGB_FFT_Test Processed: 12.889942169189453\n",
      "Avg SSIM Data for PONO_Dehazenet_RGB_FFT_Test Processed: 0.591576874256134\n",
      "\n",
      "\n",
      "----------------ComplexNet_3L_RGB_Test-----------------------------\n",
      "Avg Time for ComplexNet_3L_RGB_Test: 1.8384184048726009\n",
      "Avg PSNR Data for ComplexNet_3L_RGB_Test Raw: 10.661432266235352\n",
      "Avg SSIM Data for ComplexNet_3L_RGB_Test Raw: 0.6308268308639526\n",
      "Avg PSNR Data for ComplexNet_3L_RGB_Test Processed: 11.986456871032715\n",
      "Avg SSIM Data for ComplexNet_3L_RGB_Test Processed: 0.629330575466156\n",
      "\n",
      "\n",
      "----------------DWT_Dehazenet_YCbCr_3L_Test-----------------------------\n",
      "Avg Time for DWT_Dehazenet_YCbCr_3L_Test: 0.03958196227367108\n",
      "Avg PSNR Data for DWT_Dehazenet_YCbCr_3L_Test Raw: 12.181334495544434\n",
      "Avg SSIM Data for DWT_Dehazenet_YCbCr_3L_Test Raw: 0.6147100925445557\n",
      "Avg PSNR Data for DWT_Dehazenet_YCbCr_3L_Test Processed: 12.706689834594727\n",
      "Avg SSIM Data for DWT_Dehazenet_YCbCr_3L_Test Processed: 0.5771797895431519\n",
      "\n",
      "\n",
      "----------------DWT_Dehazenet_YCbCr_Test-----------------------------\n",
      "Avg Time for DWT_Dehazenet_YCbCr_Test: 0.040549548314167905\n",
      "Avg PSNR Data for DWT_Dehazenet_YCbCr_Test Raw: 13.115728378295898\n",
      "Avg SSIM Data for DWT_Dehazenet_YCbCr_Test Raw: 0.5967152118682861\n",
      "Avg PSNR Data for DWT_Dehazenet_YCbCr_Test Processed: 13.494155883789062\n",
      "Avg SSIM Data for DWT_Dehazenet_YCbCr_Test Processed: 0.5612449049949646\n",
      "\n",
      "\n",
      "----------------AODNet_MSE_YCbCr_Test-----------------------------\n",
      "Avg Time for AODNet_MSE_YCbCr_Test: 0.015513210113231953\n",
      "Avg PSNR Data for AODNet_MSE_YCbCr_Test Raw: 13.322271347045898\n",
      "Avg SSIM Data for AODNet_MSE_YCbCr_Test Raw: 0.5859599709510803\n",
      "Avg PSNR Data for AODNet_MSE_YCbCr_Test Processed: 13.371471405029297\n",
      "Avg SSIM Data for AODNet_MSE_YCbCr_Test Processed: 0.5495510101318359\n",
      "\n",
      "\n",
      "----------------AODNet_2L_YCbCr_Test-----------------------------\n",
      "Avg Time for AODNet_2L_YCbCr_Test: 0.015339164550487812\n",
      "Avg PSNR Data for AODNet_2L_YCbCr_Test Raw: 13.10838794708252\n",
      "Avg SSIM Data for AODNet_2L_YCbCr_Test Raw: 0.6134709119796753\n",
      "Avg PSNR Data for AODNet_2L_YCbCr_Test Processed: 13.552018165588379\n",
      "Avg SSIM Data for AODNet_2L_YCbCr_Test Processed: 0.5939016938209534\n",
      "\n",
      "\n",
      "----------------AODNet_3L_YCbCr_Test-----------------------------\n",
      "Avg Time for AODNet_3L_YCbCr_Test: 0.015261932978263268\n",
      "Avg PSNR Data for AODNet_3L_YCbCr_Test Raw: 7.573491096496582\n",
      "Avg SSIM Data for AODNet_3L_YCbCr_Test Raw: 0.30649471282958984\n",
      "Avg PSNR Data for AODNet_3L_YCbCr_Test Processed: 7.414553165435791\n",
      "Avg SSIM Data for AODNet_3L_YCbCr_Test Processed: 0.3065011501312256\n",
      "\n",
      "\n",
      "----------------Dehazenet_2L_YCbCr_Test-----------------------------\n",
      "Avg Time for Dehazenet_2L_YCbCr_Test: 0.023169556947854848\n",
      "Avg PSNR Data for Dehazenet_2L_YCbCr_Test Raw: 13.083793640136719\n",
      "Avg SSIM Data for Dehazenet_2L_YCbCr_Test Raw: 0.6155655384063721\n",
      "Avg PSNR Data for Dehazenet_2L_YCbCr_Test Processed: 13.539216995239258\n",
      "Avg SSIM Data for Dehazenet_2L_YCbCr_Test Processed: 0.5936833024024963\n",
      "\n",
      "\n",
      "----------------ComplexNet_3L_YCbCr_Test-----------------------------\n",
      "Avg Time for ComplexNet_3L_YCbCr_Test: 0.7339723509091597\n",
      "Avg PSNR Data for ComplexNet_3L_YCbCr_Test Raw: 9.697395324707031\n",
      "Avg SSIM Data for ComplexNet_3L_YCbCr_Test Raw: 0.5973102450370789\n",
      "Avg PSNR Data for ComplexNet_3L_YCbCr_Test Processed: 11.221059799194336\n",
      "Avg SSIM Data for ComplexNet_3L_YCbCr_Test Processed: 0.5790996551513672\n",
      "\n",
      "\n"
     ]
    }
   ],
   "source": [
    "evaluation_printer(dehazenet_rgb_fft,'Dehazenet_3L_RGB_FFT_Test',test_loader_rgb,'RGB','Test')\n",
    "evaluation_printer(dwt_dehazenet_rgb_fft,'DWT_Dehazenet_RGB_FFT_Test',test_loader_rgb,'RGB','Test')\n",
    "evaluation_printer(aod_pretrained,'AODNet_Pretrained_Test',test_loader_rgb,'RGB','Test')\n",
    "evaluation_printer(dwt_dehazenet_rgb,'DWT_Dehazenet_RGB_Test',test_loader_rgb,'RGB','Test')\n",
    "evaluation_printer(dehazenet_rgb,'Dehazenet_2L_RGB_Test',test_loader_rgb,'RGB','Test')\n",
    "evaluation_printer(dehazenet_pono_fft,'PONO_Dehazenet_RGB_FFT_Test',test_loader_rgb,'RGB','Test')\n",
    "evaluation_printer(complexnet_rgb,'ComplexNet_3L_RGB_Test',test_loader_rgb,'RGB','Test')\n",
    "\n",
    "\n",
    "evaluation_printer(dwt_dehazenet_ycbcr_3l,'DWT_Dehazenet_YCbCr_3L_Test',test_loader_ycbcr,'YCBCR','Test')\n",
    "evaluation_printer(dwt_dehazenet_ycbcr,'DWT_Dehazenet_YCbCr_Test',test_loader_ycbcr,'YCBCR','Test')\n",
    "evaluation_printer(aod_ycbcr_mse,'AODNet_MSE_YCbCr_Test',test_loader_ycbcr,'YCBCR','Test')\n",
    "evaluation_printer(aod_ycbcr_l2,'AODNet_2L_YCbCr_Test',test_loader_ycbcr,'YCBCR','Test')\n",
    "evaluation_printer(aod_ycbcr_3l,'AODNet_3L_YCbCr_Test',test_loader_ycbcr,'YCBCR','Test')\n",
    "evaluation_printer(dehazenet_ycbcr,'Dehazenet_2L_YCbCr_Test',test_loader_ycbcr,'YCBCR','Test')\n",
    "evaluation_printer(complexnet_ycbcr,'ComplexNet_3L_YCbCr_Test',test_loader_ycbcr,'YCBCR','Test')\n"
   ]
  },
  {
   "cell_type": "markdown",
   "id": "d317369b",
   "metadata": {
    "papermill": {
     "duration": 0.013766,
     "end_time": "2024-08-04T18:20:41.470563",
     "exception": false,
     "start_time": "2024-08-04T18:20:41.456797",
     "status": "completed"
    },
    "tags": []
   },
   "source": [
    "## Image weighted addition"
   ]
  },
  {
   "cell_type": "code",
   "execution_count": 19,
   "id": "3f015552",
   "metadata": {
    "execution": {
     "iopub.execute_input": "2024-08-04T18:20:41.501109Z",
     "iopub.status.busy": "2024-08-04T18:20:41.500698Z",
     "iopub.status.idle": "2024-08-04T18:20:41.516139Z",
     "shell.execute_reply": "2024-08-04T18:20:41.514987Z"
    },
    "papermill": {
     "duration": 0.033894,
     "end_time": "2024-08-04T18:20:41.518351",
     "exception": false,
     "start_time": "2024-08-04T18:20:41.484457",
     "status": "completed"
    },
    "tags": []
   },
   "outputs": [],
   "source": [
    "def alpha_blending_fn(image1,image2,alpha=0.6):\n",
    "    blended=cv2.addWeighted(image1, alpha, image2, 1 - alpha, 4)\n",
    "    return blended\n",
    "\n",
    "def image_addition(coeff,img_path1,img_path2,clear_path):\n",
    "    img1=cv2.cvtColor(cv2.imread(img_path1),cv2.COLOR_BGR2RGB)\n",
    "    img2=cv2.cvtColor(cv2.imread(img_path2),cv2.COLOR_BGR2RGB)\n",
    "    clear_img=tt.ToTensor()(cv2.cvtColor(cv2.imread(clear_path),cv2.COLOR_BGR2RGB))\n",
    "    img_f=tt.ToTensor()(alpha_blending_fn(img1,img2))    \n",
    "    psnr_value=psnr_fn(img_f,clear_img)\n",
    "    ssim_value=ssim_fn(img_f.unsqueeze(0),clear_img.unsqueeze(0))\n",
    "    return psnr_value,ssim_value,img_f\n",
    "def list_avg(li):\n",
    "    return sum(li)/len(li)\n",
    "def addn_exp(exp_name1,exp_name2):\n",
    "    coeffs=[i/10 for i in range(10)]\n",
    "    coeff_dict={}\n",
    "    path1=f'/kaggle/working/{exp_name1}/'\n",
    "    path2=f'/kaggle/working/{exp_name2}/'\n",
    "    for coeff in coeffs:\n",
    "        psnr_data_proc,ssim_data_proc=[],[]\n",
    "        psnr_data_raw,ssim_data_raw=[],[]\n",
    "        psnr_data_c1,ssim_data_c1=[],[]\n",
    "        psnr_data_c2,ssim_data_c2=[],[]\n",
    "        for i in range(len(glob(path1+'*.png'))//4):\n",
    "            output_img_path1=path1+f'output_image_{i}.png'\n",
    "            clear_img_path=path1+f'clear_image_{i}.png'\n",
    "            processed_img_path1=path1+f'processed_image_{i}.png'\n",
    "            output_img_path2=path2+f'output_image_{i}.png'\n",
    "            processed_img_path2=path2+f'processed_image_{i}.png'\n",
    "            \n",
    "            raw_metrics=image_addition(coeff,output_img_path1,output_img_path2,clear_img_path)\n",
    "            proc_metrics=image_addition(coeff,processed_img_path1,processed_img_path2,clear_img_path)\n",
    "            c1_metrics=image_addition(coeff,processed_img_path1,output_img_path2,clear_img_path)\n",
    "            c2_metrics=image_addition(coeff,output_img_path1,processed_img_path2,clear_img_path)\n",
    "            \n",
    "            psnr_data_proc.append(proc_metrics[0])\n",
    "            ssim_data_proc.append(proc_metrics[1])\n",
    "            psnr_data_raw.append(raw_metrics[0])\n",
    "            ssim_data_raw.append(raw_metrics[1])\n",
    "            psnr_data_c1.append(c1_metrics[0])\n",
    "            ssim_data_c1.append(c1_metrics[1])\n",
    "            psnr_data_c2.append(c2_metrics[0])\n",
    "            ssim_data_c2.append(c2_metrics[1])\n",
    "        coeff_dict[coeff]=[[list_avg(psnr_data_raw),list_avg(ssim_data_raw),],\n",
    "                           [list_avg(psnr_data_proc),list_avg(ssim_data_proc)],\n",
    "                          [list_avg(psnr_data_c1),list_avg(ssim_data_c1)],\n",
    "                          [list_avg(psnr_data_c2),list_avg(ssim_data_c2)]]\n",
    "        gc.collect()\n",
    "    return coeff_dict\n",
    "\n",
    "#addn_exp('Dehazenet_2L_RGB_Test','DWT_Dehazenet_RGB_Test')\n",
    "        \n",
    "            \n",
    "            "
   ]
  },
  {
   "cell_type": "code",
   "execution_count": 20,
   "id": "e4312392",
   "metadata": {
    "execution": {
     "iopub.execute_input": "2024-08-04T18:20:41.548661Z",
     "iopub.status.busy": "2024-08-04T18:20:41.547671Z",
     "iopub.status.idle": "2024-08-04T18:20:41.554119Z",
     "shell.execute_reply": "2024-08-04T18:20:41.553060Z"
    },
    "papermill": {
     "duration": 0.023811,
     "end_time": "2024-08-04T18:20:41.556275",
     "exception": false,
     "start_time": "2024-08-04T18:20:41.532464",
     "status": "completed"
    },
    "tags": []
   },
   "outputs": [],
   "source": [
    "def save_image_final(img_tensor,file_path):\n",
    "    if img_tensor.shape[0]!=3:\n",
    "        raise ValueError(\"Input tensor must have 3 channels only...\")\n",
    "    rgb_array=img_tensor.permute(1,2,0).cpu().detach().numpy()\n",
    "    rgb_image=Image.fromarray((np.clip(rgb_array,0,1)*255).astype(np.uint8),mode='RGB')\n",
    "    rgb_image.save(file_path)"
   ]
  },
  {
   "cell_type": "markdown",
   "id": "44399bee",
   "metadata": {
    "papermill": {
     "duration": 0.013491,
     "end_time": "2024-08-04T18:20:41.583826",
     "exception": false,
     "start_time": "2024-08-04T18:20:41.570335",
     "status": "completed"
    },
    "tags": []
   },
   "source": [
    "## Performing Alpha Blending"
   ]
  },
  {
   "cell_type": "code",
   "execution_count": 21,
   "id": "4a732b08",
   "metadata": {
    "execution": {
     "iopub.execute_input": "2024-08-04T18:20:41.613797Z",
     "iopub.status.busy": "2024-08-04T18:20:41.612846Z",
     "iopub.status.idle": "2024-08-04T18:43:01.491564Z",
     "shell.execute_reply": "2024-08-04T18:43:01.490483Z"
    },
    "papermill": {
     "duration": 1339.896267,
     "end_time": "2024-08-04T18:43:01.494018",
     "exception": false,
     "start_time": "2024-08-04T18:20:41.597751",
     "status": "completed"
    },
    "tags": []
   },
   "outputs": [
    {
     "name": "stdout",
     "output_type": "stream",
     "text": [
      "tensor(15.1650) tensor(0.7176)\n",
      "tensor(15.1012) tensor(0.6353)\n"
     ]
    }
   ],
   "source": [
    "def final_merge(exp_name1,exp_name2,coeff=0.9):\n",
    "    os.makedirs(f'/kaggle/working/{exp_name1+exp_name2}',exist_ok=True)\n",
    "    path1=f'/kaggle/working/{exp_name1}/'\n",
    "    path2=f'/kaggle/working/{exp_name2}/'\n",
    "    final_psnr,final_ssim=[],[]\n",
    "    for i in range(len(glob(path1+'*.png'))//4):\n",
    "            output_img_path1=path1+f'output_image_{i}.png'\n",
    "            clear_img_path=path1+f'clear_image_{i}.png'\n",
    "            processed_img_path1=path1+f'processed_image_{i}.png'\n",
    "            output_img_path2=path2+f'output_image_{i}.png'\n",
    "            processed_img_path2=path2+f'processed_image_{i}.png'\n",
    "            exp_outputs=image_addition(coeff,processed_img_path1,processed_img_path2,clear_img_path)\n",
    "            final_psnr.append(exp_outputs[0])\n",
    "            final_ssim.append(exp_outputs[1])\n",
    "            clear_img_tensor=tt.ToTensor()(cv2.cvtColor(cv2.imread(clear_img_path),cv2.COLOR_BGR2RGB))\n",
    "            save_image_final(exp_outputs[2].squeeze(),f'/kaggle/working/{exp_name1+exp_name2}/merged_image_{i}.png')\n",
    "            save_image_final(clear_img_tensor.squeeze(),f'/kaggle/working/{exp_name1+exp_name2}/clear_image_{i}.png')\n",
    "            shutil.make_archive(f'/kaggle/working/{exp_name1+exp_name2}','zip',f'/kaggle/working/{exp_name1+exp_name2}')\n",
    "            gc.collect()\n",
    "    print(list_avg(final_psnr),list_avg(final_ssim))\n",
    "\n",
    "final_merge('Dehazenet_2L_RGB_Test','DWT_Dehazenet_RGB_Test',0.6)\n",
    "final_merge('Dehazenet_2L_RGB','DWT_Dehazenet_RGB',0.6)\n",
    "\n",
    "    "
   ]
  },
  {
   "cell_type": "markdown",
   "id": "adfdecdd",
   "metadata": {
    "papermill": {
     "duration": 0.014392,
     "end_time": "2024-08-04T18:43:01.523465",
     "exception": false,
     "start_time": "2024-08-04T18:43:01.509073",
     "status": "completed"
    },
    "tags": []
   },
   "source": [
    "## Postprocessing after Blending"
   ]
  },
  {
   "cell_type": "code",
   "execution_count": 22,
   "id": "5ccc85ac",
   "metadata": {
    "execution": {
     "iopub.execute_input": "2024-08-04T18:43:01.553197Z",
     "iopub.status.busy": "2024-08-04T18:43:01.552818Z",
     "iopub.status.idle": "2024-08-04T18:47:08.380087Z",
     "shell.execute_reply": "2024-08-04T18:47:08.378898Z"
    },
    "papermill": {
     "duration": 246.845006,
     "end_time": "2024-08-04T18:47:08.382496",
     "exception": false,
     "start_time": "2024-08-04T18:43:01.537490",
     "status": "completed"
    },
    "tags": []
   },
   "outputs": [
    {
     "name": "stdout",
     "output_type": "stream",
     "text": [
      "tensor(15.8543) tensor(0.6613)\n",
      "tensor(15.3281) tensor(0.5469)\n"
     ]
    }
   ],
   "source": [
    "def enhance_image_merged(image_path):\n",
    "    image=cv2.imread(image_path)\n",
    "    img=cv2.cvtColor(image, cv2.COLOR_BGR2RGB)\n",
    "    img2=cv2.fastNlMeansDenoisingColored(img,None,10,10,3,21)\n",
    "    image_sharpened=unsharp_mask(img2)\n",
    "    image_clahe=clahe(image_sharpened)\n",
    "    image_tensor=tt.ToTensor()(image_clahe)   \n",
    "    return image_tensor\n",
    "def final_image_processor(img_path,clear_img_path):\n",
    "    img_tensor=enhance_image_merged(img_path)\n",
    "    clear_img=tt.ToTensor()(cv2.cvtColor(cv2.imread(clear_img_path),cv2.COLOR_BGR2RGB))\n",
    "    psnr_value=psnr_fn(img_tensor,clear_img)\n",
    "    ssim_value=ssim_fn(img_tensor.unsqueeze(0),clear_img.unsqueeze(0))\n",
    "    return psnr_value,ssim_value,img_tensor\n",
    "\n",
    "def proc_final_merge(exp_name,proc_path):\n",
    "    os.makedirs(f'/kaggle/working/{exp_name}',exist_ok=True)\n",
    "    path1=f'/kaggle/working/{proc_path}/'\n",
    "    final_psnr,final_ssim=[],[]\n",
    "    for i in range(len(glob(path1+'*.png'))//2):\n",
    "            inp_img_path1=path1+f'merged_image_{i}.png'\n",
    "            clear_img_path=path1+f'clear_image_{i}.png'\n",
    "            exp_outputs=final_image_processor(inp_img_path1,clear_img_path)\n",
    "            final_psnr.append(exp_outputs[0])\n",
    "            final_ssim.append(exp_outputs[1])\n",
    "            clear_img_tensor=tt.ToTensor()(cv2.cvtColor(cv2.imread(clear_img_path),cv2.COLOR_BGR2RGB))\n",
    "            save_image_final(exp_outputs[2].squeeze(),f'/kaggle/working/{exp_name}/final_merged_image_{i}.png')\n",
    "            save_image_final(clear_img_tensor.squeeze(),f'/kaggle/working/{exp_name}/clear_image_{i}.png')\n",
    "            gc.collect()\n",
    "    shutil.make_archive(f'/kaggle/working/{exp_name}','zip',f'/kaggle/working/{exp_name}')\n",
    "    print(list_avg(final_psnr),list_avg(final_ssim))\n",
    "proc_final_merge('Final_Processed_Test','Dehazenet_2L_RGB_TestDWT_Dehazenet_RGB_Test')\n",
    "proc_final_merge('Final_Processed','Dehazenet_2L_RGBDWT_Dehazenet_RGB')\n",
    "    "
   ]
  }
 ],
 "metadata": {
  "kaggle": {
   "accelerator": "none",
   "dataSources": [
    {
     "datasetId": 5101434,
     "sourceId": 8729607,
     "sourceType": "datasetVersion"
    },
    {
     "datasetId": 5239863,
     "sourceId": 8857586,
     "sourceType": "datasetVersion"
    }
   ],
   "dockerImageVersionId": 30732,
   "isGpuEnabled": false,
   "isInternetEnabled": true,
   "language": "python",
   "sourceType": "notebook"
  },
  "kernelspec": {
   "display_name": "Python 3",
   "language": "python",
   "name": "python3"
  },
  "language_info": {
   "codemirror_mode": {
    "name": "ipython",
    "version": 3
   },
   "file_extension": ".py",
   "mimetype": "text/x-python",
   "name": "python",
   "nbconvert_exporter": "python",
   "pygments_lexer": "ipython3",
   "version": "3.10.13"
  },
  "papermill": {
   "default_parameters": {},
   "duration": 8023.120282,
   "end_time": "2024-08-04T18:49:38.958967",
   "environment_variables": {},
   "exception": null,
   "input_path": "__notebook__.ipynb",
   "output_path": "__notebook__.ipynb",
   "parameters": {},
   "start_time": "2024-08-04T16:35:55.838685",
   "version": "2.5.0"
  }
 },
 "nbformat": 4,
 "nbformat_minor": 5
}
