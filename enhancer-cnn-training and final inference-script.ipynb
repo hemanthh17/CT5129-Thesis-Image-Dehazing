{
 "cells": [
  {
   "cell_type": "markdown",
   "id": "dfd75a2b",
   "metadata": {},
   "source": [
    "# Enhancer CNN Training and Inference\n",
    "## Importing Libraries and training the model"
   ]
  },
  {
   "cell_type": "code",
   "execution_count": 1,
   "id": "0c8aac6b",
   "metadata": {
    "_cell_guid": "b1076dfc-b9ad-4769-8c92-a6c4dae69d19",
    "_uuid": "8f2839f25d086af736a60e9eeb907d3b93b6e0e5",
    "execution": {
     "iopub.execute_input": "2024-08-04T13:21:10.035698Z",
     "iopub.status.busy": "2024-08-04T13:21:10.035414Z",
     "iopub.status.idle": "2024-08-04T13:23:43.562766Z",
     "shell.execute_reply": "2024-08-04T13:23:43.561785Z"
    },
    "papermill": {
     "duration": 153.533222,
     "end_time": "2024-08-04T13:23:43.564922",
     "exception": false,
     "start_time": "2024-08-04T13:21:10.031700",
     "status": "completed"
    },
    "tags": []
   },
   "outputs": [
    {
     "name": "stderr",
     "output_type": "stream",
     "text": [
      "  5%|▌         | 1/20 [00:12<04:05, 12.94s/it]"
     ]
    },
    {
     "name": "stdout",
     "output_type": "stream",
     "text": [
      "Epoch [1/20]\n"
     ]
    },
    {
     "name": "stderr",
     "output_type": "stream",
     "text": [
      " 10%|█         | 2/20 [00:20<02:54,  9.71s/it]"
     ]
    },
    {
     "name": "stdout",
     "output_type": "stream",
     "text": [
      "Epoch [2/20]\n"
     ]
    },
    {
     "name": "stderr",
     "output_type": "stream",
     "text": [
      " 15%|█▌        | 3/20 [00:27<02:24,  8.50s/it]"
     ]
    },
    {
     "name": "stdout",
     "output_type": "stream",
     "text": [
      "Epoch [3/20]\n"
     ]
    },
    {
     "name": "stderr",
     "output_type": "stream",
     "text": [
      " 20%|██        | 4/20 [00:34<02:05,  7.86s/it]"
     ]
    },
    {
     "name": "stdout",
     "output_type": "stream",
     "text": [
      "Epoch [4/20]\n"
     ]
    },
    {
     "name": "stderr",
     "output_type": "stream",
     "text": [
      " 25%|██▌       | 5/20 [00:41<01:52,  7.50s/it]"
     ]
    },
    {
     "name": "stdout",
     "output_type": "stream",
     "text": [
      "Epoch [5/20]\n"
     ]
    },
    {
     "name": "stderr",
     "output_type": "stream",
     "text": [
      " 30%|███       | 6/20 [00:48<01:42,  7.33s/it]"
     ]
    },
    {
     "name": "stdout",
     "output_type": "stream",
     "text": [
      "Epoch [6/20]\n"
     ]
    },
    {
     "name": "stderr",
     "output_type": "stream",
     "text": [
      " 35%|███▌      | 7/20 [00:55<01:33,  7.21s/it]"
     ]
    },
    {
     "name": "stdout",
     "output_type": "stream",
     "text": [
      "Epoch [7/20]\n"
     ]
    },
    {
     "name": "stderr",
     "output_type": "stream",
     "text": [
      " 40%|████      | 8/20 [01:02<01:26,  7.19s/it]"
     ]
    },
    {
     "name": "stdout",
     "output_type": "stream",
     "text": [
      "Epoch [8/20]\n"
     ]
    },
    {
     "name": "stderr",
     "output_type": "stream",
     "text": [
      " 45%|████▌     | 9/20 [01:09<01:18,  7.15s/it]"
     ]
    },
    {
     "name": "stdout",
     "output_type": "stream",
     "text": [
      "Epoch [9/20]\n"
     ]
    },
    {
     "name": "stderr",
     "output_type": "stream",
     "text": [
      " 50%|█████     | 10/20 [01:16<01:11,  7.19s/it]"
     ]
    },
    {
     "name": "stdout",
     "output_type": "stream",
     "text": [
      "Epoch [10/20]\n"
     ]
    },
    {
     "name": "stderr",
     "output_type": "stream",
     "text": [
      " 55%|█████▌    | 11/20 [01:23<01:04,  7.15s/it]"
     ]
    },
    {
     "name": "stdout",
     "output_type": "stream",
     "text": [
      "Epoch [11/20]\n"
     ]
    },
    {
     "name": "stderr",
     "output_type": "stream",
     "text": [
      " 60%|██████    | 12/20 [01:30<00:57,  7.13s/it]"
     ]
    },
    {
     "name": "stdout",
     "output_type": "stream",
     "text": [
      "Epoch [12/20]\n"
     ]
    },
    {
     "name": "stderr",
     "output_type": "stream",
     "text": [
      " 65%|██████▌   | 13/20 [01:37<00:49,  7.10s/it]"
     ]
    },
    {
     "name": "stdout",
     "output_type": "stream",
     "text": [
      "Epoch [13/20]\n"
     ]
    },
    {
     "name": "stderr",
     "output_type": "stream",
     "text": [
      " 70%|███████   | 14/20 [01:44<00:42,  7.11s/it]"
     ]
    },
    {
     "name": "stdout",
     "output_type": "stream",
     "text": [
      "Epoch [14/20]\n"
     ]
    },
    {
     "name": "stderr",
     "output_type": "stream",
     "text": [
      " 75%|███████▌  | 15/20 [01:52<00:35,  7.14s/it]"
     ]
    },
    {
     "name": "stdout",
     "output_type": "stream",
     "text": [
      "Epoch [15/20]\n"
     ]
    },
    {
     "name": "stderr",
     "output_type": "stream",
     "text": [
      " 80%|████████  | 16/20 [01:59<00:28,  7.13s/it]"
     ]
    },
    {
     "name": "stdout",
     "output_type": "stream",
     "text": [
      "Epoch [16/20]\n"
     ]
    },
    {
     "name": "stderr",
     "output_type": "stream",
     "text": [
      " 85%|████████▌ | 17/20 [02:06<00:21,  7.11s/it]"
     ]
    },
    {
     "name": "stdout",
     "output_type": "stream",
     "text": [
      "Epoch [17/20]\n"
     ]
    },
    {
     "name": "stderr",
     "output_type": "stream",
     "text": [
      " 90%|█████████ | 18/20 [02:13<00:14,  7.12s/it]"
     ]
    },
    {
     "name": "stdout",
     "output_type": "stream",
     "text": [
      "Epoch [18/20]\n"
     ]
    },
    {
     "name": "stderr",
     "output_type": "stream",
     "text": [
      " 95%|█████████▌| 19/20 [02:20<00:07,  7.16s/it]"
     ]
    },
    {
     "name": "stdout",
     "output_type": "stream",
     "text": [
      "Epoch [19/20]\n"
     ]
    },
    {
     "name": "stderr",
     "output_type": "stream",
     "text": [
      "100%|██████████| 20/20 [02:27<00:00,  7.39s/it]"
     ]
    },
    {
     "name": "stdout",
     "output_type": "stream",
     "text": [
      "Epoch [20/20]\n",
      "Finished Training\n"
     ]
    },
    {
     "name": "stderr",
     "output_type": "stream",
     "text": [
      "\n"
     ]
    }
   ],
   "source": [
    "import os\n",
    "import random\n",
    "import torch\n",
    "import torch.nn as nn\n",
    "import torch.optim as optim\n",
    "import torchvision.transforms as transforms\n",
    "from torch.utils.data import DataLoader, Dataset\n",
    "from PIL import Image\n",
    "from glob import glob\n",
    "from tqdm import tqdm\n",
    "import cv2\n",
    "import numpy as np\n",
    "import gc\n",
    "torch.manual_seed(42)\n",
    "random.seed(42)\n",
    "\n",
    "input_folder_list=list(glob('/kaggle/input/combination-dataset/Dehazenet_2L_RGB_TestDWT_Dehazenet_RGB_Test/*.png'))\n",
    "target_folder_list=list(glob('/kaggle/input/combination-dataset/DWT_Dehazenet_RGB_Test/clear_image_*.png'))\n",
    "target_folder_list.sort()\n",
    "input_folder_list.sort()\n",
    "batch_size=16\n",
    "num_epochs=20\n",
    "lr=1e-4\n",
    "device=\"cuda\" if torch.cuda.is_available() else \"cpu\"\n",
    "\n",
    "class CustomDataset(Dataset):\n",
    "    def __init__(self, input_folder, target_folder, transform=None):\n",
    "        self.input_files=input_folder\n",
    "        self.target_files=target_folder\n",
    "        self.transform=transform\n",
    "\n",
    "    def __len__(self):\n",
    "        return len(self.input_files)\n",
    "\n",
    "    def __getitem__(self, idx):\n",
    "        input_img=Image.open(self.input_files[idx]).convert('RGB')\n",
    "        target_img=Image.open(self.target_files[idx]).convert('RGB')\n",
    "        if self.transform:\n",
    "            input_img=self.transform(input_img)\n",
    "            target_img=self.transform(target_img)\n",
    "        return input_img,target_img\n",
    "\n",
    "class FinalCNN(nn.Module):\n",
    "    def __init__(self):\n",
    "        super(FinalCNN, self).__init__()\n",
    "        self.conv1=nn.Conv2d(in_channels=3,out_channels=16,kernel_size=3,stride=1,padding=1)\n",
    "        self.conv2=nn.Conv2d(in_channels=16,out_channels=32,kernel_size=3,stride=1,padding=1)\n",
    "        self.conv3=nn.Conv2d(in_channels=32,out_channels=32,kernel_size=3,stride=1,padding=1)\n",
    "        self.conv4=nn.Conv2d(in_channels=32,out_channels=64,kernel_size=3,stride=1,padding=1)\n",
    "        self.conv5=nn.Conv2d(in_channels=64,out_channels=32,kernel_size=3,stride=1,padding=1)\n",
    "        self.conv6=nn.Conv2d(in_channels=32,out_channels=16,kernel_size=3,stride=1,padding=1)\n",
    "        self.conv7=nn.Conv2d(in_channels=16,out_channels=3,kernel_size=3,stride=1,padding=1)\n",
    "        self.relu=nn.ReLU()\n",
    "\n",
    "    def forward(self, x):\n",
    "        x1=self.relu(self.conv1(x))\n",
    "        x2=self.relu(self.conv2(x1))\n",
    "        x3=self.relu(self.conv3(x2))\n",
    "        x4=self.relu(self.conv4(x3))\n",
    "        x5=self.relu(self.conv5(x4))+x3\n",
    "        x6=self.relu(self.conv6(x5))+x1\n",
    "        x7=self.relu(self.conv7(x6)) \n",
    "        return self.relu(x7*x-x7+1)\n",
    "\n",
    "transform = transforms.Compose([\n",
    "    transforms.Resize((256,256)),\n",
    "    transforms.ToTensor(),\n",
    "])\n",
    "\n",
    "dataset=CustomDataset(input_folder_list,target_folder_list,transform=transform)\n",
    "dataloader=DataLoader(dataset,batch_size=batch_size,shuffle=True)\n",
    "\n",
    "model=FinalCNN().to(device)\n",
    "model=nn.DataParallel(model)\n",
    "criterion=nn.MSELoss()\n",
    "optimizer=optim.Adam(model.parameters(),lr=lr)\n",
    "\n",
    "losses=[]\n",
    "for epoch in tqdm(range(num_epochs)):\n",
    "    model.train()  \n",
    "    running_loss=0.0\n",
    "    for inputs,targets in dataloader:\n",
    "        inputs,targets=inputs.to(device), targets.to(device)\n",
    "        optimizer.zero_grad()\n",
    "        outputs=model(inputs)\n",
    "        loss=criterion(outputs, targets)\n",
    "        loss.backward()\n",
    "        optimizer.step()\n",
    "        running_loss+=loss.item()\n",
    "    print(f\"Epoch [{epoch+1}/{num_epochs}]\")\n",
    "    losses.append(running_loss/len(dataloader))\n",
    "    torch.cuda.empty_cache()\n",
    "    gc.collect()\n",
    "print('Finished Training')\n",
    "torch.save(model.state_dict(),'end_cnn.pth')\n"
   ]
  },
  {
   "cell_type": "markdown",
   "id": "54785da8",
   "metadata": {},
   "source": [
    "## Observing the Loss curve"
   ]
  },
  {
   "cell_type": "code",
   "execution_count": 2,
   "id": "3952bc46",
   "metadata": {
    "execution": {
     "iopub.execute_input": "2024-08-04T13:23:43.577098Z",
     "iopub.status.busy": "2024-08-04T13:23:43.576727Z",
     "iopub.status.idle": "2024-08-04T13:23:43.795045Z",
     "shell.execute_reply": "2024-08-04T13:23:43.794155Z"
    },
    "papermill": {
     "duration": 0.226334,
     "end_time": "2024-08-04T13:23:43.796936",
     "exception": false,
     "start_time": "2024-08-04T13:23:43.570602",
     "status": "completed"
    },
    "tags": []
   },
   "outputs": [
    {
     "data": {
      "text/plain": [
       "[<matplotlib.lines.Line2D at 0x7f1bd08a0a00>]"
      ]
     },
     "execution_count": 2,
     "metadata": {},
     "output_type": "execute_result"
    },
    {
     "data": {
      "image/png": "[encoded data removed]",
      "text/plain": [
       "<Figure size 640x480 with 1 Axes>"
      ]
     },
     "metadata": {},
     "output_type": "display_data"
    }
   ],
   "source": [
    "import matplotlib.pyplot as plt\n",
    "plt.plot(losses)"
   ]
  },
  {
   "cell_type": "markdown",
   "id": "975313f6",
   "metadata": {},
   "source": [
    "## Inference on the Test dataset\n",
    "This is the final step of the entire workflow. The metrics have been evaluated on the test dataset. "
   ]
  },
  {
   "cell_type": "code",
   "execution_count": 3,
   "id": "1af7289f",
   "metadata": {
    "execution": {
     "iopub.execute_input": "2024-08-04T13:23:43.809592Z",
     "iopub.status.busy": "2024-08-04T13:23:43.809276Z",
     "iopub.status.idle": "2024-08-04T13:24:01.795058Z",
     "shell.execute_reply": "2024-08-04T13:24:01.793972Z"
    },
    "papermill": {
     "duration": 17.994998,
     "end_time": "2024-08-04T13:24:01.797618",
     "exception": false,
     "start_time": "2024-08-04T13:23:43.802620",
     "status": "completed"
    },
    "tags": []
   },
   "outputs": [
    {
     "name": "stdout",
     "output_type": "stream",
     "text": [
      "PSNR: 18.9468, SSIM: 0.7689\n"
     ]
    }
   ],
   "source": [
    "from torchmetrics.image import PeakSignalNoiseRatio, StructuralSimilarityIndexMeasure\n",
    "\n",
    "psnr_fn = PeakSignalNoiseRatio()\n",
    "ssim_fn = StructuralSimilarityIndexMeasure()\n",
    "\n",
    "input_folder_list=list(glob('/kaggle/input/combination-dataset/Dehazenet_2L_RGB_TestDWT_Dehazenet_RGB_Test/*.png'))\n",
    "target_folder_list=list(glob('/kaggle/input/combination-dataset/DWT_Dehazenet_RGB_Test/clear_image_*.png'))\n",
    "target_folder_list.sort()\n",
    "input_folder_list.sort()\n",
    "\n",
    "model.eval()\n",
    "psnr_li=[]\n",
    "ssim_li=[]\n",
    "for inp, clear in zip(input_folder_list,target_folder_list):\n",
    "    clear_image=transforms.ToTensor()(cv2.cvtColor(cv2.imread(clear),cv2.COLOR_BGR2RGB))\n",
    "    proc_image=transforms.ToTensor()(cv2.cvtColor(cv2.imread(inp),cv2.COLOR_BGR2RGB)).to(device)\n",
    "    clear_image=clear_image.unsqueeze(0)\n",
    "    proc_image=proc_image.unsqueeze(0)\n",
    "    with torch.no_grad():\n",
    "        model_proc=model(proc_image)\n",
    "    psnr_value=psnr_fn(model_proc.cpu(), clear_image).item() \n",
    "    ssim_value=ssim_fn(model_proc.cpu(), clear_image).item()  \n",
    "    psnr_li.append(psnr_value)\n",
    "    ssim_li.append(ssim_value)\n",
    "\n",
    "avg_psnr=sum(psnr_li)/len(psnr_li)\n",
    "avg_ssim=sum(ssim_li)/len(ssim_li)\n",
    "print(f\"PSNR: {avg_psnr:.4f}, SSIM: {avg_ssim:.4f}\")\n"
   ]
  }
 ],
 "metadata": {
  "kaggle": {
   "accelerator": "nvidiaTeslaT4",
   "dataSources": [
    {
     "datasetId": 5321965,
     "sourceId": 9099194,
     "sourceType": "datasetVersion"
    }
   ],
   "dockerImageVersionId": 30732,
   "isGpuEnabled": true,
   "isInternetEnabled": true,
   "language": "python",
   "sourceType": "notebook"
  },
  "kernelspec": {
   "display_name": "Python 3",
   "language": "python",
   "name": "python3"
  },
  "language_info": {
   "codemirror_mode": {
    "name": "ipython",
    "version": 3
   },
   "file_extension": ".py",
   "mimetype": "text/x-python",
   "name": "python",
   "nbconvert_exporter": "python",
   "pygments_lexer": "ipython3",
   "version": "3.10.13"
  },
  "papermill": {
   "default_parameters": {},
   "duration": 175.953126,
   "end_time": "2024-08-04T13:24:03.327663",
   "environment_variables": {},
   "exception": null,
   "input_path": "__notebook__.ipynb",
   "output_path": "__notebook__.ipynb",
   "parameters": {},
   "start_time": "2024-08-04T13:21:07.374537",
   "version": "2.5.0"
  }
 },
 "nbformat": 4,
 "nbformat_minor": 5
}
