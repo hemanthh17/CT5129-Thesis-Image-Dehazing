{
 "cells": [
  {
   "cell_type": "code",
   "execution_count": 1,
   "id": "5934ea4c",
   "metadata": {
    "execution": {
     "iopub.execute_input": "2024-06-09T17:15:57.728940Z",
     "iopub.status.busy": "2024-06-09T17:15:57.728421Z",
     "iopub.status.idle": "2024-06-09T17:15:58.763938Z",
     "shell.execute_reply": "2024-06-09T17:15:58.762838Z"
    },
    "papermill": {
     "duration": 1.047944,
     "end_time": "2024-06-09T17:15:58.766799",
     "exception": false,
     "start_time": "2024-06-09T17:15:57.718855",
     "status": "completed"
    },
    "tags": []
   },
   "outputs": [],
   "source": [
    "import pandas as pd\n",
    "import numpy as np\n",
    "import os\n",
    "from glob import glob\n",
    "from PIL import Image"
   ]
  },
  {
   "cell_type": "markdown",
   "id": "06c9bed9",
   "metadata": {
    "papermill": {
     "duration": 0.007336,
     "end_time": "2024-06-09T17:15:58.781866",
     "exception": false,
     "start_time": "2024-06-09T17:15:58.774530",
     "status": "completed"
    },
    "tags": []
   },
   "source": [
    "## From DenseHaze Dataset"
   ]
  },
  {
   "cell_type": "code",
   "execution_count": 2,
   "id": "931bf244",
   "metadata": {
    "execution": {
     "iopub.execute_input": "2024-06-09T17:15:58.798569Z",
     "iopub.status.busy": "2024-06-09T17:15:58.798074Z",
     "iopub.status.idle": "2024-06-09T17:15:58.845594Z",
     "shell.execute_reply": "2024-06-09T17:15:58.844450Z"
    },
    "papermill": {
     "duration": 0.059005,
     "end_time": "2024-06-09T17:15:58.848252",
     "exception": false,
     "start_time": "2024-06-09T17:15:58.789247",
     "status": "completed"
    },
    "tags": []
   },
   "outputs": [
    {
     "data": {
      "text/html": [
       "<div>\n",
       "<style scoped>\n",
       "    .dataframe tbody tr th:only-of-type {\n",
       "        vertical-align: middle;\n",
       "    }\n",
       "\n",
       "    .dataframe tbody tr th {\n",
       "        vertical-align: top;\n",
       "    }\n",
       "\n",
       "    .dataframe thead th {\n",
       "        text-align: right;\n",
       "    }\n",
       "</style>\n",
       "<table border=\"1\" class=\"dataframe\">\n",
       "  <thead>\n",
       "    <tr style=\"text-align: right;\">\n",
       "      <th></th>\n",
       "      <th>GT</th>\n",
       "      <th>Hazy</th>\n",
       "    </tr>\n",
       "  </thead>\n",
       "  <tbody>\n",
       "    <tr>\n",
       "      <th>0</th>\n",
       "      <td>/kaggle/input/dehazing-dataset-thesis/Dense_Ha...</td>\n",
       "      <td>/kaggle/input/dehazing-dataset-thesis/Dense_Ha...</td>\n",
       "    </tr>\n",
       "    <tr>\n",
       "      <th>1</th>\n",
       "      <td>/kaggle/input/dehazing-dataset-thesis/Dense_Ha...</td>\n",
       "      <td>/kaggle/input/dehazing-dataset-thesis/Dense_Ha...</td>\n",
       "    </tr>\n",
       "    <tr>\n",
       "      <th>2</th>\n",
       "      <td>/kaggle/input/dehazing-dataset-thesis/Dense_Ha...</td>\n",
       "      <td>/kaggle/input/dehazing-dataset-thesis/Dense_Ha...</td>\n",
       "    </tr>\n",
       "    <tr>\n",
       "      <th>3</th>\n",
       "      <td>/kaggle/input/dehazing-dataset-thesis/Dense_Ha...</td>\n",
       "      <td>/kaggle/input/dehazing-dataset-thesis/Dense_Ha...</td>\n",
       "    </tr>\n",
       "    <tr>\n",
       "      <th>4</th>\n",
       "      <td>/kaggle/input/dehazing-dataset-thesis/Dense_Ha...</td>\n",
       "      <td>/kaggle/input/dehazing-dataset-thesis/Dense_Ha...</td>\n",
       "    </tr>\n",
       "  </tbody>\n",
       "</table>\n",
       "</div>"
      ],
      "text/plain": [
       "                                                  GT  \\\n",
       "0  /kaggle/input/dehazing-dataset-thesis/Dense_Ha...   \n",
       "1  /kaggle/input/dehazing-dataset-thesis/Dense_Ha...   \n",
       "2  /kaggle/input/dehazing-dataset-thesis/Dense_Ha...   \n",
       "3  /kaggle/input/dehazing-dataset-thesis/Dense_Ha...   \n",
       "4  /kaggle/input/dehazing-dataset-thesis/Dense_Ha...   \n",
       "\n",
       "                                                Hazy  \n",
       "0  /kaggle/input/dehazing-dataset-thesis/Dense_Ha...  \n",
       "1  /kaggle/input/dehazing-dataset-thesis/Dense_Ha...  \n",
       "2  /kaggle/input/dehazing-dataset-thesis/Dense_Ha...  \n",
       "3  /kaggle/input/dehazing-dataset-thesis/Dense_Ha...  \n",
       "4  /kaggle/input/dehazing-dataset-thesis/Dense_Ha...  "
      ]
     },
     "execution_count": 2,
     "metadata": {},
     "output_type": "execute_result"
    }
   ],
   "source": [
    "ground_truth=list(os.listdir('/kaggle/input/dehazing-dataset-thesis/Dense_Haze_NTIRE19/GT/'))\n",
    "hazy_imgs=list(os.listdir('/kaggle/input/dehazing-dataset-thesis/Dense_Haze_NTIRE19/hazy/'))\n",
    "ground_truth.sort()\n",
    "hazy_imgs.sort()\n",
    "tabular_data_dense_haze=pd.DataFrame({'GT':list(map(lambda x:'/kaggle/input/dehazing-dataset-thesis/Dense_Haze_NTIRE19/GT/'+x,ground_truth)),\n",
    "                                     'Hazy':list(map(lambda x:'/kaggle/input/dehazing-dataset-thesis/Dense_Haze_NTIRE19/hazy/'+x,hazy_imgs))})\n",
    "tabular_data_dense_haze.head()"
   ]
  },
  {
   "cell_type": "code",
   "execution_count": 3,
   "id": "6c04b796",
   "metadata": {
    "execution": {
     "iopub.execute_input": "2024-06-09T17:15:58.865675Z",
     "iopub.status.busy": "2024-06-09T17:15:58.865277Z",
     "iopub.status.idle": "2024-06-09T17:15:58.871514Z",
     "shell.execute_reply": "2024-06-09T17:15:58.870486Z"
    },
    "papermill": {
     "duration": 0.017758,
     "end_time": "2024-06-09T17:15:58.873968",
     "exception": false,
     "start_time": "2024-06-09T17:15:58.856210",
     "status": "completed"
    },
    "tags": []
   },
   "outputs": [],
   "source": [
    "train_data_dense_haze=tabular_data_dense_haze.iloc[:-10,:]\n",
    "val_data_dense_haze=tabular_data_dense_haze.iloc[-10:-5,:]\n",
    "test_data_dense_haze=tabular_data_dense_haze.iloc[-5:,:]"
   ]
  },
  {
   "cell_type": "markdown",
   "id": "f6854917",
   "metadata": {
    "papermill": {
     "duration": 0.0075,
     "end_time": "2024-06-09T17:15:58.889228",
     "exception": false,
     "start_time": "2024-06-09T17:15:58.881728",
     "status": "completed"
    },
    "tags": []
   },
   "source": [
    "## From I-Haze Dataset"
   ]
  },
  {
   "cell_type": "code",
   "execution_count": 4,
   "id": "70258379",
   "metadata": {
    "execution": {
     "iopub.execute_input": "2024-06-09T17:15:58.906310Z",
     "iopub.status.busy": "2024-06-09T17:15:58.905905Z",
     "iopub.status.idle": "2024-06-09T17:15:58.938426Z",
     "shell.execute_reply": "2024-06-09T17:15:58.937229Z"
    },
    "papermill": {
     "duration": 0.044095,
     "end_time": "2024-06-09T17:15:58.940992",
     "exception": false,
     "start_time": "2024-06-09T17:15:58.896897",
     "status": "completed"
    },
    "tags": []
   },
   "outputs": [
    {
     "data": {
      "text/html": [
       "<div>\n",
       "<style scoped>\n",
       "    .dataframe tbody tr th:only-of-type {\n",
       "        vertical-align: middle;\n",
       "    }\n",
       "\n",
       "    .dataframe tbody tr th {\n",
       "        vertical-align: top;\n",
       "    }\n",
       "\n",
       "    .dataframe thead th {\n",
       "        text-align: right;\n",
       "    }\n",
       "</style>\n",
       "<table border=\"1\" class=\"dataframe\">\n",
       "  <thead>\n",
       "    <tr style=\"text-align: right;\">\n",
       "      <th></th>\n",
       "      <th>GT</th>\n",
       "      <th>Hazy</th>\n",
       "    </tr>\n",
       "  </thead>\n",
       "  <tbody>\n",
       "    <tr>\n",
       "      <th>0</th>\n",
       "      <td>/kaggle/input/dehazing-dataset-thesis/I-HAZE/I...</td>\n",
       "      <td>/kaggle/input/dehazing-dataset-thesis/I-HAZE/I...</td>\n",
       "    </tr>\n",
       "    <tr>\n",
       "      <th>1</th>\n",
       "      <td>/kaggle/input/dehazing-dataset-thesis/I-HAZE/I...</td>\n",
       "      <td>/kaggle/input/dehazing-dataset-thesis/I-HAZE/I...</td>\n",
       "    </tr>\n",
       "    <tr>\n",
       "      <th>2</th>\n",
       "      <td>/kaggle/input/dehazing-dataset-thesis/I-HAZE/I...</td>\n",
       "      <td>/kaggle/input/dehazing-dataset-thesis/I-HAZE/I...</td>\n",
       "    </tr>\n",
       "    <tr>\n",
       "      <th>3</th>\n",
       "      <td>/kaggle/input/dehazing-dataset-thesis/I-HAZE/I...</td>\n",
       "      <td>/kaggle/input/dehazing-dataset-thesis/I-HAZE/I...</td>\n",
       "    </tr>\n",
       "    <tr>\n",
       "      <th>4</th>\n",
       "      <td>/kaggle/input/dehazing-dataset-thesis/I-HAZE/I...</td>\n",
       "      <td>/kaggle/input/dehazing-dataset-thesis/I-HAZE/I...</td>\n",
       "    </tr>\n",
       "  </tbody>\n",
       "</table>\n",
       "</div>"
      ],
      "text/plain": [
       "                                                  GT  \\\n",
       "0  /kaggle/input/dehazing-dataset-thesis/I-HAZE/I...   \n",
       "1  /kaggle/input/dehazing-dataset-thesis/I-HAZE/I...   \n",
       "2  /kaggle/input/dehazing-dataset-thesis/I-HAZE/I...   \n",
       "3  /kaggle/input/dehazing-dataset-thesis/I-HAZE/I...   \n",
       "4  /kaggle/input/dehazing-dataset-thesis/I-HAZE/I...   \n",
       "\n",
       "                                                Hazy  \n",
       "0  /kaggle/input/dehazing-dataset-thesis/I-HAZE/I...  \n",
       "1  /kaggle/input/dehazing-dataset-thesis/I-HAZE/I...  \n",
       "2  /kaggle/input/dehazing-dataset-thesis/I-HAZE/I...  \n",
       "3  /kaggle/input/dehazing-dataset-thesis/I-HAZE/I...  \n",
       "4  /kaggle/input/dehazing-dataset-thesis/I-HAZE/I...  "
      ]
     },
     "execution_count": 4,
     "metadata": {},
     "output_type": "execute_result"
    }
   ],
   "source": [
    "ground_truth=list(os.listdir('/kaggle/input/dehazing-dataset-thesis/I-HAZE/I-HAZY NTIRE 2018/GT'))\n",
    "hazy_imgs=list(os.listdir('/kaggle/input/dehazing-dataset-thesis/I-HAZE/I-HAZY NTIRE 2018/hazy/'))\n",
    "ground_truth.sort()\n",
    "hazy_imgs.sort()\n",
    "tabular_data_i_haze=pd.DataFrame({'GT':list(map(lambda x:'/kaggle/input/dehazing-dataset-thesis/I-HAZE/I-HAZY NTIRE 2018/GT/'+x,ground_truth)),\n",
    "                                     'Hazy':list(map(lambda x:'/kaggle/input/dehazing-dataset-thesis/I-HAZE/I-HAZY NTIRE 2018/hazy/'+x,hazy_imgs))})\n",
    "tabular_data_i_haze.head()"
   ]
  },
  {
   "cell_type": "code",
   "execution_count": 5,
   "id": "7c9d043d",
   "metadata": {
    "execution": {
     "iopub.execute_input": "2024-06-09T17:15:58.958782Z",
     "iopub.status.busy": "2024-06-09T17:15:58.958328Z",
     "iopub.status.idle": "2024-06-09T17:15:58.964903Z",
     "shell.execute_reply": "2024-06-09T17:15:58.963703Z"
    },
    "papermill": {
     "duration": 0.018624,
     "end_time": "2024-06-09T17:15:58.967672",
     "exception": false,
     "start_time": "2024-06-09T17:15:58.949048",
     "status": "completed"
    },
    "tags": []
   },
   "outputs": [],
   "source": [
    "train_data_i_haze=tabular_data_i_haze.iloc[:-10,:]\n",
    "val_data_i_haze=tabular_data_i_haze.iloc[-10:-5,:]\n",
    "test_data_i_haze=tabular_data_i_haze.iloc[-5:,:]"
   ]
  },
  {
   "cell_type": "markdown",
   "id": "21571c83",
   "metadata": {
    "papermill": {
     "duration": 0.007807,
     "end_time": "2024-06-09T17:15:58.983475",
     "exception": false,
     "start_time": "2024-06-09T17:15:58.975668",
     "status": "completed"
    },
    "tags": []
   },
   "source": [
    "## For NH-Haze Dataset"
   ]
  },
  {
   "cell_type": "code",
   "execution_count": 6,
   "id": "02ec9c8c",
   "metadata": {
    "execution": {
     "iopub.execute_input": "2024-06-09T17:15:59.001338Z",
     "iopub.status.busy": "2024-06-09T17:15:59.000907Z",
     "iopub.status.idle": "2024-06-09T17:15:59.037038Z",
     "shell.execute_reply": "2024-06-09T17:15:59.035711Z"
    },
    "papermill": {
     "duration": 0.048279,
     "end_time": "2024-06-09T17:15:59.039679",
     "exception": false,
     "start_time": "2024-06-09T17:15:58.991400",
     "status": "completed"
    },
    "tags": []
   },
   "outputs": [
    {
     "data": {
      "text/html": [
       "<div>\n",
       "<style scoped>\n",
       "    .dataframe tbody tr th:only-of-type {\n",
       "        vertical-align: middle;\n",
       "    }\n",
       "\n",
       "    .dataframe tbody tr th {\n",
       "        vertical-align: top;\n",
       "    }\n",
       "\n",
       "    .dataframe thead th {\n",
       "        text-align: right;\n",
       "    }\n",
       "</style>\n",
       "<table border=\"1\" class=\"dataframe\">\n",
       "  <thead>\n",
       "    <tr style=\"text-align: right;\">\n",
       "      <th></th>\n",
       "      <th>GT</th>\n",
       "      <th>Hazy</th>\n",
       "    </tr>\n",
       "  </thead>\n",
       "  <tbody>\n",
       "    <tr>\n",
       "      <th>0</th>\n",
       "      <td>/kaggle/input/dehazing-dataset-thesis/NH-HAZE/...</td>\n",
       "      <td>/kaggle/input/dehazing-dataset-thesis/NH-HAZE/...</td>\n",
       "    </tr>\n",
       "    <tr>\n",
       "      <th>1</th>\n",
       "      <td>/kaggle/input/dehazing-dataset-thesis/NH-HAZE/...</td>\n",
       "      <td>/kaggle/input/dehazing-dataset-thesis/NH-HAZE/...</td>\n",
       "    </tr>\n",
       "    <tr>\n",
       "      <th>2</th>\n",
       "      <td>/kaggle/input/dehazing-dataset-thesis/NH-HAZE/...</td>\n",
       "      <td>/kaggle/input/dehazing-dataset-thesis/NH-HAZE/...</td>\n",
       "    </tr>\n",
       "    <tr>\n",
       "      <th>3</th>\n",
       "      <td>/kaggle/input/dehazing-dataset-thesis/NH-HAZE/...</td>\n",
       "      <td>/kaggle/input/dehazing-dataset-thesis/NH-HAZE/...</td>\n",
       "    </tr>\n",
       "    <tr>\n",
       "      <th>4</th>\n",
       "      <td>/kaggle/input/dehazing-dataset-thesis/NH-HAZE/...</td>\n",
       "      <td>/kaggle/input/dehazing-dataset-thesis/NH-HAZE/...</td>\n",
       "    </tr>\n",
       "  </tbody>\n",
       "</table>\n",
       "</div>"
      ],
      "text/plain": [
       "                                                  GT  \\\n",
       "0  /kaggle/input/dehazing-dataset-thesis/NH-HAZE/...   \n",
       "1  /kaggle/input/dehazing-dataset-thesis/NH-HAZE/...   \n",
       "2  /kaggle/input/dehazing-dataset-thesis/NH-HAZE/...   \n",
       "3  /kaggle/input/dehazing-dataset-thesis/NH-HAZE/...   \n",
       "4  /kaggle/input/dehazing-dataset-thesis/NH-HAZE/...   \n",
       "\n",
       "                                                Hazy  \n",
       "0  /kaggle/input/dehazing-dataset-thesis/NH-HAZE/...  \n",
       "1  /kaggle/input/dehazing-dataset-thesis/NH-HAZE/...  \n",
       "2  /kaggle/input/dehazing-dataset-thesis/NH-HAZE/...  \n",
       "3  /kaggle/input/dehazing-dataset-thesis/NH-HAZE/...  \n",
       "4  /kaggle/input/dehazing-dataset-thesis/NH-HAZE/...  "
      ]
     },
     "execution_count": 6,
     "metadata": {},
     "output_type": "execute_result"
    }
   ],
   "source": [
    "all_imgs=list(os.listdir('/kaggle/input/dehazing-dataset-thesis/NH-HAZE/NH-HAZE'))\n",
    "hazy_imgs=[img for img in all_imgs if img[3]=='h']\n",
    "clear_imgs=[img for img in all_imgs if img[3]=='G']\n",
    "clear_imgs.sort()\n",
    "hazy_imgs.sort()\n",
    "tabular_data_nh_haze=pd.DataFrame({'GT':list(map(lambda x:'/kaggle/input/dehazing-dataset-thesis/NH-HAZE/NH-HAZE/'+x,clear_imgs)),\n",
    "                                     'Hazy':list(map(lambda x:'/kaggle/input/dehazing-dataset-thesis/NH-HAZE/NH-HAZE/'+x,hazy_imgs))})\n",
    "tabular_data_nh_haze.head()"
   ]
  },
  {
   "cell_type": "code",
   "execution_count": 7,
   "id": "027d1cec",
   "metadata": {
    "execution": {
     "iopub.execute_input": "2024-06-09T17:15:59.059339Z",
     "iopub.status.busy": "2024-06-09T17:15:59.058978Z",
     "iopub.status.idle": "2024-06-09T17:15:59.067598Z",
     "shell.execute_reply": "2024-06-09T17:15:59.066349Z"
    },
    "papermill": {
     "duration": 0.020994,
     "end_time": "2024-06-09T17:15:59.070342",
     "exception": false,
     "start_time": "2024-06-09T17:15:59.049348",
     "status": "completed"
    },
    "tags": []
   },
   "outputs": [],
   "source": [
    "train_data_nh_haze=tabular_data_nh_haze.iloc[:-10,:]\n",
    "val_data_nh_haze=tabular_data_nh_haze.iloc[-10:-5,:]\n",
    "train_data_nh_haze2=tabular_data_nh_haze.iloc[-5:,:]\n",
    "\n",
    "test_data_nh_haze=train_data_nh_haze.iloc[-5:-1,0]\n",
    "train_data_nh_haze=pd.concat([train_data_nh_haze2,train_data_nh_haze.iloc[:-5]],axis=0)"
   ]
  },
  {
   "cell_type": "markdown",
   "id": "c4e5ef89",
   "metadata": {
    "papermill": {
     "duration": 0.008045,
     "end_time": "2024-06-09T17:15:59.086629",
     "exception": false,
     "start_time": "2024-06-09T17:15:59.078584",
     "status": "completed"
    },
    "tags": []
   },
   "source": [
    "## For O-Haze Dataset"
   ]
  },
  {
   "cell_type": "code",
   "execution_count": 8,
   "id": "414a1e57",
   "metadata": {
    "execution": {
     "iopub.execute_input": "2024-06-09T17:15:59.104654Z",
     "iopub.status.busy": "2024-06-09T17:15:59.104267Z",
     "iopub.status.idle": "2024-06-09T17:15:59.136092Z",
     "shell.execute_reply": "2024-06-09T17:15:59.134832Z"
    },
    "papermill": {
     "duration": 0.044434,
     "end_time": "2024-06-09T17:15:59.139255",
     "exception": false,
     "start_time": "2024-06-09T17:15:59.094821",
     "status": "completed"
    },
    "tags": []
   },
   "outputs": [
    {
     "data": {
      "text/html": [
       "<div>\n",
       "<style scoped>\n",
       "    .dataframe tbody tr th:only-of-type {\n",
       "        vertical-align: middle;\n",
       "    }\n",
       "\n",
       "    .dataframe tbody tr th {\n",
       "        vertical-align: top;\n",
       "    }\n",
       "\n",
       "    .dataframe thead th {\n",
       "        text-align: right;\n",
       "    }\n",
       "</style>\n",
       "<table border=\"1\" class=\"dataframe\">\n",
       "  <thead>\n",
       "    <tr style=\"text-align: right;\">\n",
       "      <th></th>\n",
       "      <th>GT</th>\n",
       "      <th>Hazy</th>\n",
       "    </tr>\n",
       "  </thead>\n",
       "  <tbody>\n",
       "    <tr>\n",
       "      <th>0</th>\n",
       "      <td>/kaggle/input/dehazing-dataset-thesis/O-HAZE/O...</td>\n",
       "      <td>/kaggle/input/dehazing-dataset-thesis/O-HAZE/O...</td>\n",
       "    </tr>\n",
       "    <tr>\n",
       "      <th>1</th>\n",
       "      <td>/kaggle/input/dehazing-dataset-thesis/O-HAZE/O...</td>\n",
       "      <td>/kaggle/input/dehazing-dataset-thesis/O-HAZE/O...</td>\n",
       "    </tr>\n",
       "    <tr>\n",
       "      <th>2</th>\n",
       "      <td>/kaggle/input/dehazing-dataset-thesis/O-HAZE/O...</td>\n",
       "      <td>/kaggle/input/dehazing-dataset-thesis/O-HAZE/O...</td>\n",
       "    </tr>\n",
       "    <tr>\n",
       "      <th>3</th>\n",
       "      <td>/kaggle/input/dehazing-dataset-thesis/O-HAZE/O...</td>\n",
       "      <td>/kaggle/input/dehazing-dataset-thesis/O-HAZE/O...</td>\n",
       "    </tr>\n",
       "    <tr>\n",
       "      <th>4</th>\n",
       "      <td>/kaggle/input/dehazing-dataset-thesis/O-HAZE/O...</td>\n",
       "      <td>/kaggle/input/dehazing-dataset-thesis/O-HAZE/O...</td>\n",
       "    </tr>\n",
       "  </tbody>\n",
       "</table>\n",
       "</div>"
      ],
      "text/plain": [
       "                                                  GT  \\\n",
       "0  /kaggle/input/dehazing-dataset-thesis/O-HAZE/O...   \n",
       "1  /kaggle/input/dehazing-dataset-thesis/O-HAZE/O...   \n",
       "2  /kaggle/input/dehazing-dataset-thesis/O-HAZE/O...   \n",
       "3  /kaggle/input/dehazing-dataset-thesis/O-HAZE/O...   \n",
       "4  /kaggle/input/dehazing-dataset-thesis/O-HAZE/O...   \n",
       "\n",
       "                                                Hazy  \n",
       "0  /kaggle/input/dehazing-dataset-thesis/O-HAZE/O...  \n",
       "1  /kaggle/input/dehazing-dataset-thesis/O-HAZE/O...  \n",
       "2  /kaggle/input/dehazing-dataset-thesis/O-HAZE/O...  \n",
       "3  /kaggle/input/dehazing-dataset-thesis/O-HAZE/O...  \n",
       "4  /kaggle/input/dehazing-dataset-thesis/O-HAZE/O...  "
      ]
     },
     "execution_count": 8,
     "metadata": {},
     "output_type": "execute_result"
    }
   ],
   "source": [
    "ground_truth=list(os.listdir('/kaggle/input/dehazing-dataset-thesis/O-HAZE/O-HAZY NTIRE 2018/GT'))\n",
    "hazy_imgs=list(os.listdir('/kaggle/input/dehazing-dataset-thesis/O-HAZE/O-HAZY NTIRE 2018/hazy'))\n",
    "ground_truth.sort()\n",
    "hazy_imgs.sort()\n",
    "tabular_data_o_haze=pd.DataFrame({'GT':list(map(lambda x:'/kaggle/input/dehazing-dataset-thesis/O-HAZE/O-HAZY NTIRE 2018/GT/'+x,ground_truth)),\n",
    "                                     'Hazy':list(map(lambda x:'/kaggle/input/dehazing-dataset-thesis/O-HAZE/O-HAZY NTIRE 2018/hazy/'+x,hazy_imgs))})\n",
    "tabular_data_o_haze.head()"
   ]
  },
  {
   "cell_type": "code",
   "execution_count": 9,
   "id": "8002665e",
   "metadata": {
    "execution": {
     "iopub.execute_input": "2024-06-09T17:15:59.157926Z",
     "iopub.status.busy": "2024-06-09T17:15:59.157486Z",
     "iopub.status.idle": "2024-06-09T17:15:59.164028Z",
     "shell.execute_reply": "2024-06-09T17:15:59.162833Z"
    },
    "papermill": {
     "duration": 0.018894,
     "end_time": "2024-06-09T17:15:59.166627",
     "exception": false,
     "start_time": "2024-06-09T17:15:59.147733",
     "status": "completed"
    },
    "tags": []
   },
   "outputs": [],
   "source": [
    "train_data_o_haze=tabular_data_o_haze.iloc[:-10,:]\n",
    "val_data_o_haze=tabular_data_o_haze.iloc[-10:-5,:]\n",
    "test_data_o_haze=tabular_data_o_haze.iloc[-5:,:]"
   ]
  },
  {
   "cell_type": "markdown",
   "id": "ba9ee458",
   "metadata": {
    "papermill": {
     "duration": 0.008159,
     "end_time": "2024-06-09T17:15:59.183399",
     "exception": false,
     "start_time": "2024-06-09T17:15:59.175240",
     "status": "completed"
    },
    "tags": []
   },
   "source": [
    "## For RESIDE-ITS"
   ]
  },
  {
   "cell_type": "code",
   "execution_count": 10,
   "id": "fc050a08",
   "metadata": {
    "execution": {
     "iopub.execute_input": "2024-06-09T17:15:59.202249Z",
     "iopub.status.busy": "2024-06-09T17:15:59.201827Z",
     "iopub.status.idle": "2024-06-09T17:15:59.456701Z",
     "shell.execute_reply": "2024-06-09T17:15:59.455607Z"
    },
    "papermill": {
     "duration": 0.267612,
     "end_time": "2024-06-09T17:15:59.459398",
     "exception": false,
     "start_time": "2024-06-09T17:15:59.191786",
     "status": "completed"
    },
    "tags": []
   },
   "outputs": [
    {
     "data": {
      "text/html": [
       "<div>\n",
       "<style scoped>\n",
       "    .dataframe tbody tr th:only-of-type {\n",
       "        vertical-align: middle;\n",
       "    }\n",
       "\n",
       "    .dataframe tbody tr th {\n",
       "        vertical-align: top;\n",
       "    }\n",
       "\n",
       "    .dataframe thead th {\n",
       "        text-align: right;\n",
       "    }\n",
       "</style>\n",
       "<table border=\"1\" class=\"dataframe\">\n",
       "  <thead>\n",
       "    <tr style=\"text-align: right;\">\n",
       "      <th></th>\n",
       "      <th>GT</th>\n",
       "      <th>Hazy</th>\n",
       "    </tr>\n",
       "  </thead>\n",
       "  <tbody>\n",
       "    <tr>\n",
       "      <th>0</th>\n",
       "      <td>/kaggle/input/dehazing-dataset-thesis/archive(...</td>\n",
       "      <td>/kaggle/input/dehazing-dataset-thesis/archive(...</td>\n",
       "    </tr>\n",
       "    <tr>\n",
       "      <th>1</th>\n",
       "      <td>/kaggle/input/dehazing-dataset-thesis/archive(...</td>\n",
       "      <td>/kaggle/input/dehazing-dataset-thesis/archive(...</td>\n",
       "    </tr>\n",
       "    <tr>\n",
       "      <th>2</th>\n",
       "      <td>/kaggle/input/dehazing-dataset-thesis/archive(...</td>\n",
       "      <td>/kaggle/input/dehazing-dataset-thesis/archive(...</td>\n",
       "    </tr>\n",
       "    <tr>\n",
       "      <th>3</th>\n",
       "      <td>/kaggle/input/dehazing-dataset-thesis/archive(...</td>\n",
       "      <td>/kaggle/input/dehazing-dataset-thesis/archive(...</td>\n",
       "    </tr>\n",
       "    <tr>\n",
       "      <th>4</th>\n",
       "      <td>/kaggle/input/dehazing-dataset-thesis/archive(...</td>\n",
       "      <td>/kaggle/input/dehazing-dataset-thesis/archive(...</td>\n",
       "    </tr>\n",
       "  </tbody>\n",
       "</table>\n",
       "</div>"
      ],
      "text/plain": [
       "                                                  GT  \\\n",
       "0  /kaggle/input/dehazing-dataset-thesis/archive(...   \n",
       "1  /kaggle/input/dehazing-dataset-thesis/archive(...   \n",
       "2  /kaggle/input/dehazing-dataset-thesis/archive(...   \n",
       "3  /kaggle/input/dehazing-dataset-thesis/archive(...   \n",
       "4  /kaggle/input/dehazing-dataset-thesis/archive(...   \n",
       "\n",
       "                                                Hazy  \n",
       "0  /kaggle/input/dehazing-dataset-thesis/archive(...  \n",
       "1  /kaggle/input/dehazing-dataset-thesis/archive(...  \n",
       "2  /kaggle/input/dehazing-dataset-thesis/archive(...  \n",
       "3  /kaggle/input/dehazing-dataset-thesis/archive(...  \n",
       "4  /kaggle/input/dehazing-dataset-thesis/archive(...  "
      ]
     },
     "execution_count": 10,
     "metadata": {},
     "output_type": "execute_result"
    }
   ],
   "source": [
    "hazy_imgs_reside=list(os.listdir('/kaggle/input/dehazing-dataset-thesis/archive(1)/hazy'))\n",
    "hazy_imgs_reside.sort()\n",
    "clear_imgs_reside=list(map(lambda x:x.split('_')[0]+'.png',hazy_imgs_reside))\n",
    "hazy_imgs_reside=list(map(lambda x:'/kaggle/input/dehazing-dataset-thesis/archive(1)/hazy/'+x,hazy_imgs_reside))\n",
    "clear_imgs_reside=list(map(lambda x:'/kaggle/input/dehazing-dataset-thesis/archive(1)/clear/'+x,clear_imgs_reside))\n",
    "\n",
    "tabular_data_reside=pd.DataFrame({'GT':clear_imgs_reside,\n",
    "                                     'Hazy':hazy_imgs_reside})\n",
    "tabular_data_reside.head()"
   ]
  },
  {
   "cell_type": "markdown",
   "id": "ed4bb253",
   "metadata": {
    "papermill": {
     "duration": 0.008608,
     "end_time": "2024-06-09T17:15:59.476804",
     "exception": false,
     "start_time": "2024-06-09T17:15:59.468196",
     "status": "completed"
    },
    "tags": []
   },
   "source": [
    "## For RESIDE-SOTS"
   ]
  },
  {
   "cell_type": "code",
   "execution_count": 11,
   "id": "06fdd2da",
   "metadata": {
    "execution": {
     "iopub.execute_input": "2024-06-09T17:15:59.496302Z",
     "iopub.status.busy": "2024-06-09T17:15:59.495881Z",
     "iopub.status.idle": "2024-06-09T17:15:59.615996Z",
     "shell.execute_reply": "2024-06-09T17:15:59.614854Z"
    },
    "papermill": {
     "duration": 0.133178,
     "end_time": "2024-06-09T17:15:59.618739",
     "exception": false,
     "start_time": "2024-06-09T17:15:59.485561",
     "status": "completed"
    },
    "tags": []
   },
   "outputs": [
    {
     "data": {
      "text/html": [
       "<div>\n",
       "<style scoped>\n",
       "    .dataframe tbody tr th:only-of-type {\n",
       "        vertical-align: middle;\n",
       "    }\n",
       "\n",
       "    .dataframe tbody tr th {\n",
       "        vertical-align: top;\n",
       "    }\n",
       "\n",
       "    .dataframe thead th {\n",
       "        text-align: right;\n",
       "    }\n",
       "</style>\n",
       "<table border=\"1\" class=\"dataframe\">\n",
       "  <thead>\n",
       "    <tr style=\"text-align: right;\">\n",
       "      <th></th>\n",
       "      <th>GT</th>\n",
       "      <th>Hazy</th>\n",
       "    </tr>\n",
       "  </thead>\n",
       "  <tbody>\n",
       "    <tr>\n",
       "      <th>0</th>\n",
       "      <td>/kaggle/input/dehazing-dataset-thesis/SOTS/SOT...</td>\n",
       "      <td>/kaggle/input/dehazing-dataset-thesis/SOTS/SOT...</td>\n",
       "    </tr>\n",
       "    <tr>\n",
       "      <th>1</th>\n",
       "      <td>/kaggle/input/dehazing-dataset-thesis/SOTS/SOT...</td>\n",
       "      <td>/kaggle/input/dehazing-dataset-thesis/SOTS/SOT...</td>\n",
       "    </tr>\n",
       "    <tr>\n",
       "      <th>2</th>\n",
       "      <td>/kaggle/input/dehazing-dataset-thesis/SOTS/SOT...</td>\n",
       "      <td>/kaggle/input/dehazing-dataset-thesis/SOTS/SOT...</td>\n",
       "    </tr>\n",
       "    <tr>\n",
       "      <th>3</th>\n",
       "      <td>/kaggle/input/dehazing-dataset-thesis/SOTS/SOT...</td>\n",
       "      <td>/kaggle/input/dehazing-dataset-thesis/SOTS/SOT...</td>\n",
       "    </tr>\n",
       "    <tr>\n",
       "      <th>4</th>\n",
       "      <td>/kaggle/input/dehazing-dataset-thesis/SOTS/SOT...</td>\n",
       "      <td>/kaggle/input/dehazing-dataset-thesis/SOTS/SOT...</td>\n",
       "    </tr>\n",
       "  </tbody>\n",
       "</table>\n",
       "</div>"
      ],
      "text/plain": [
       "                                                  GT  \\\n",
       "0  /kaggle/input/dehazing-dataset-thesis/SOTS/SOT...   \n",
       "1  /kaggle/input/dehazing-dataset-thesis/SOTS/SOT...   \n",
       "2  /kaggle/input/dehazing-dataset-thesis/SOTS/SOT...   \n",
       "3  /kaggle/input/dehazing-dataset-thesis/SOTS/SOT...   \n",
       "4  /kaggle/input/dehazing-dataset-thesis/SOTS/SOT...   \n",
       "\n",
       "                                                Hazy  \n",
       "0  /kaggle/input/dehazing-dataset-thesis/SOTS/SOT...  \n",
       "1  /kaggle/input/dehazing-dataset-thesis/SOTS/SOT...  \n",
       "2  /kaggle/input/dehazing-dataset-thesis/SOTS/SOT...  \n",
       "3  /kaggle/input/dehazing-dataset-thesis/SOTS/SOT...  \n",
       "4  /kaggle/input/dehazing-dataset-thesis/SOTS/SOT...  "
      ]
     },
     "execution_count": 11,
     "metadata": {},
     "output_type": "execute_result"
    }
   ],
   "source": [
    "hazy_imgs_sots=list(os.listdir('/kaggle/input/dehazing-dataset-thesis/SOTS/SOTS/indoor/hazy'))\n",
    "hazy_imgs_sots.sort()\n",
    "clear_imgs_sots=list(map(lambda x:x.split('_')[0]+'.png',hazy_imgs_sots))\n",
    "hazy_imgs_sots=list(map(lambda x:'/kaggle/input/dehazing-dataset-thesis/SOTS/SOTS/indoor/hazy/'+x,hazy_imgs_sots))\n",
    "clear_imgs_sots=list(map(lambda x:'/kaggle/input/dehazing-dataset-thesis/SOTS/SOTS/indoor/gt/'+x,clear_imgs_sots))\n",
    "\n",
    "tabular_data_sots=pd.DataFrame({'GT':clear_imgs_sots,\n",
    "                                     'Hazy':hazy_imgs_sots})\n",
    "tabular_data_sots.head()"
   ]
  },
  {
   "cell_type": "markdown",
   "id": "0d1bb19e",
   "metadata": {
    "papermill": {
     "duration": 0.008764,
     "end_time": "2024-06-09T17:15:59.636458",
     "exception": false,
     "start_time": "2024-06-09T17:15:59.627694",
     "status": "completed"
    },
    "tags": []
   },
   "source": [
    "## Merging the datasets"
   ]
  },
  {
   "cell_type": "code",
   "execution_count": 12,
   "id": "9412b9a6",
   "metadata": {
    "execution": {
     "iopub.execute_input": "2024-06-09T17:15:59.656426Z",
     "iopub.status.busy": "2024-06-09T17:15:59.656033Z",
     "iopub.status.idle": "2024-06-09T17:15:59.678830Z",
     "shell.execute_reply": "2024-06-09T17:15:59.677585Z"
    },
    "papermill": {
     "duration": 0.036234,
     "end_time": "2024-06-09T17:15:59.681784",
     "exception": false,
     "start_time": "2024-06-09T17:15:59.645550",
     "status": "completed"
    },
    "tags": []
   },
   "outputs": [
    {
     "data": {
      "text/html": [
       "<div>\n",
       "<style scoped>\n",
       "    .dataframe tbody tr th:only-of-type {\n",
       "        vertical-align: middle;\n",
       "    }\n",
       "\n",
       "    .dataframe tbody tr th {\n",
       "        vertical-align: top;\n",
       "    }\n",
       "\n",
       "    .dataframe thead th {\n",
       "        text-align: right;\n",
       "    }\n",
       "</style>\n",
       "<table border=\"1\" class=\"dataframe\">\n",
       "  <thead>\n",
       "    <tr style=\"text-align: right;\">\n",
       "      <th></th>\n",
       "      <th>GT</th>\n",
       "      <th>Hazy</th>\n",
       "    </tr>\n",
       "  </thead>\n",
       "  <tbody>\n",
       "    <tr>\n",
       "      <th>0</th>\n",
       "      <td>/kaggle/input/dehazing-dataset-thesis/archive(...</td>\n",
       "      <td>/kaggle/input/dehazing-dataset-thesis/archive(...</td>\n",
       "    </tr>\n",
       "    <tr>\n",
       "      <th>1</th>\n",
       "      <td>/kaggle/input/dehazing-dataset-thesis/archive(...</td>\n",
       "      <td>/kaggle/input/dehazing-dataset-thesis/archive(...</td>\n",
       "    </tr>\n",
       "    <tr>\n",
       "      <th>2</th>\n",
       "      <td>/kaggle/input/dehazing-dataset-thesis/archive(...</td>\n",
       "      <td>/kaggle/input/dehazing-dataset-thesis/archive(...</td>\n",
       "    </tr>\n",
       "    <tr>\n",
       "      <th>3</th>\n",
       "      <td>/kaggle/input/dehazing-dataset-thesis/archive(...</td>\n",
       "      <td>/kaggle/input/dehazing-dataset-thesis/archive(...</td>\n",
       "    </tr>\n",
       "    <tr>\n",
       "      <th>4</th>\n",
       "      <td>/kaggle/input/dehazing-dataset-thesis/archive(...</td>\n",
       "      <td>/kaggle/input/dehazing-dataset-thesis/archive(...</td>\n",
       "    </tr>\n",
       "  </tbody>\n",
       "</table>\n",
       "</div>"
      ],
      "text/plain": [
       "                                                  GT  \\\n",
       "0  /kaggle/input/dehazing-dataset-thesis/archive(...   \n",
       "1  /kaggle/input/dehazing-dataset-thesis/archive(...   \n",
       "2  /kaggle/input/dehazing-dataset-thesis/archive(...   \n",
       "3  /kaggle/input/dehazing-dataset-thesis/archive(...   \n",
       "4  /kaggle/input/dehazing-dataset-thesis/archive(...   \n",
       "\n",
       "                                                Hazy  \n",
       "0  /kaggle/input/dehazing-dataset-thesis/archive(...  \n",
       "1  /kaggle/input/dehazing-dataset-thesis/archive(...  \n",
       "2  /kaggle/input/dehazing-dataset-thesis/archive(...  \n",
       "3  /kaggle/input/dehazing-dataset-thesis/archive(...  \n",
       "4  /kaggle/input/dehazing-dataset-thesis/archive(...  "
      ]
     },
     "execution_count": 12,
     "metadata": {},
     "output_type": "execute_result"
    }
   ],
   "source": [
    "dehazing_dataset_train=pd.concat([tabular_data_reside,train_data_o_haze,train_data_nh_haze,\n",
    "                                    train_data_i_haze,train_data_dense_haze],axis=0)\n",
    "dehazing_dataset_train=dehazing_dataset_train.sample(frac=1,ignore_index=True)\n",
    "dehazing_dataset_train.head()"
   ]
  },
  {
   "cell_type": "code",
   "execution_count": 13,
   "id": "c7c900fa",
   "metadata": {
    "execution": {
     "iopub.execute_input": "2024-06-09T17:15:59.702109Z",
     "iopub.status.busy": "2024-06-09T17:15:59.701686Z",
     "iopub.status.idle": "2024-06-09T17:15:59.716137Z",
     "shell.execute_reply": "2024-06-09T17:15:59.714713Z"
    },
    "papermill": {
     "duration": 0.027673,
     "end_time": "2024-06-09T17:15:59.718848",
     "exception": false,
     "start_time": "2024-06-09T17:15:59.691175",
     "status": "completed"
    },
    "tags": []
   },
   "outputs": [
    {
     "data": {
      "text/html": [
       "<div>\n",
       "<style scoped>\n",
       "    .dataframe tbody tr th:only-of-type {\n",
       "        vertical-align: middle;\n",
       "    }\n",
       "\n",
       "    .dataframe tbody tr th {\n",
       "        vertical-align: top;\n",
       "    }\n",
       "\n",
       "    .dataframe thead th {\n",
       "        text-align: right;\n",
       "    }\n",
       "</style>\n",
       "<table border=\"1\" class=\"dataframe\">\n",
       "  <thead>\n",
       "    <tr style=\"text-align: right;\">\n",
       "      <th></th>\n",
       "      <th>GT</th>\n",
       "      <th>Hazy</th>\n",
       "    </tr>\n",
       "  </thead>\n",
       "  <tbody>\n",
       "    <tr>\n",
       "      <th>0</th>\n",
       "      <td>/kaggle/input/dehazing-dataset-thesis/Dense_Ha...</td>\n",
       "      <td>/kaggle/input/dehazing-dataset-thesis/Dense_Ha...</td>\n",
       "    </tr>\n",
       "    <tr>\n",
       "      <th>1</th>\n",
       "      <td>/kaggle/input/dehazing-dataset-thesis/O-HAZE/O...</td>\n",
       "      <td>/kaggle/input/dehazing-dataset-thesis/O-HAZE/O...</td>\n",
       "    </tr>\n",
       "    <tr>\n",
       "      <th>2</th>\n",
       "      <td>/kaggle/input/dehazing-dataset-thesis/I-HAZE/I...</td>\n",
       "      <td>/kaggle/input/dehazing-dataset-thesis/I-HAZE/I...</td>\n",
       "    </tr>\n",
       "    <tr>\n",
       "      <th>3</th>\n",
       "      <td>/kaggle/input/dehazing-dataset-thesis/Dense_Ha...</td>\n",
       "      <td>/kaggle/input/dehazing-dataset-thesis/Dense_Ha...</td>\n",
       "    </tr>\n",
       "    <tr>\n",
       "      <th>4</th>\n",
       "      <td>/kaggle/input/dehazing-dataset-thesis/NH-HAZE/...</td>\n",
       "      <td>/kaggle/input/dehazing-dataset-thesis/NH-HAZE/...</td>\n",
       "    </tr>\n",
       "  </tbody>\n",
       "</table>\n",
       "</div>"
      ],
      "text/plain": [
       "                                                  GT  \\\n",
       "0  /kaggle/input/dehazing-dataset-thesis/Dense_Ha...   \n",
       "1  /kaggle/input/dehazing-dataset-thesis/O-HAZE/O...   \n",
       "2  /kaggle/input/dehazing-dataset-thesis/I-HAZE/I...   \n",
       "3  /kaggle/input/dehazing-dataset-thesis/Dense_Ha...   \n",
       "4  /kaggle/input/dehazing-dataset-thesis/NH-HAZE/...   \n",
       "\n",
       "                                                Hazy  \n",
       "0  /kaggle/input/dehazing-dataset-thesis/Dense_Ha...  \n",
       "1  /kaggle/input/dehazing-dataset-thesis/O-HAZE/O...  \n",
       "2  /kaggle/input/dehazing-dataset-thesis/I-HAZE/I...  \n",
       "3  /kaggle/input/dehazing-dataset-thesis/Dense_Ha...  \n",
       "4  /kaggle/input/dehazing-dataset-thesis/NH-HAZE/...  "
      ]
     },
     "execution_count": 13,
     "metadata": {},
     "output_type": "execute_result"
    }
   ],
   "source": [
    "dehazing_dataset_val=pd.concat([val_data_o_haze,val_data_nh_haze,\n",
    "                                    val_data_i_haze,val_data_dense_haze],axis=0)\n",
    "dehazing_dataset_val=dehazing_dataset_val.sample(frac=1,ignore_index=True)\n",
    "dehazing_dataset_val.head()"
   ]
  },
  {
   "cell_type": "code",
   "execution_count": 14,
   "id": "311b3860",
   "metadata": {
    "execution": {
     "iopub.execute_input": "2024-06-09T17:15:59.740525Z",
     "iopub.status.busy": "2024-06-09T17:15:59.740113Z",
     "iopub.status.idle": "2024-06-09T17:15:59.759057Z",
     "shell.execute_reply": "2024-06-09T17:15:59.757849Z"
    },
    "papermill": {
     "duration": 0.032558,
     "end_time": "2024-06-09T17:15:59.761680",
     "exception": false,
     "start_time": "2024-06-09T17:15:59.729122",
     "status": "completed"
    },
    "tags": []
   },
   "outputs": [
    {
     "data": {
      "text/html": [
       "<div>\n",
       "<style scoped>\n",
       "    .dataframe tbody tr th:only-of-type {\n",
       "        vertical-align: middle;\n",
       "    }\n",
       "\n",
       "    .dataframe tbody tr th {\n",
       "        vertical-align: top;\n",
       "    }\n",
       "\n",
       "    .dataframe thead th {\n",
       "        text-align: right;\n",
       "    }\n",
       "</style>\n",
       "<table border=\"1\" class=\"dataframe\">\n",
       "  <thead>\n",
       "    <tr style=\"text-align: right;\">\n",
       "      <th></th>\n",
       "      <th>GT</th>\n",
       "      <th>Hazy</th>\n",
       "    </tr>\n",
       "  </thead>\n",
       "  <tbody>\n",
       "    <tr>\n",
       "      <th>0</th>\n",
       "      <td>/kaggle/input/dehazing-dataset-thesis/SOTS/SOT...</td>\n",
       "      <td>/kaggle/input/dehazing-dataset-thesis/SOTS/SOT...</td>\n",
       "    </tr>\n",
       "    <tr>\n",
       "      <th>1</th>\n",
       "      <td>/kaggle/input/dehazing-dataset-thesis/SOTS/SOT...</td>\n",
       "      <td>/kaggle/input/dehazing-dataset-thesis/SOTS/SOT...</td>\n",
       "    </tr>\n",
       "    <tr>\n",
       "      <th>2</th>\n",
       "      <td>/kaggle/input/dehazing-dataset-thesis/SOTS/SOT...</td>\n",
       "      <td>/kaggle/input/dehazing-dataset-thesis/SOTS/SOT...</td>\n",
       "    </tr>\n",
       "    <tr>\n",
       "      <th>3</th>\n",
       "      <td>/kaggle/input/dehazing-dataset-thesis/SOTS/SOT...</td>\n",
       "      <td>/kaggle/input/dehazing-dataset-thesis/SOTS/SOT...</td>\n",
       "    </tr>\n",
       "    <tr>\n",
       "      <th>4</th>\n",
       "      <td>/kaggle/input/dehazing-dataset-thesis/SOTS/SOT...</td>\n",
       "      <td>/kaggle/input/dehazing-dataset-thesis/SOTS/SOT...</td>\n",
       "    </tr>\n",
       "  </tbody>\n",
       "</table>\n",
       "</div>"
      ],
      "text/plain": [
       "                                                  GT  \\\n",
       "0  /kaggle/input/dehazing-dataset-thesis/SOTS/SOT...   \n",
       "1  /kaggle/input/dehazing-dataset-thesis/SOTS/SOT...   \n",
       "2  /kaggle/input/dehazing-dataset-thesis/SOTS/SOT...   \n",
       "3  /kaggle/input/dehazing-dataset-thesis/SOTS/SOT...   \n",
       "4  /kaggle/input/dehazing-dataset-thesis/SOTS/SOT...   \n",
       "\n",
       "                                                Hazy  \n",
       "0  /kaggle/input/dehazing-dataset-thesis/SOTS/SOT...  \n",
       "1  /kaggle/input/dehazing-dataset-thesis/SOTS/SOT...  \n",
       "2  /kaggle/input/dehazing-dataset-thesis/SOTS/SOT...  \n",
       "3  /kaggle/input/dehazing-dataset-thesis/SOTS/SOT...  \n",
       "4  /kaggle/input/dehazing-dataset-thesis/SOTS/SOT...  "
      ]
     },
     "execution_count": 14,
     "metadata": {},
     "output_type": "execute_result"
    }
   ],
   "source": [
    "dehazing_dataset_test=pd.concat([tabular_data_sots,test_data_o_haze,test_data_nh_haze,\n",
    "                                    test_data_i_haze,test_data_dense_haze],axis=0)\n",
    "dehazing_dataset_test=dehazing_dataset_test.sample(frac=1,ignore_index=True)\n",
    "dehazing_dataset_test.head()"
   ]
  },
  {
   "cell_type": "markdown",
   "id": "09a8e9ed",
   "metadata": {
    "papermill": {
     "duration": 0.010371,
     "end_time": "2024-06-09T17:15:59.781801",
     "exception": false,
     "start_time": "2024-06-09T17:15:59.771430",
     "status": "completed"
    },
    "tags": []
   },
   "source": [
    "## Exporting"
   ]
  },
  {
   "cell_type": "code",
   "execution_count": 15,
   "id": "1fa40c99",
   "metadata": {
    "execution": {
     "iopub.execute_input": "2024-06-09T17:15:59.804086Z",
     "iopub.status.busy": "2024-06-09T17:15:59.803667Z",
     "iopub.status.idle": "2024-06-09T17:15:59.930034Z",
     "shell.execute_reply": "2024-06-09T17:15:59.928964Z"
    },
    "papermill": {
     "duration": 0.140781,
     "end_time": "2024-06-09T17:15:59.933025",
     "exception": false,
     "start_time": "2024-06-09T17:15:59.792244",
     "status": "completed"
    },
    "tags": []
   },
   "outputs": [],
   "source": [
    "dehazing_dataset_train.to_csv('/kaggle/working/dehaing_dataset_train_v2.csv',index=False)\n",
    "dehazing_dataset_val.to_csv('/kaggle/working/dehazing_dataset_val.csv',index=False)\n",
    "dehazing_dataset_test.to_csv('/kaggle/working/dehazing_dataset_test.csv',index=False)"
   ]
  }
 ],
 "metadata": {
  "kaggle": {
   "accelerator": "none",
   "dataSources": [
    {
     "databundleVersionId": 8783140,
     "datasetId": 5101434,
     "sourceId": 8634122,
     "sourceType": "datasetVersion"
    }
   ],
   "dockerImageVersionId": 30698,
   "isGpuEnabled": false,
   "isInternetEnabled": true,
   "language": "python",
   "sourceType": "notebook"
  },
  "kernelspec": {
   "display_name": "Python 3",
   "language": "python",
   "name": "python3"
  },
  "language_info": {
   "codemirror_mode": {
    "name": "ipython",
    "version": 3
   },
   "file_extension": ".py",
   "mimetype": "text/x-python",
   "name": "python",
   "nbconvert_exporter": "python",
   "pygments_lexer": "ipython3",
   "version": "3.10.13"
  },
  "papermill": {
   "default_parameters": {},
   "duration": 5.973435,
   "end_time": "2024-06-09T17:16:00.466161",
   "environment_variables": {},
   "exception": null,
   "input_path": "__notebook__.ipynb",
   "output_path": "__notebook__.ipynb",
   "parameters": {},
   "start_time": "2024-06-09T17:15:54.492726",
   "version": "2.5.0"
  }
 },
 "nbformat": 4,
 "nbformat_minor": 5
}
