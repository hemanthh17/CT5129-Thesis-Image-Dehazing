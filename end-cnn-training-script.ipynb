{
 "cells": [
  {
   "cell_type": "markdown",
   "id": "77f0fa77",
   "metadata": {},
   "source": [
    "# Enhancer CNN training \n",
    "## Training a custom CNN architecture"
   ]
  },
  {
   "cell_type": "code",
   "execution_count": 1,
   "id": "ad0c9155",
   "metadata": {
    "_cell_guid": "b1076dfc-b9ad-4769-8c92-a6c4dae69d19",
    "_uuid": "8f2839f25d086af736a60e9eeb907d3b93b6e0e5",
    "execution": {
     "iopub.execute_input": "2024-07-02T16:37:09.842435Z",
     "iopub.status.busy": "2024-07-02T16:37:09.841959Z",
     "iopub.status.idle": "2024-07-02T17:10:16.738269Z",
     "shell.execute_reply": "2024-07-02T17:10:16.736036Z"
    },
    "papermill": {
     "duration": 1986.908789,
     "end_time": "2024-07-02T17:10:16.746018",
     "exception": false,
     "start_time": "2024-07-02T16:37:09.837229",
     "status": "completed"
    },
    "tags": []
   },
   "outputs": [
    {
     "name": "stderr",
     "output_type": "stream",
     "text": [
      "100%|██████████| 40/40 [33:01<00:00, 49.53s/it]"
     ]
    },
    {
     "name": "stdout",
     "output_type": "stream",
     "text": [
      "Finished Training\n"
     ]
    },
    {
     "name": "stderr",
     "output_type": "stream",
     "text": [
      "\n"
     ]
    }
   ],
   "source": [
    "import os\n",
    "import random\n",
    "import torch\n",
    "import torch.nn as nn\n",
    "import torch.optim as optim\n",
    "import torchvision.transforms as transforms\n",
    "from torch.utils.data import DataLoader, Dataset\n",
    "from PIL import Image\n",
    "from glob import glob\n",
    "from tqdm import tqdm\n",
    "import cv2\n",
    "from torchmetrics.image import PeakSignalNoiseRatio,StructuralSimilarityIndexMeasure\n",
    "\n",
    "torch.manual_seed(42)\n",
    "random.seed(42)\n",
    "\n",
    "input_folder_list=list(glob('/kaggle/input/combination-dataset/Dehazenet_2L_RGB_TestDWT_Dehazenet_RGB_Test/*.png'))\n",
    "target_folder_list=list(glob('/kaggle/input/combination-dataset/DWT_Dehazenet_RGB_Test/clear_image_*.png'))\n",
    "target_folder_list.sort()\n",
    "input_folder_list.sort()\n",
    "batch_size=16\n",
    "num_epochs=40\n",
    "learning_rate=1e-4\n",
    "\n",
    "class DehazingDataset(Dataset):\n",
    "    def __init__(self,input_folder,target_folder,transform=None):\n",
    "        self.input_files=[file for file in input_folder_list]\n",
    "        self.target_files=[file for file in target_folder_list]\n",
    "        self.transform=transform\n",
    "\n",
    "    def __len__(self):\n",
    "        return len(self.input_files)\n",
    "\n",
    "    def __getitem__(self, idx):\n",
    "        input_img=Image.open(self.input_files[idx]).convert('RGB')\n",
    "        target_img=Image.open(self.target_files[idx]).convert('RGB')\n",
    "        if self.transform:\n",
    "            input_img=self.transform(input_img)\n",
    "            target_img=self.transform(target_img)\n",
    "        return input_img, target_img\n",
    "    \n",
    "class SimpleCNN(nn.Module):\n",
    "    def __init__(self):\n",
    "        super(SimpleCNN, self).__init__()\n",
    "        self.conv1=nn.Conv2d(in_channels=3,out_channels=16,kernel_size=3,stride=1,padding=1)\n",
    "        self.conv2=nn.Conv2d(in_channels=16,out_channels=32,kernel_size=3,stride=1,padding=1)\n",
    "        self.conv3=nn.Conv2d(in_channels=32,out_channels=3,kernel_size=3,stride=1,padding=1)\n",
    "        self.relu1=nn.ReLU()\n",
    "        self.relu2=nn.ReLU()\n",
    "        self.relu3=nn.ReLU()\n",
    "\n",
    "    def forward(self,x):\n",
    "        x=self.relu1(self.conv1(x))\n",
    "        x=self.relu2(self.conv2(x))\n",
    "        x=self.relu3(self.conv3(x))\n",
    "        return x\n",
    "\n",
    "transform=transforms.Compose([\n",
    "    transforms.Resize((256, 256)),\n",
    "    transforms.ToTensor(),\n",
    "])\n",
    "\n",
    "dataset=DehazingDataset(input_folder_list[:int(0.1*len(input_folder_list))],\n",
    "                        target_folder_list[:int(0.1*len(target_folder_list))],transform=transform)\n",
    "dataloader=DataLoader(dataset,batch_size=batch_size,shuffle=True)\n",
    "\n",
    "model=SimpleCNN()\n",
    "criterion=nn.MSELoss()\n",
    "optimizer=optim.Adam(model.parameters(),lr=learning_rate)\n",
    "\n",
    "for epoch in tqdm(range(num_epochs)):\n",
    "    running_loss=0.0\n",
    "    for i,data in enumerate(dataloader,0):\n",
    "        inputs,targets=data\n",
    "        optimizer.zero_grad()\n",
    "        outputs=model(inputs)\n",
    "        loss=criterion(outputs, targets)\n",
    "        loss.backward()\n",
    "        optimizer.step()\n",
    "        running_loss+=loss.item()\n",
    "        if (i+1) % 10==0:\n",
    "            running_loss=0.0\n",
    "\n",
    "print('Finished Training...')\n",
    "torch.save(model.state_dict(),'end_cnn.pth')\n"
   ]
  },
  {
   "cell_type": "markdown",
   "id": "0e1e2cb0",
   "metadata": {},
   "source": [
    "## Enhancer CNN Inference "
   ]
  },
  {
   "cell_type": "code",
   "execution_count": 2,
   "id": "74a93811",
   "metadata": {
    "execution": {
     "iopub.execute_input": "2024-07-02T17:10:16.759852Z",
     "iopub.status.busy": "2024-07-02T17:10:16.758654Z",
     "iopub.status.idle": "2024-07-02T17:10:46.618218Z",
     "shell.execute_reply": "2024-07-02T17:10:46.616991Z"
    },
    "papermill": {
     "duration": 29.868302,
     "end_time": "2024-07-02T17:10:46.620439",
     "exception": false,
     "start_time": "2024-07-02T17:10:16.752137",
     "status": "completed"
    },
    "tags": []
   },
   "outputs": [
    {
     "name": "stdout",
     "output_type": "stream",
     "text": [
      "PSNR: 18.8249, SSIM: 0.7565\n"
     ]
    }
   ],
   "source": [
    "psnr_fn,ssim_fn=PeakSignalNoiseRatio(),StructuralSimilarityIndexMeasure()\n",
    "psnr_li,ssim_li=[],[]\n",
    "for inp,clear in zip(input_folder_list[int(0.1*len(input_folder_list)):],target_folder_list[int(0.1*len(target_folder_list)):]):\n",
    "    clear_image_path=clear\n",
    "    merged_image_path=inp\n",
    "    clear=transforms.ToTensor()(cv2.cvtColor(cv2.imread(clear_image_path),cv2.COLOR_BGR2RGB))\n",
    "    proc=transforms.ToTensor()(cv2.cvtColor(cv2.imread(merged_image_path),cv2.COLOR_BGR2RGB))\n",
    "    model_proc=model(proc.unsqueeze(0))\n",
    "    psnr_value=psnr_fn(model_proc,clear.unsqueeze(0))\n",
    "    ssim_value=ssim_fn(model_proc,clear.unsqueeze(0))\n",
    "    psnr_li.append(psnr_value)\n",
    "    ssim_li.append(ssim_value)\n",
    "print(f\"PSNR: {sum(psnr_li)/len(psnr_li):.4f}, SSIM: {sum(ssim_li)/len(ssim_li):.4f}\")"
   ]
  }
 ],
 "metadata": {
  "kaggle": {
   "accelerator": "none",
   "dataSources": [
    {
     "datasetId": 5321965,
     "sourceId": 8842556,
     "sourceType": "datasetVersion"
    }
   ],
   "dockerImageVersionId": 30732,
   "isGpuEnabled": false,
   "isInternetEnabled": true,
   "language": "python",
   "sourceType": "notebook"
  },
  "kernelspec": {
   "display_name": "Python 3",
   "language": "python",
   "name": "python3"
  },
  "language_info": {
   "codemirror_mode": {
    "name": "ipython",
    "version": 3
   },
   "file_extension": ".py",
   "mimetype": "text/x-python",
   "name": "python",
   "nbconvert_exporter": "python",
   "pygments_lexer": "ipython3",
   "version": "3.10.13"
  },
  "papermill": {
   "default_parameters": {},
   "duration": 2022.118804,
   "end_time": "2024-07-02T17:10:49.242890",
   "environment_variables": {},
   "exception": null,
   "input_path": "__notebook__.ipynb",
   "output_path": "__notebook__.ipynb",
   "parameters": {},
   "start_time": "2024-07-02T16:37:07.124086",
   "version": "2.5.0"
  }
 },
 "nbformat": 4,
 "nbformat_minor": 5
}
