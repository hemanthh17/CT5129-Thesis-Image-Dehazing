{
 "cells": [
  {
   "cell_type": "code",
   "execution_count": 1,
   "id": "74a9db25",
   "metadata": {
    "execution": {
     "iopub.execute_input": "2024-05-28T12:12:12.299900Z",
     "iopub.status.busy": "2024-05-28T12:12:12.299032Z",
     "iopub.status.idle": "2024-05-28T12:12:13.350227Z",
     "shell.execute_reply": "2024-05-28T12:12:13.348889Z"
    },
    "papermill": {
     "duration": 1.063145,
     "end_time": "2024-05-28T12:12:13.353418",
     "exception": false,
     "start_time": "2024-05-28T12:12:12.290273",
     "status": "completed"
    },
    "tags": []
   },
   "outputs": [],
   "source": [
    "import pandas as pd\n",
    "import numpy as np\n",
    "import os\n",
    "from glob import glob\n",
    "from PIL import Image"
   ]
  },
  {
   "cell_type": "markdown",
   "id": "06981318",
   "metadata": {
    "papermill": {
     "duration": 0.004933,
     "end_time": "2024-05-28T12:12:13.364112",
     "exception": false,
     "start_time": "2024-05-28T12:12:13.359179",
     "status": "completed"
    },
    "tags": []
   },
   "source": [
    "## From DenseHaze Dataset"
   ]
  },
  {
   "cell_type": "code",
   "execution_count": 2,
   "id": "4c5ca2a0",
   "metadata": {
    "execution": {
     "iopub.execute_input": "2024-05-28T12:12:13.376977Z",
     "iopub.status.busy": "2024-05-28T12:12:13.376063Z",
     "iopub.status.idle": "2024-05-28T12:12:13.450597Z",
     "shell.execute_reply": "2024-05-28T12:12:13.449611Z"
    },
    "papermill": {
     "duration": 0.084449,
     "end_time": "2024-05-28T12:12:13.453725",
     "exception": false,
     "start_time": "2024-05-28T12:12:13.369276",
     "status": "completed"
    },
    "tags": []
   },
   "outputs": [
    {
     "data": {
      "text/html": [
       "<div>\n",
       "<style scoped>\n",
       "    .dataframe tbody tr th:only-of-type {\n",
       "        vertical-align: middle;\n",
       "    }\n",
       "\n",
       "    .dataframe tbody tr th {\n",
       "        vertical-align: top;\n",
       "    }\n",
       "\n",
       "    .dataframe thead th {\n",
       "        text-align: right;\n",
       "    }\n",
       "</style>\n",
       "<table border=\"1\" class=\"dataframe\">\n",
       "  <thead>\n",
       "    <tr style=\"text-align: right;\">\n",
       "      <th></th>\n",
       "      <th>GT</th>\n",
       "      <th>Hazy</th>\n",
       "    </tr>\n",
       "  </thead>\n",
       "  <tbody>\n",
       "    <tr>\n",
       "      <th>0</th>\n",
       "      <td>/kaggle/input/dehazing-dataset-thesis/Dense_Ha...</td>\n",
       "      <td>/kaggle/input/dehazing-dataset-thesis/Dense_Ha...</td>\n",
       "    </tr>\n",
       "    <tr>\n",
       "      <th>1</th>\n",
       "      <td>/kaggle/input/dehazing-dataset-thesis/Dense_Ha...</td>\n",
       "      <td>/kaggle/input/dehazing-dataset-thesis/Dense_Ha...</td>\n",
       "    </tr>\n",
       "    <tr>\n",
       "      <th>2</th>\n",
       "      <td>/kaggle/input/dehazing-dataset-thesis/Dense_Ha...</td>\n",
       "      <td>/kaggle/input/dehazing-dataset-thesis/Dense_Ha...</td>\n",
       "    </tr>\n",
       "    <tr>\n",
       "      <th>3</th>\n",
       "      <td>/kaggle/input/dehazing-dataset-thesis/Dense_Ha...</td>\n",
       "      <td>/kaggle/input/dehazing-dataset-thesis/Dense_Ha...</td>\n",
       "    </tr>\n",
       "    <tr>\n",
       "      <th>4</th>\n",
       "      <td>/kaggle/input/dehazing-dataset-thesis/Dense_Ha...</td>\n",
       "      <td>/kaggle/input/dehazing-dataset-thesis/Dense_Ha...</td>\n",
       "    </tr>\n",
       "  </tbody>\n",
       "</table>\n",
       "</div>"
      ],
      "text/plain": [
       "                                                  GT  \\\n",
       "0  /kaggle/input/dehazing-dataset-thesis/Dense_Ha...   \n",
       "1  /kaggle/input/dehazing-dataset-thesis/Dense_Ha...   \n",
       "2  /kaggle/input/dehazing-dataset-thesis/Dense_Ha...   \n",
       "3  /kaggle/input/dehazing-dataset-thesis/Dense_Ha...   \n",
       "4  /kaggle/input/dehazing-dataset-thesis/Dense_Ha...   \n",
       "\n",
       "                                                Hazy  \n",
       "0  /kaggle/input/dehazing-dataset-thesis/Dense_Ha...  \n",
       "1  /kaggle/input/dehazing-dataset-thesis/Dense_Ha...  \n",
       "2  /kaggle/input/dehazing-dataset-thesis/Dense_Ha...  \n",
       "3  /kaggle/input/dehazing-dataset-thesis/Dense_Ha...  \n",
       "4  /kaggle/input/dehazing-dataset-thesis/Dense_Ha...  "
      ]
     },
     "execution_count": 2,
     "metadata": {},
     "output_type": "execute_result"
    }
   ],
   "source": [
    "ground_truth=list(os.listdir('/kaggle/input/dehazing-dataset-thesis/Dense_Haze_NTIRE19/GT/'))\n",
    "hazy_imgs=list(os.listdir('/kaggle/input/dehazing-dataset-thesis/Dense_Haze_NTIRE19/hazy/'))\n",
    "ground_truth.sort()\n",
    "hazy_imgs.sort()\n",
    "tabular_data_dense_haze=pd.DataFrame({'GT':list(map(lambda x:'/kaggle/input/dehazing-dataset-thesis/Dense_Haze_NTIRE19/GT/'+x,ground_truth)),\n",
    "                                     'Hazy':list(map(lambda x:'/kaggle/input/dehazing-dataset-thesis/Dense_Haze_NTIRE19/hazy/'+x,hazy_imgs))})\n",
    "tabular_data_dense_haze.head()"
   ]
  },
  {
   "cell_type": "markdown",
   "id": "d8d7bfe0",
   "metadata": {
    "papermill": {
     "duration": 0.005312,
     "end_time": "2024-05-28T12:12:13.464741",
     "exception": false,
     "start_time": "2024-05-28T12:12:13.459429",
     "status": "completed"
    },
    "tags": []
   },
   "source": [
    "## From I-Haze Dataset"
   ]
  },
  {
   "cell_type": "code",
   "execution_count": 3,
   "id": "06f67a2a",
   "metadata": {
    "execution": {
     "iopub.execute_input": "2024-05-28T12:12:13.478538Z",
     "iopub.status.busy": "2024-05-28T12:12:13.477576Z",
     "iopub.status.idle": "2024-05-28T12:12:13.527813Z",
     "shell.execute_reply": "2024-05-28T12:12:13.526866Z"
    },
    "papermill": {
     "duration": 0.059735,
     "end_time": "2024-05-28T12:12:13.529914",
     "exception": false,
     "start_time": "2024-05-28T12:12:13.470179",
     "status": "completed"
    },
    "tags": []
   },
   "outputs": [
    {
     "data": {
      "text/html": [
       "<div>\n",
       "<style scoped>\n",
       "    .dataframe tbody tr th:only-of-type {\n",
       "        vertical-align: middle;\n",
       "    }\n",
       "\n",
       "    .dataframe tbody tr th {\n",
       "        vertical-align: top;\n",
       "    }\n",
       "\n",
       "    .dataframe thead th {\n",
       "        text-align: right;\n",
       "    }\n",
       "</style>\n",
       "<table border=\"1\" class=\"dataframe\">\n",
       "  <thead>\n",
       "    <tr style=\"text-align: right;\">\n",
       "      <th></th>\n",
       "      <th>GT</th>\n",
       "      <th>Hazy</th>\n",
       "    </tr>\n",
       "  </thead>\n",
       "  <tbody>\n",
       "    <tr>\n",
       "      <th>0</th>\n",
       "      <td>/kaggle/input/dehazing-dataset-thesis/I-HAZE/I...</td>\n",
       "      <td>/kaggle/input/dehazing-dataset-thesis/I-HAZE/I...</td>\n",
       "    </tr>\n",
       "    <tr>\n",
       "      <th>1</th>\n",
       "      <td>/kaggle/input/dehazing-dataset-thesis/I-HAZE/I...</td>\n",
       "      <td>/kaggle/input/dehazing-dataset-thesis/I-HAZE/I...</td>\n",
       "    </tr>\n",
       "    <tr>\n",
       "      <th>2</th>\n",
       "      <td>/kaggle/input/dehazing-dataset-thesis/I-HAZE/I...</td>\n",
       "      <td>/kaggle/input/dehazing-dataset-thesis/I-HAZE/I...</td>\n",
       "    </tr>\n",
       "    <tr>\n",
       "      <th>3</th>\n",
       "      <td>/kaggle/input/dehazing-dataset-thesis/I-HAZE/I...</td>\n",
       "      <td>/kaggle/input/dehazing-dataset-thesis/I-HAZE/I...</td>\n",
       "    </tr>\n",
       "    <tr>\n",
       "      <th>4</th>\n",
       "      <td>/kaggle/input/dehazing-dataset-thesis/I-HAZE/I...</td>\n",
       "      <td>/kaggle/input/dehazing-dataset-thesis/I-HAZE/I...</td>\n",
       "    </tr>\n",
       "  </tbody>\n",
       "</table>\n",
       "</div>"
      ],
      "text/plain": [
       "                                                  GT  \\\n",
       "0  /kaggle/input/dehazing-dataset-thesis/I-HAZE/I...   \n",
       "1  /kaggle/input/dehazing-dataset-thesis/I-HAZE/I...   \n",
       "2  /kaggle/input/dehazing-dataset-thesis/I-HAZE/I...   \n",
       "3  /kaggle/input/dehazing-dataset-thesis/I-HAZE/I...   \n",
       "4  /kaggle/input/dehazing-dataset-thesis/I-HAZE/I...   \n",
       "\n",
       "                                                Hazy  \n",
       "0  /kaggle/input/dehazing-dataset-thesis/I-HAZE/I...  \n",
       "1  /kaggle/input/dehazing-dataset-thesis/I-HAZE/I...  \n",
       "2  /kaggle/input/dehazing-dataset-thesis/I-HAZE/I...  \n",
       "3  /kaggle/input/dehazing-dataset-thesis/I-HAZE/I...  \n",
       "4  /kaggle/input/dehazing-dataset-thesis/I-HAZE/I...  "
      ]
     },
     "execution_count": 3,
     "metadata": {},
     "output_type": "execute_result"
    }
   ],
   "source": [
    "ground_truth=list(os.listdir('/kaggle/input/dehazing-dataset-thesis/I-HAZE/I-HAZY NTIRE 2018/GT'))\n",
    "hazy_imgs=list(os.listdir('/kaggle/input/dehazing-dataset-thesis/I-HAZE/I-HAZY NTIRE 2018/hazy/'))\n",
    "ground_truth.sort()\n",
    "hazy_imgs.sort()\n",
    "tabular_data_i_haze=pd.DataFrame({'GT':list(map(lambda x:'/kaggle/input/dehazing-dataset-thesis/I-HAZE/I-HAZY NTIRE 2018/GT/'+x,ground_truth)),\n",
    "                                     'Hazy':list(map(lambda x:'/kaggle/input/dehazing-dataset-thesis/I-HAZE/I-HAZY NTIRE 2018/hazy/'+x,hazy_imgs))})\n",
    "tabular_data_i_haze.head()"
   ]
  },
  {
   "cell_type": "markdown",
   "id": "1ef83b5e",
   "metadata": {
    "papermill": {
     "duration": 0.005483,
     "end_time": "2024-05-28T12:12:13.540896",
     "exception": false,
     "start_time": "2024-05-28T12:12:13.535413",
     "status": "completed"
    },
    "tags": []
   },
   "source": [
    "## For NH-Haze Dataset"
   ]
  },
  {
   "cell_type": "code",
   "execution_count": 4,
   "id": "47e93721",
   "metadata": {
    "execution": {
     "iopub.execute_input": "2024-05-28T12:12:13.556846Z",
     "iopub.status.busy": "2024-05-28T12:12:13.556033Z",
     "iopub.status.idle": "2024-05-28T12:12:13.599361Z",
     "shell.execute_reply": "2024-05-28T12:12:13.597627Z"
    },
    "papermill": {
     "duration": 0.055629,
     "end_time": "2024-05-28T12:12:13.602253",
     "exception": false,
     "start_time": "2024-05-28T12:12:13.546624",
     "status": "completed"
    },
    "tags": []
   },
   "outputs": [
    {
     "data": {
      "text/html": [
       "<div>\n",
       "<style scoped>\n",
       "    .dataframe tbody tr th:only-of-type {\n",
       "        vertical-align: middle;\n",
       "    }\n",
       "\n",
       "    .dataframe tbody tr th {\n",
       "        vertical-align: top;\n",
       "    }\n",
       "\n",
       "    .dataframe thead th {\n",
       "        text-align: right;\n",
       "    }\n",
       "</style>\n",
       "<table border=\"1\" class=\"dataframe\">\n",
       "  <thead>\n",
       "    <tr style=\"text-align: right;\">\n",
       "      <th></th>\n",
       "      <th>GT</th>\n",
       "      <th>Hazy</th>\n",
       "    </tr>\n",
       "  </thead>\n",
       "  <tbody>\n",
       "    <tr>\n",
       "      <th>0</th>\n",
       "      <td>/kaggle/input/dehazing-dataset-thesis/NH-HAZE/...</td>\n",
       "      <td>/kaggle/input/dehazing-dataset-thesis/NH-HAZE/...</td>\n",
       "    </tr>\n",
       "    <tr>\n",
       "      <th>1</th>\n",
       "      <td>/kaggle/input/dehazing-dataset-thesis/NH-HAZE/...</td>\n",
       "      <td>/kaggle/input/dehazing-dataset-thesis/NH-HAZE/...</td>\n",
       "    </tr>\n",
       "    <tr>\n",
       "      <th>2</th>\n",
       "      <td>/kaggle/input/dehazing-dataset-thesis/NH-HAZE/...</td>\n",
       "      <td>/kaggle/input/dehazing-dataset-thesis/NH-HAZE/...</td>\n",
       "    </tr>\n",
       "    <tr>\n",
       "      <th>3</th>\n",
       "      <td>/kaggle/input/dehazing-dataset-thesis/NH-HAZE/...</td>\n",
       "      <td>/kaggle/input/dehazing-dataset-thesis/NH-HAZE/...</td>\n",
       "    </tr>\n",
       "    <tr>\n",
       "      <th>4</th>\n",
       "      <td>/kaggle/input/dehazing-dataset-thesis/NH-HAZE/...</td>\n",
       "      <td>/kaggle/input/dehazing-dataset-thesis/NH-HAZE/...</td>\n",
       "    </tr>\n",
       "  </tbody>\n",
       "</table>\n",
       "</div>"
      ],
      "text/plain": [
       "                                                  GT  \\\n",
       "0  /kaggle/input/dehazing-dataset-thesis/NH-HAZE/...   \n",
       "1  /kaggle/input/dehazing-dataset-thesis/NH-HAZE/...   \n",
       "2  /kaggle/input/dehazing-dataset-thesis/NH-HAZE/...   \n",
       "3  /kaggle/input/dehazing-dataset-thesis/NH-HAZE/...   \n",
       "4  /kaggle/input/dehazing-dataset-thesis/NH-HAZE/...   \n",
       "\n",
       "                                                Hazy  \n",
       "0  /kaggle/input/dehazing-dataset-thesis/NH-HAZE/...  \n",
       "1  /kaggle/input/dehazing-dataset-thesis/NH-HAZE/...  \n",
       "2  /kaggle/input/dehazing-dataset-thesis/NH-HAZE/...  \n",
       "3  /kaggle/input/dehazing-dataset-thesis/NH-HAZE/...  \n",
       "4  /kaggle/input/dehazing-dataset-thesis/NH-HAZE/...  "
      ]
     },
     "execution_count": 4,
     "metadata": {},
     "output_type": "execute_result"
    }
   ],
   "source": [
    "all_imgs=list(os.listdir('/kaggle/input/dehazing-dataset-thesis/NH-HAZE/NH-HAZE'))\n",
    "hazy_imgs=[img for img in all_imgs if img[3]=='h']\n",
    "clear_imgs=[img for img in all_imgs if img[3]=='G']\n",
    "clear_imgs.sort()\n",
    "hazy_imgs.sort()\n",
    "tabular_data_nh_haze=pd.DataFrame({'GT':list(map(lambda x:'/kaggle/input/dehazing-dataset-thesis/NH-HAZE/NH-HAZE/'+x,clear_imgs)),\n",
    "                                     'Hazy':list(map(lambda x:'/kaggle/input/dehazing-dataset-thesis/NH-HAZE/NH-HAZE/'+x,hazy_imgs))})\n",
    "tabular_data_nh_haze.head()"
   ]
  },
  {
   "cell_type": "markdown",
   "id": "927775cb",
   "metadata": {
    "papermill": {
     "duration": 0.009505,
     "end_time": "2024-05-28T12:12:13.618011",
     "exception": false,
     "start_time": "2024-05-28T12:12:13.608506",
     "status": "completed"
    },
    "tags": []
   },
   "source": [
    "## For O-Haze Dataset"
   ]
  },
  {
   "cell_type": "code",
   "execution_count": 5,
   "id": "ad0537c9",
   "metadata": {
    "execution": {
     "iopub.execute_input": "2024-05-28T12:12:13.638262Z",
     "iopub.status.busy": "2024-05-28T12:12:13.637620Z",
     "iopub.status.idle": "2024-05-28T12:12:13.681852Z",
     "shell.execute_reply": "2024-05-28T12:12:13.680248Z"
    },
    "papermill": {
     "duration": 0.058371,
     "end_time": "2024-05-28T12:12:13.685579",
     "exception": false,
     "start_time": "2024-05-28T12:12:13.627208",
     "status": "completed"
    },
    "tags": []
   },
   "outputs": [
    {
     "data": {
      "text/html": [
       "<div>\n",
       "<style scoped>\n",
       "    .dataframe tbody tr th:only-of-type {\n",
       "        vertical-align: middle;\n",
       "    }\n",
       "\n",
       "    .dataframe tbody tr th {\n",
       "        vertical-align: top;\n",
       "    }\n",
       "\n",
       "    .dataframe thead th {\n",
       "        text-align: right;\n",
       "    }\n",
       "</style>\n",
       "<table border=\"1\" class=\"dataframe\">\n",
       "  <thead>\n",
       "    <tr style=\"text-align: right;\">\n",
       "      <th></th>\n",
       "      <th>GT</th>\n",
       "      <th>Hazy</th>\n",
       "    </tr>\n",
       "  </thead>\n",
       "  <tbody>\n",
       "    <tr>\n",
       "      <th>0</th>\n",
       "      <td>/kaggle/input/dehazing-dataset-thesis/O-HAZE/O...</td>\n",
       "      <td>/kaggle/input/dehazing-dataset-thesis/O-HAZE/O...</td>\n",
       "    </tr>\n",
       "    <tr>\n",
       "      <th>1</th>\n",
       "      <td>/kaggle/input/dehazing-dataset-thesis/O-HAZE/O...</td>\n",
       "      <td>/kaggle/input/dehazing-dataset-thesis/O-HAZE/O...</td>\n",
       "    </tr>\n",
       "    <tr>\n",
       "      <th>2</th>\n",
       "      <td>/kaggle/input/dehazing-dataset-thesis/O-HAZE/O...</td>\n",
       "      <td>/kaggle/input/dehazing-dataset-thesis/O-HAZE/O...</td>\n",
       "    </tr>\n",
       "    <tr>\n",
       "      <th>3</th>\n",
       "      <td>/kaggle/input/dehazing-dataset-thesis/O-HAZE/O...</td>\n",
       "      <td>/kaggle/input/dehazing-dataset-thesis/O-HAZE/O...</td>\n",
       "    </tr>\n",
       "    <tr>\n",
       "      <th>4</th>\n",
       "      <td>/kaggle/input/dehazing-dataset-thesis/O-HAZE/O...</td>\n",
       "      <td>/kaggle/input/dehazing-dataset-thesis/O-HAZE/O...</td>\n",
       "    </tr>\n",
       "  </tbody>\n",
       "</table>\n",
       "</div>"
      ],
      "text/plain": [
       "                                                  GT  \\\n",
       "0  /kaggle/input/dehazing-dataset-thesis/O-HAZE/O...   \n",
       "1  /kaggle/input/dehazing-dataset-thesis/O-HAZE/O...   \n",
       "2  /kaggle/input/dehazing-dataset-thesis/O-HAZE/O...   \n",
       "3  /kaggle/input/dehazing-dataset-thesis/O-HAZE/O...   \n",
       "4  /kaggle/input/dehazing-dataset-thesis/O-HAZE/O...   \n",
       "\n",
       "                                                Hazy  \n",
       "0  /kaggle/input/dehazing-dataset-thesis/O-HAZE/O...  \n",
       "1  /kaggle/input/dehazing-dataset-thesis/O-HAZE/O...  \n",
       "2  /kaggle/input/dehazing-dataset-thesis/O-HAZE/O...  \n",
       "3  /kaggle/input/dehazing-dataset-thesis/O-HAZE/O...  \n",
       "4  /kaggle/input/dehazing-dataset-thesis/O-HAZE/O...  "
      ]
     },
     "execution_count": 5,
     "metadata": {},
     "output_type": "execute_result"
    }
   ],
   "source": [
    "ground_truth=list(os.listdir('/kaggle/input/dehazing-dataset-thesis/O-HAZE/O-HAZY NTIRE 2018/GT'))\n",
    "hazy_imgs=list(os.listdir('/kaggle/input/dehazing-dataset-thesis/O-HAZE/O-HAZY NTIRE 2018/hazy'))\n",
    "ground_truth.sort()\n",
    "hazy_imgs.sort()\n",
    "tabular_data_o_haze=pd.DataFrame({'GT':list(map(lambda x:'/kaggle/input/dehazing-dataset-thesis/O-HAZE/O-HAZY NTIRE 2018/GT/'+x,ground_truth)),\n",
    "                                     'Hazy':list(map(lambda x:'/kaggle/input/dehazing-dataset-thesis/O-HAZE/O-HAZY NTIRE 2018/hazy/'+x,hazy_imgs))})\n",
    "tabular_data_o_haze.head()"
   ]
  },
  {
   "cell_type": "markdown",
   "id": "b2bbc73b",
   "metadata": {
    "papermill": {
     "duration": 0.006712,
     "end_time": "2024-05-28T12:12:13.702076",
     "exception": false,
     "start_time": "2024-05-28T12:12:13.695364",
     "status": "completed"
    },
    "tags": []
   },
   "source": [
    "## For BeDDE Dataset"
   ]
  },
  {
   "cell_type": "code",
   "execution_count": 6,
   "id": "ce8b0c9c",
   "metadata": {
    "execution": {
     "iopub.execute_input": "2024-05-28T12:12:13.718245Z",
     "iopub.status.busy": "2024-05-28T12:12:13.717757Z",
     "iopub.status.idle": "2024-05-28T12:12:13.918921Z",
     "shell.execute_reply": "2024-05-28T12:12:13.917722Z"
    },
    "papermill": {
     "duration": 0.213207,
     "end_time": "2024-05-28T12:12:13.922442",
     "exception": false,
     "start_time": "2024-05-28T12:12:13.709235",
     "status": "completed"
    },
    "tags": []
   },
   "outputs": [
    {
     "data": {
      "text/html": [
       "<div>\n",
       "<style scoped>\n",
       "    .dataframe tbody tr th:only-of-type {\n",
       "        vertical-align: middle;\n",
       "    }\n",
       "\n",
       "    .dataframe tbody tr th {\n",
       "        vertical-align: top;\n",
       "    }\n",
       "\n",
       "    .dataframe thead th {\n",
       "        text-align: right;\n",
       "    }\n",
       "</style>\n",
       "<table border=\"1\" class=\"dataframe\">\n",
       "  <thead>\n",
       "    <tr style=\"text-align: right;\">\n",
       "      <th></th>\n",
       "      <th>GT</th>\n",
       "      <th>Hazy</th>\n",
       "    </tr>\n",
       "  </thead>\n",
       "  <tbody>\n",
       "    <tr>\n",
       "      <th>0</th>\n",
       "      <td>/kaggle/input/dehazing-dataset-thesis/BeDDE/Be...</td>\n",
       "      <td>/kaggle/input/dehazing-dataset-thesis/BeDDE/Be...</td>\n",
       "    </tr>\n",
       "    <tr>\n",
       "      <th>1</th>\n",
       "      <td>/kaggle/input/dehazing-dataset-thesis/BeDDE/Be...</td>\n",
       "      <td>/kaggle/input/dehazing-dataset-thesis/BeDDE/Be...</td>\n",
       "    </tr>\n",
       "    <tr>\n",
       "      <th>2</th>\n",
       "      <td>/kaggle/input/dehazing-dataset-thesis/BeDDE/Be...</td>\n",
       "      <td>/kaggle/input/dehazing-dataset-thesis/BeDDE/Be...</td>\n",
       "    </tr>\n",
       "    <tr>\n",
       "      <th>3</th>\n",
       "      <td>/kaggle/input/dehazing-dataset-thesis/BeDDE/Be...</td>\n",
       "      <td>/kaggle/input/dehazing-dataset-thesis/BeDDE/Be...</td>\n",
       "    </tr>\n",
       "    <tr>\n",
       "      <th>4</th>\n",
       "      <td>/kaggle/input/dehazing-dataset-thesis/BeDDE/Be...</td>\n",
       "      <td>/kaggle/input/dehazing-dataset-thesis/BeDDE/Be...</td>\n",
       "    </tr>\n",
       "  </tbody>\n",
       "</table>\n",
       "</div>"
      ],
      "text/plain": [
       "                                                  GT  \\\n",
       "0  /kaggle/input/dehazing-dataset-thesis/BeDDE/Be...   \n",
       "1  /kaggle/input/dehazing-dataset-thesis/BeDDE/Be...   \n",
       "2  /kaggle/input/dehazing-dataset-thesis/BeDDE/Be...   \n",
       "3  /kaggle/input/dehazing-dataset-thesis/BeDDE/Be...   \n",
       "4  /kaggle/input/dehazing-dataset-thesis/BeDDE/Be...   \n",
       "\n",
       "                                                Hazy  \n",
       "0  /kaggle/input/dehazing-dataset-thesis/BeDDE/Be...  \n",
       "1  /kaggle/input/dehazing-dataset-thesis/BeDDE/Be...  \n",
       "2  /kaggle/input/dehazing-dataset-thesis/BeDDE/Be...  \n",
       "3  /kaggle/input/dehazing-dataset-thesis/BeDDE/Be...  \n",
       "4  /kaggle/input/dehazing-dataset-thesis/BeDDE/Be...  "
      ]
     },
     "execution_count": 6,
     "metadata": {},
     "output_type": "execute_result"
    }
   ],
   "source": [
    "hazy_images=list(glob('/kaggle/input/dehazing-dataset-thesis/BeDDE/BeDDE/*/fog/*'))\n",
    "hazy_images.sort()\n",
    "clear_images=list(map(lambda x:x.split('_')[0]+'_clear.png',hazy_images))\n",
    "clear_images=list(map(lambda x:'/'.join(x.split('/')[:7])+'/gt/'+x.split('/')[-1],clear_images))\n",
    "clear_images.sort()\n",
    "tabular_data_bedde=pd.DataFrame({'GT':clear_images,\n",
    "                                     'Hazy':hazy_images})\n",
    "tabular_data_bedde.head()"
   ]
  },
  {
   "cell_type": "code",
   "execution_count": 7,
   "id": "872b26b4",
   "metadata": {
    "execution": {
     "iopub.execute_input": "2024-05-28T12:12:13.938457Z",
     "iopub.status.busy": "2024-05-28T12:12:13.937620Z",
     "iopub.status.idle": "2024-05-28T12:12:13.960349Z",
     "shell.execute_reply": "2024-05-28T12:12:13.959224Z"
    },
    "papermill": {
     "duration": 0.033345,
     "end_time": "2024-05-28T12:12:13.962839",
     "exception": false,
     "start_time": "2024-05-28T12:12:13.929494",
     "status": "completed"
    },
    "tags": []
   },
   "outputs": [
    {
     "data": {
      "text/html": [
       "<div>\n",
       "<style scoped>\n",
       "    .dataframe tbody tr th:only-of-type {\n",
       "        vertical-align: middle;\n",
       "    }\n",
       "\n",
       "    .dataframe tbody tr th {\n",
       "        vertical-align: top;\n",
       "    }\n",
       "\n",
       "    .dataframe thead th {\n",
       "        text-align: right;\n",
       "    }\n",
       "</style>\n",
       "<table border=\"1\" class=\"dataframe\">\n",
       "  <thead>\n",
       "    <tr style=\"text-align: right;\">\n",
       "      <th></th>\n",
       "      <th>GT</th>\n",
       "      <th>Hazy</th>\n",
       "    </tr>\n",
       "  </thead>\n",
       "  <tbody>\n",
       "    <tr>\n",
       "      <th>0</th>\n",
       "      <td>/kaggle/input/dehazing-dataset-thesis/O-HAZE/O...</td>\n",
       "      <td>/kaggle/input/dehazing-dataset-thesis/O-HAZE/O...</td>\n",
       "    </tr>\n",
       "    <tr>\n",
       "      <th>1</th>\n",
       "      <td>/kaggle/input/dehazing-dataset-thesis/O-HAZE/O...</td>\n",
       "      <td>/kaggle/input/dehazing-dataset-thesis/O-HAZE/O...</td>\n",
       "    </tr>\n",
       "    <tr>\n",
       "      <th>2</th>\n",
       "      <td>/kaggle/input/dehazing-dataset-thesis/BeDDE/Be...</td>\n",
       "      <td>/kaggle/input/dehazing-dataset-thesis/BeDDE/Be...</td>\n",
       "    </tr>\n",
       "    <tr>\n",
       "      <th>3</th>\n",
       "      <td>/kaggle/input/dehazing-dataset-thesis/BeDDE/Be...</td>\n",
       "      <td>/kaggle/input/dehazing-dataset-thesis/BeDDE/Be...</td>\n",
       "    </tr>\n",
       "    <tr>\n",
       "      <th>4</th>\n",
       "      <td>/kaggle/input/dehazing-dataset-thesis/BeDDE/Be...</td>\n",
       "      <td>/kaggle/input/dehazing-dataset-thesis/BeDDE/Be...</td>\n",
       "    </tr>\n",
       "  </tbody>\n",
       "</table>\n",
       "</div>"
      ],
      "text/plain": [
       "                                                  GT  \\\n",
       "0  /kaggle/input/dehazing-dataset-thesis/O-HAZE/O...   \n",
       "1  /kaggle/input/dehazing-dataset-thesis/O-HAZE/O...   \n",
       "2  /kaggle/input/dehazing-dataset-thesis/BeDDE/Be...   \n",
       "3  /kaggle/input/dehazing-dataset-thesis/BeDDE/Be...   \n",
       "4  /kaggle/input/dehazing-dataset-thesis/BeDDE/Be...   \n",
       "\n",
       "                                                Hazy  \n",
       "0  /kaggle/input/dehazing-dataset-thesis/O-HAZE/O...  \n",
       "1  /kaggle/input/dehazing-dataset-thesis/O-HAZE/O...  \n",
       "2  /kaggle/input/dehazing-dataset-thesis/BeDDE/Be...  \n",
       "3  /kaggle/input/dehazing-dataset-thesis/BeDDE/Be...  \n",
       "4  /kaggle/input/dehazing-dataset-thesis/BeDDE/Be...  "
      ]
     },
     "execution_count": 7,
     "metadata": {},
     "output_type": "execute_result"
    }
   ],
   "source": [
    "dehazing_dataset_tabular=pd.concat([tabular_data_bedde,tabular_data_o_haze,tabular_data_nh_haze,tabular_data_i_haze,tabular_data_dense_haze],axis=0)\n",
    "dehazing_dataset_tabular=dehazing_dataset_tabular.sample(frac=1,ignore_index=True)\n",
    "dehazing_dataset_tabular.head()"
   ]
  },
  {
   "cell_type": "markdown",
   "id": "a7372b57",
   "metadata": {
    "papermill": {
     "duration": 0.006689,
     "end_time": "2024-05-28T12:12:13.976300",
     "exception": false,
     "start_time": "2024-05-28T12:12:13.969611",
     "status": "completed"
    },
    "tags": []
   },
   "source": [
    "## Exporting"
   ]
  },
  {
   "cell_type": "code",
   "execution_count": 8,
   "id": "99704eab",
   "metadata": {
    "execution": {
     "iopub.execute_input": "2024-05-28T12:12:13.992657Z",
     "iopub.status.busy": "2024-05-28T12:12:13.991442Z",
     "iopub.status.idle": "2024-05-28T12:12:14.013768Z",
     "shell.execute_reply": "2024-05-28T12:12:14.012014Z"
    },
    "papermill": {
     "duration": 0.03455,
     "end_time": "2024-05-28T12:12:14.017561",
     "exception": false,
     "start_time": "2024-05-28T12:12:13.983011",
     "status": "completed"
    },
    "tags": []
   },
   "outputs": [],
   "source": [
    "dehazing_dataset_tabular.to_csv('/kaggle/working/dehaing_dataset.csv',index=False)"
   ]
  }
 ],
 "metadata": {
  "kaggle": {
   "accelerator": "none",
   "dataSources": [
    {
     "datasetId": 5101434,
     "sourceId": 8539632,
     "sourceType": "datasetVersion"
    }
   ],
   "dockerImageVersionId": 30698,
   "isGpuEnabled": false,
   "isInternetEnabled": true,
   "language": "python",
   "sourceType": "notebook"
  },
  "kernelspec": {
   "display_name": "Python 3",
   "language": "python",
   "name": "python3"
  },
  "language_info": {
   "codemirror_mode": {
    "name": "ipython",
    "version": 3
   },
   "file_extension": ".py",
   "mimetype": "text/x-python",
   "name": "python",
   "nbconvert_exporter": "python",
   "pygments_lexer": "ipython3",
   "version": "3.10.13"
  },
  "papermill": {
   "default_parameters": {},
   "duration": 6.04597,
   "end_time": "2024-05-28T12:12:14.653278",
   "environment_variables": {},
   "exception": null,
   "input_path": "__notebook__.ipynb",
   "output_path": "__notebook__.ipynb",
   "parameters": {},
   "start_time": "2024-05-28T12:12:08.607308",
   "version": "2.5.0"
  }
 },
 "nbformat": 4,
 "nbformat_minor": 5
}
