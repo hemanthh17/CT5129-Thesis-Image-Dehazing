{
 "cells": [
  {
   "cell_type": "markdown",
   "id": "b7279e5a",
   "metadata": {},
   "source": [
    "# DehazingNet Model \n",
    "The DehazingNet model is trained using the Mean Squared error and Perceptual Loss. \n",
    "\n",
    "## Installing Additional Libraries "
   ]
  },
  {
   "cell_type": "code",
   "execution_count": 1,
   "id": "9f8fd378",
   "metadata": {
    "_cell_guid": "b1076dfc-b9ad-4769-8c92-a6c4dae69d19",
    "_uuid": "8f2839f25d086af736a60e9eeb907d3b93b6e0e5",
    "execution": {
     "iopub.execute_input": "2024-06-29T08:32:56.245056Z",
     "iopub.status.busy": "2024-06-29T08:32:56.244634Z",
     "iopub.status.idle": "2024-06-29T08:33:12.079578Z",
     "shell.execute_reply": "2024-06-29T08:33:12.078185Z"
    },
    "papermill": {
     "duration": 15.845342,
     "end_time": "2024-06-29T08:33:12.082369",
     "exception": false,
     "start_time": "2024-06-29T08:32:56.237027",
     "status": "completed"
    },
    "tags": []
   },
   "outputs": [],
   "source": [
    "!pip install wandb torch-enhance torchmetrics lpips -q"
   ]
  },
  {
   "cell_type": "markdown",
   "id": "a996f31c",
   "metadata": {
    "papermill": {
     "duration": 0.005275,
     "end_time": "2024-06-29T08:33:12.093609",
     "exception": false,
     "start_time": "2024-06-29T08:33:12.088334",
     "status": "completed"
    },
    "tags": []
   },
   "source": [
    "## Importing Libraries"
   ]
  },
  {
   "cell_type": "code",
   "execution_count": 2,
   "id": "4fff073d",
   "metadata": {
    "execution": {
     "iopub.execute_input": "2024-06-29T08:33:12.106263Z",
     "iopub.status.busy": "2024-06-29T08:33:12.105898Z",
     "iopub.status.idle": "2024-06-29T08:33:27.759994Z",
     "shell.execute_reply": "2024-06-29T08:33:27.759052Z"
    },
    "papermill": {
     "duration": 15.66309,
     "end_time": "2024-06-29T08:33:27.762259",
     "exception": false,
     "start_time": "2024-06-29T08:33:12.099169",
     "status": "completed"
    },
    "tags": []
   },
   "outputs": [
    {
     "name": "stderr",
     "output_type": "stream",
     "text": [
      "\u001b[34m\u001b[1mwandb\u001b[0m: W&B API key is configured. Use \u001b[1m`wandb login --relogin`\u001b[0m to force relogin\n",
      "\u001b[34m\u001b[1mwandb\u001b[0m: \u001b[33mWARNING\u001b[0m If you're specifying your api key in code, ensure this code is not shared publicly.\n",
      "\u001b[34m\u001b[1mwandb\u001b[0m: \u001b[33mWARNING\u001b[0m Consider setting the WANDB_API_KEY environment variable, or running `wandb login` from the command line.\n",
      "\u001b[34m\u001b[1mwandb\u001b[0m: Appending key for api.wandb.ai to your netrc file: /root/.netrc\n"
     ]
    },
    {
     "data": {
      "text/plain": [
       "True"
      ]
     },
     "execution_count": 2,
     "metadata": {},
     "output_type": "execute_result"
    }
   ],
   "source": [
    "import gc,os\n",
    "import numpy as np\n",
    "import pandas as pd \n",
    "from PIL import Image\n",
    "from sklearn.model_selection import train_test_split\n",
    "from tqdm import tqdm\n",
    "import warnings\n",
    "warnings.filterwarnings('ignore')\n",
    "import lpips\n",
    "import pywt\n",
    "\n",
    "import torch \n",
    "import torch.nn as nn\n",
    "import torch.nn.functional as F\n",
    "import torch.optim as optim\n",
    "from torch.utils.data import DataLoader,Dataset\n",
    "import torchvision.transforms as tt \n",
    "from torch_enhance.losses import VGG as PerceptualLoss\n",
    "from torchmetrics.image import PeakSignalNoiseRatio,StructuralSimilarityIndexMeasure\n",
    "\n",
    "import wandb\n",
    "from kaggle_secrets import UserSecretsClient\n",
    "user_secrets = UserSecretsClient()\n",
    "secret_value = user_secrets.get_secret(\"WANDB\")\n",
    "wandb.login(key=secret_value)"
   ]
  },
  {
   "cell_type": "markdown",
   "id": "b659a94b",
   "metadata": {},
   "source": [
    "## Setting the Configuration\n",
    "Various hyperparameters are set here which helps to keep the associated settings uniform across the script. To monitor and track the model Weights and Biases has been used. No artifacts are being logged into the server.  "
   ]
  },
  {
   "cell_type": "code",
   "execution_count": 3,
   "id": "0dfbc783",
   "metadata": {
    "execution": {
     "iopub.execute_input": "2024-06-29T08:33:27.777663Z",
     "iopub.status.busy": "2024-06-29T08:33:27.776617Z",
     "iopub.status.idle": "2024-06-29T08:33:44.327859Z",
     "shell.execute_reply": "2024-06-29T08:33:44.324348Z"
    },
    "papermill": {
     "duration": 16.562304,
     "end_time": "2024-06-29T08:33:44.331118",
     "exception": false,
     "start_time": "2024-06-29T08:33:27.768814",
     "status": "completed"
    },
    "tags": []
   },
   "outputs": [
    {
     "name": "stderr",
     "output_type": "stream",
     "text": [
      "\u001b[34m\u001b[1mwandb\u001b[0m: Currently logged in as: \u001b[33mhemanthh17\u001b[0m. Use \u001b[1m`wandb login --relogin`\u001b[0m to force relogin\n",
      "\u001b[34m\u001b[1mwandb\u001b[0m: wandb version 0.17.3 is available!  To upgrade, please run:\n",
      "\u001b[34m\u001b[1mwandb\u001b[0m:  $ pip install wandb --upgrade\n",
      "\u001b[34m\u001b[1mwandb\u001b[0m: Tracking run with wandb version 0.16.6\n",
      "\u001b[34m\u001b[1mwandb\u001b[0m: Run data is saved locally in \u001b[35m\u001b[1m/kaggle/working/wandb/run-20240629_083327-fss23oih\u001b[0m\n",
      "\u001b[34m\u001b[1mwandb\u001b[0m: Run \u001b[1m`wandb offline`\u001b[0m to turn off syncing.\n",
      "\u001b[34m\u001b[1mwandb\u001b[0m: Syncing run \u001b[33mfirm-smoke-87\u001b[0m\n",
      "\u001b[34m\u001b[1mwandb\u001b[0m: ⭐️ View project at \u001b[34m\u001b[4mhttps://wandb.ai/hemanthh17/CT5129-Image%20Dehazing\u001b[0m\n",
      "\u001b[34m\u001b[1mwandb\u001b[0m: 🚀 View run at \u001b[34m\u001b[4mhttps://wandb.ai/hemanthh17/CT5129-Image%20Dehazing/runs/fss23oih\u001b[0m\n"
     ]
    },
    {
     "data": {
      "text/html": [
       "<button onClick=\"this.nextSibling.style.display='block';this.style.display='none';\">Display W&B run</button><iframe src='https://wandb.ai/hemanthh17/CT5129-Image%20Dehazing/runs/fss23oih?jupyter=true' style='border:none;width:100%;height:420px;display:none;'></iframe>"
      ],
      "text/plain": [
       "<wandb.sdk.wandb_run.Run at 0x7927407fe9e0>"
      ]
     },
     "execution_count": 3,
     "metadata": {},
     "output_type": "execute_result"
    }
   ],
   "source": [
    "class CFG:\n",
    "    lr=1e-4\n",
    "    epochs=15\n",
    "    train=True\n",
    "    stats=False\n",
    "    image_shape=(256,256)\n",
    "    train_bs=32\n",
    "    val_bs=4\n",
    "    test_bs=4\n",
    "    es_patience=5\n",
    "    device=\"cuda\" if torch.cuda.is_available() else \"cpu\"\n",
    "\n",
    "\n",
    "wandb.init(\n",
    "    project=\"CT5129-Image Dehazing\",\n",
    "    config={\n",
    "    \"learning_rate\": CFG.lr,\n",
    "    \"architecture\": \"CNN\",\n",
    "    \"dataset\": \"Image Dehazing Dataset\",\n",
    "    \"epochs\": CFG.epochs,\n",
    "     \"training_bs\":CFG.train_bs,\n",
    "        \"validation_bs\":CFG.val_bs,\n",
    "        \"test_bs\":CFG.test_bs,\n",
    "        \"device\":CFG.device,\n",
    "        \"optimizer\":\"Adam\",\n",
    "        \"es_patience\":CFG.es_patience,\n",
    "    }\n",
    ")\n"
   ]
  },
  {
   "cell_type": "code",
   "execution_count": 4,
   "id": "b79732fa",
   "metadata": {
    "execution": {
     "iopub.execute_input": "2024-06-29T08:33:44.348850Z",
     "iopub.status.busy": "2024-06-29T08:33:44.348509Z",
     "iopub.status.idle": "2024-06-29T08:33:44.425512Z",
     "shell.execute_reply": "2024-06-29T08:33:44.424611Z"
    },
    "papermill": {
     "duration": 0.087539,
     "end_time": "2024-06-29T08:33:44.427946",
     "exception": false,
     "start_time": "2024-06-29T08:33:44.340407",
     "status": "completed"
    },
    "tags": []
   },
   "outputs": [],
   "source": [
    "train_data=pd.read_csv('/kaggle/input/dehazing-dataset-thesis/dehaing_dataset_train.csv')\n",
    "val_data=pd.read_csv('/kaggle/input/dehazing-dataset-thesis/dehazing_dataset_val.csv')\n",
    "test_data=pd.read_csv('/kaggle/input/dehazing-dataset-thesis/dehazing_dataset_test.csv')"
   ]
  },
  {
   "cell_type": "markdown",
   "id": "cbf7bd2c",
   "metadata": {},
   "source": [
    "## Computing the Image Statistics\n",
    "\n",
    "In this step we compute the channel mean and standard deviation. This will help normalize the image and pass into the model. "
   ]
  },
  {
   "cell_type": "code",
   "execution_count": 5,
   "id": "d768eb28",
   "metadata": {
    "execution": {
     "iopub.execute_input": "2024-06-29T08:33:44.444325Z",
     "iopub.status.busy": "2024-06-29T08:33:44.443967Z",
     "iopub.status.idle": "2024-06-29T08:33:44.455971Z",
     "shell.execute_reply": "2024-06-29T08:33:44.455132Z"
    },
    "papermill": {
     "duration": 0.022887,
     "end_time": "2024-06-29T08:33:44.458142",
     "exception": false,
     "start_time": "2024-06-29T08:33:44.435255",
     "status": "completed"
    },
    "tags": []
   },
   "outputs": [],
   "source": [
    "if CFG.stats:\n",
    "    img_transformer=tt.transforms.Compose([\n",
    "        tt.transforms.Resize(CFG.image_shape),\n",
    "        tt.transforms.ToTensor()\n",
    "    ])\n",
    "    hazy_img_list=[img_transformer(Image.open(img)).to(CFG.device) for img in train_data.Hazy.values]\n",
    "    hazy_images_stack=torch.stack(hazy_img_list,dim=1)\n",
    "    hazy_images_stack=hazy_images_stack.permute(1,0,2,3)\n",
    "    print(\"Hazy Images Stack Dimension:\",hazy_images_stack.shape)\n",
    "    print(\"Mean of the hazy images per channel:\",torch.mean(hazy_images_stack,dim=(0,2,3)))\n",
    "    print(\"Standard Deviation of the hazy images per channel:\",torch.std(hazy_images_stack,dim=(0,2,3)))\n",
    "    del hazy_img_list,hazy_images_stack\n",
    "    gc.collect()\n",
    "    clear_img_list=[img_transformer(Image.open(img)).to(CFG.device) for img in train_data.GT.values]\n",
    "    clear_images_stack=torch.stack(clear_img_list,dim=1)\n",
    "    clear_images_stack=clear_images_stack.permute(1,0,2,3)\n",
    "    print(\"Clear Images Stack Dimension:\",clear_images_stack.shape)\n",
    "    print(\"Mean of the hazy images per channel:\",torch.mean(clear_images_stack,dim=(0,2,3)))\n",
    "    print(\"Standard Deviation of the hazy images per channel:\",torch.std(clear_images_stack,dim=(0,2,3)))\n",
    "    del clear_img_list,clear_images_stack\n",
    "    gc.collect()"
   ]
  },
  {
   "cell_type": "markdown",
   "id": "d1b736ec",
   "metadata": {},
   "source": [
    "## Creating the Pytorch Dataset"
   ]
  },
  {
   "cell_type": "code",
   "execution_count": 6,
   "id": "40f19731",
   "metadata": {
    "execution": {
     "iopub.execute_input": "2024-06-29T08:33:44.473856Z",
     "iopub.status.busy": "2024-06-29T08:33:44.473509Z",
     "iopub.status.idle": "2024-06-29T08:33:44.480228Z",
     "shell.execute_reply": "2024-06-29T08:33:44.479272Z"
    },
    "papermill": {
     "duration": 0.017142,
     "end_time": "2024-06-29T08:33:44.482494",
     "exception": false,
     "start_time": "2024-06-29T08:33:44.465352",
     "status": "completed"
    },
    "tags": []
   },
   "outputs": [],
   "source": [
    "input_transforms=tt.Compose([\n",
    "    tt.transforms.Resize(CFG.image_shape),\n",
    "    tt.ToTensor(),\n",
    "    tt.Normalize(mean=(0.6344,0.5955,0.5857),std=(0.1742,0.1798,0.1871))\n",
    "])\n",
    "output_transforms=tt.Compose([\n",
    "    tt.transforms.Resize(CFG.image_shape),\n",
    "    tt.ToTensor(),\n",
    "    tt.Normalize(mean=(0.4556,0.3837,0.3642),std=(0.2689,0.2691,0.2828))\n",
    "])"
   ]
  },
  {
   "cell_type": "code",
   "execution_count": 7,
   "id": "8cf4c1c1",
   "metadata": {
    "execution": {
     "iopub.execute_input": "2024-06-29T08:33:44.498590Z",
     "iopub.status.busy": "2024-06-29T08:33:44.497936Z",
     "iopub.status.idle": "2024-06-29T08:33:44.506516Z",
     "shell.execute_reply": "2024-06-29T08:33:44.505757Z"
    },
    "papermill": {
     "duration": 0.018518,
     "end_time": "2024-06-29T08:33:44.508487",
     "exception": false,
     "start_time": "2024-06-29T08:33:44.489969",
     "status": "completed"
    },
    "tags": []
   },
   "outputs": [],
   "source": [
    "class DehazingDataset(Dataset):\n",
    "    def __init__(self,dataset,in_transforms=None,out_transforms=None):\n",
    "        self.dataset=dataset\n",
    "        self.in_transforms=in_transforms\n",
    "        self.out_transforms=out_transforms\n",
    "    def __len__(self):\n",
    "        return len(self.dataset)\n",
    "    def __getitem__(self,idx):\n",
    "        hazy_img_path=self.dataset.iloc[idx,1]\n",
    "        clear_img_path=self.dataset.iloc[idx,0]\n",
    "        if self.in_transforms:\n",
    "            hazy_img=self.in_transforms(Image.open(str(hazy_img_path)))\n",
    "        if self.out_transforms:\n",
    "            clear_img=self.out_transforms(Image.open(str(clear_img_path)))\n",
    "        return {'hazy':hazy_img,\n",
    "               'gt':clear_img}\n",
    "\n",
    "        "
   ]
  },
  {
   "cell_type": "code",
   "execution_count": 8,
   "id": "809f307d",
   "metadata": {
    "execution": {
     "iopub.execute_input": "2024-06-29T08:33:44.524682Z",
     "iopub.status.busy": "2024-06-29T08:33:44.523715Z",
     "iopub.status.idle": "2024-06-29T08:33:44.530957Z",
     "shell.execute_reply": "2024-06-29T08:33:44.529890Z"
    },
    "papermill": {
     "duration": 0.018142,
     "end_time": "2024-06-29T08:33:44.533520",
     "exception": false,
     "start_time": "2024-06-29T08:33:44.515378",
     "status": "completed"
    },
    "tags": []
   },
   "outputs": [],
   "source": [
    "train_dataset=DehazingDataset(train_data,input_transforms,output_transforms)\n",
    "val_dataset=DehazingDataset(val_data,input_transforms,output_transforms)\n",
    "test_dataset=DehazingDataset(test_data,input_transforms,output_transforms)\n",
    "\n",
    "train_loader=DataLoader(train_dataset,batch_size=CFG.train_bs)\n",
    "val_loader=DataLoader(val_dataset,batch_size=CFG.val_bs)\n",
    "test_loader=DataLoader(test_dataset,batch_size=CFG.test_bs)"
   ]
  },
  {
   "cell_type": "markdown",
   "id": "e3d8c8e5",
   "metadata": {
    "papermill": {
     "duration": 0.006838,
     "end_time": "2024-06-29T08:33:44.548274",
     "exception": false,
     "start_time": "2024-06-29T08:33:44.541436",
     "status": "completed"
    },
    "tags": []
   },
   "source": [
    "## Model Architecture"
   ]
  },
  {
   "cell_type": "code",
   "execution_count": 9,
   "id": "ade3fb84",
   "metadata": {
    "execution": {
     "iopub.execute_input": "2024-06-29T08:33:44.563842Z",
     "iopub.status.busy": "2024-06-29T08:33:44.563481Z",
     "iopub.status.idle": "2024-06-29T08:33:44.586513Z",
     "shell.execute_reply": "2024-06-29T08:33:44.585479Z"
    },
    "papermill": {
     "duration": 0.033586,
     "end_time": "2024-06-29T08:33:44.588621",
     "exception": false,
     "start_time": "2024-06-29T08:33:44.555035",
     "status": "completed"
    },
    "tags": []
   },
   "outputs": [],
   "source": [
    "class PixelAttention(nn.Module):\n",
    "    def __init__(self,channel,reduct_ratio=8):\n",
    "        super(PixelAttention,self).__init__()\n",
    "        reduced_channel=max(1,channel//reduct_ratio)\n",
    "        self.pixel_attention=nn.Sequential(\n",
    "            nn.Conv2d(channel,channel//reduced_channel,kernel_size=1,padding=0,bias=True),\n",
    "            nn.ReLU(inplace=True),\n",
    "            nn.Conv2d(channel//reduced_channel,1,kernel_size=1,padding=0,bias=True),\n",
    "            nn.Sigmoid()\n",
    "        )\n",
    "    def forward(self,feature):\n",
    "        x=self.pixel_attention(feature)\n",
    "        return x*feature\n",
    "\n",
    "class ChannelAttention(nn.Module):\n",
    "    def __init__(self,input_channels,reduct_ratio=8):\n",
    "        super(ChannelAttention,self).__init__()\n",
    "        reduced_channel=max(1,input_channels//reduct_ratio)\n",
    "        self.avg_pooler=nn.AdaptiveAvgPool2d(1)\n",
    "        self.fcn=nn.Sequential(\n",
    "            nn.Linear(input_channels,reduced_channel),\n",
    "            nn.ReLU(inplace=True),\n",
    "            nn.Linear(reduced_channel,input_channels)\n",
    "        )\n",
    "\n",
    "    def forward(self,input_feature):\n",
    "        n,c,_,_=input_feature.size()\n",
    "        x=self.avg_pooler(input_feature).view(n,c)\n",
    "        x=F.sigmoid(self.fcn(x).view(n,c,1,1))\n",
    "        return input_feature*x\n",
    "\n",
    "class AttentionBlock(nn.Module):\n",
    "    def __init__(self,dims,kernel_size=1):\n",
    "        super(AttentionBlock,self).__init__()\n",
    "        self.conv1=nn.Conv2d(dims,dims,kernel_size,padding=(kernel_size//2),bias=True)\n",
    "        self.conv2=nn.Conv2d(dims,dims,kernel_size,padding=(kernel_size//2),bias=True)\n",
    "        self.ca=ChannelAttention(dims)\n",
    "        self.pa=PixelAttention(dims)\n",
    "    def forward(self,img):\n",
    "        feat=F.relu(self.conv1(img),inplace=True)\n",
    "        feat=feat+img\n",
    "        feat=F.relu(self.conv1(feat),inplace=True)\n",
    "        feat=self.ca(feat)\n",
    "        feat=self.pa(feat)\n",
    "        feat+=img\n",
    "        return feat\n",
    "class DehazingNet(nn.Module):\n",
    "    def __init__(self):\n",
    "        super(DehazingNet,self).__init__()\n",
    "        self.conv1=nn.Conv2d(in_channels=3,out_channels=3,kernel_size=1,stride=1,padding=0)\n",
    "        self.conv2=nn.Conv2d(in_channels=3,out_channels=3,kernel_size=3,stride=1,padding=1)\n",
    "        self.attn1=AttentionBlock(3)\n",
    "        self.conv3=nn.Conv2d(in_channels=6,out_channels=3,kernel_size=5,stride=1,padding=2)\n",
    "        self.conv4=nn.Conv2d(in_channels=6,out_channels=3,kernel_size=7,stride=1,padding=3)\n",
    "        self.attn2=AttentionBlock(3)\n",
    "        self.conv5=nn.Conv2d(in_channels=12,out_channels=3,kernel_size=3,stride=1,padding=1)\n",
    "        self.conv_dwt=nn.Conv2d(in_channels=6,out_channels=3,kernel_size=3,stride=1,padding=1)\n",
    "        self.b=1\n",
    "\n",
    "    def forward(self,x):\n",
    "        x1=F.relu(self.conv1(x))\n",
    "        x2=F.relu(self.conv2(x1))\n",
    "        x2=self.attn1(x2)\n",
    "        cat1=torch.cat((x1,x2),1)\n",
    "        x3=F.relu(self.conv3(cat1))\n",
    "        cat2=torch.cat((x2,x3),1)\n",
    "        x4=F.relu(self.conv4(cat2))\n",
    "        x4=self.attn2(x4)\n",
    "        cat3=torch.cat((x1,x2,x3,x4),1)\n",
    "        k=F.relu(self.conv5(cat3))\n",
    "        output=k*x-k+self.b\n",
    "        return F.relu(output)\n",
    "\n"
   ]
  },
  {
   "cell_type": "markdown",
   "id": "938fd99b",
   "metadata": {
    "papermill": {
     "duration": 0.006828,
     "end_time": "2024-06-29T08:33:44.602706",
     "exception": false,
     "start_time": "2024-06-29T08:33:44.595878",
     "status": "completed"
    },
    "tags": []
   },
   "source": [
    "## Loss Definition\n",
    "\n",
    "The loss functions required to train or observe have been defined here."
   ]
  },
  {
   "cell_type": "code",
   "execution_count": 10,
   "id": "9a243755",
   "metadata": {
    "execution": {
     "iopub.execute_input": "2024-06-29T08:33:44.617880Z",
     "iopub.status.busy": "2024-06-29T08:33:44.617537Z",
     "iopub.status.idle": "2024-06-29T08:33:50.532615Z",
     "shell.execute_reply": "2024-06-29T08:33:50.531734Z"
    },
    "papermill": {
     "duration": 5.925416,
     "end_time": "2024-06-29T08:33:50.535017",
     "exception": false,
     "start_time": "2024-06-29T08:33:44.609601",
     "status": "completed"
    },
    "tags": []
   },
   "outputs": [
    {
     "name": "stdout",
     "output_type": "stream",
     "text": [
      "Setting up [LPIPS] perceptual loss: trunk [vgg], v[0.1], spatial [off]\n"
     ]
    },
    {
     "name": "stderr",
     "output_type": "stream",
     "text": [
      "Downloading: \"https://download.pytorch.org/models/vgg16-397923af.pth\" to /root/.cache/torch/hub/checkpoints/vgg16-397923af.pth\n",
      "100%|██████████| 528M/528M [00:03<00:00, 152MB/s]\n"
     ]
    },
    {
     "name": "stdout",
     "output_type": "stream",
     "text": [
      "Loading model from: /opt/conda/lib/python3.10/site-packages/lpips/weights/v0.1/vgg.pth\n"
     ]
    }
   ],
   "source": [
    "class TotalVariationLoss(nn.Module):\n",
    "    def __init__(self,wt=1):\n",
    "        super(TotalVariationLoss,self).__init__()\n",
    "        self.wt=wt\n",
    "    def forward(self,x):\n",
    "        wid_var=torch.sum(torch.pow(x[:,:,:,:-1]-x[:,:,:,1:],2))\n",
    "        ht_var=torch.sum(torch.pow(x[:,:,:-1,:]-x[:,:,1:,:],2))\n",
    "        return self.wt*(ht_var+wid_var)\n",
    "class FFTLoss(nn.Module):\n",
    "    def __init__(self):\n",
    "        super(FFTLoss,self).__init__()\n",
    "        self.l1_loss=nn.L1Loss()\n",
    "    def forward(self,out,gt):\n",
    "        fft_out=torch.fft.fftn(out,dim=(-2,-1))\n",
    "        fft_gt=torch.fft.fftn(gt,dim=(-2,-1))\n",
    "        amp_out=torch.abs(fft_out)\n",
    "        ph_out=torch.angle(fft_out)\n",
    "        amp_gt=torch.abs(fft_gt)\n",
    "        ph_gt=torch.angle(fft_gt)\n",
    "        amp_loss=self.l1_loss(amp_out,amp_gt)\n",
    "        ph_loss=self.l1_loss(ph_out,ph_gt)\n",
    "        return amp_loss+ph_loss\n",
    "    \n",
    "perceptual_loss=lpips.LPIPS(net='vgg').to(CFG.device)\n",
    "tv_loss=TotalVariationLoss().to(CFG.device)\n",
    "mse_loss=nn.MSELoss().to(CFG.device)\n",
    "fft_loss=FFTLoss().to(CFG.device)\n",
    "\n"
   ]
  },
  {
   "cell_type": "markdown",
   "id": "ecb5eaf0",
   "metadata": {
    "papermill": {
     "duration": 0.010584,
     "end_time": "2024-06-29T08:33:50.557674",
     "exception": false,
     "start_time": "2024-06-29T08:33:50.547090",
     "status": "completed"
    },
    "tags": []
   },
   "source": [
    "# Training the Model\n",
    "Here the model is being trained on the image pairs and as an intial step Xavier weight initialisation is being used. The model is being parallelised using the DataParallel function as 2 NVidia T4 GPUs have been used on Kaggle to train."
   ]
  },
  {
   "cell_type": "code",
   "execution_count": 11,
   "id": "58f04321",
   "metadata": {
    "execution": {
     "iopub.execute_input": "2024-06-29T08:33:50.581285Z",
     "iopub.status.busy": "2024-06-29T08:33:50.580403Z",
     "iopub.status.idle": "2024-06-29T08:33:50.604487Z",
     "shell.execute_reply": "2024-06-29T08:33:50.603443Z"
    },
    "papermill": {
     "duration": 0.038101,
     "end_time": "2024-06-29T08:33:50.606620",
     "exception": false,
     "start_time": "2024-06-29T08:33:50.568519",
     "status": "completed"
    },
    "tags": []
   },
   "outputs": [
    {
     "name": "stdout",
     "output_type": "stream",
     "text": [
      "Model Loaded to GPU..\n"
     ]
    }
   ],
   "source": [
    "def weight_init(m):\n",
    "    if isinstance(m,torch.nn.Conv2d):\n",
    "        torch.nn.init.xavier_uniform_(m.weight)\n",
    "        if m.bias is not None:\n",
    "            torch.nn.init.constant_(m.bias,0)\n",
    "dehaze_model=DehazingNet()\n",
    "dehaze_model.apply(weight_init)\n",
    "dehaze_model=nn.DataParallel(dehaze_model)\n",
    "dehaze_model=dehaze_model.to(CFG.device)\n",
    "print(\"Model Loaded to GPU..\")\n",
    "optimizer=optim.Adam(dehaze_model.parameters(),lr=CFG.lr,weight_decay=1e-4)\n",
    "scheduler=optim.lr_scheduler.ReduceLROnPlateau(optimizer,mode='min',factor=0.1,patience=3,verbose=True)\n"
   ]
  },
  {
   "cell_type": "markdown",
   "id": "8eff78f6",
   "metadata": {
    "papermill": {
     "duration": 0.011489,
     "end_time": "2024-06-29T08:33:50.651402",
     "exception": false,
     "start_time": "2024-06-29T08:33:50.639913",
     "status": "completed"
    },
    "tags": []
   },
   "source": [
    "### Training Loop\n",
    "The training loop iteratively loops through the training data and trains the model based on the loss functions used. To efficiently optimise the memory usage. Garbage Collection and cache clearence is done in a periodic basis."
   ]
  },
  {
   "cell_type": "code",
   "execution_count": 12,
   "id": "5e2cab94",
   "metadata": {
    "execution": {
     "iopub.execute_input": "2024-06-29T08:33:50.676626Z",
     "iopub.status.busy": "2024-06-29T08:33:50.675780Z",
     "iopub.status.idle": "2024-06-29T12:24:28.872044Z",
     "shell.execute_reply": "2024-06-29T12:24:28.870987Z"
    },
    "papermill": {
     "duration": 13838.222437,
     "end_time": "2024-06-29T12:24:28.885207",
     "exception": false,
     "start_time": "2024-06-29T08:33:50.662770",
     "status": "completed"
    },
    "tags": []
   },
   "outputs": [
    {
     "name": "stderr",
     "output_type": "stream",
     "text": [
      "  0%|          | 0/15 [00:00<?, ?it/s]"
     ]
    },
    {
     "name": "stdout",
     "output_type": "stream",
     "text": [
      "Saving Model..\n"
     ]
    },
    {
     "name": "stderr",
     "output_type": "stream",
     "text": [
      "  7%|▋         | 1/15 [17:56<4:11:13, 1076.67s/it]"
     ]
    },
    {
     "name": "stdout",
     "output_type": "stream",
     "text": [
      "Saving Model..\n"
     ]
    },
    {
     "name": "stderr",
     "output_type": "stream",
     "text": [
      " 13%|█▎        | 2/15 [33:05<3:31:54, 978.03s/it] "
     ]
    },
    {
     "name": "stdout",
     "output_type": "stream",
     "text": [
      "Saving Model..\n"
     ]
    },
    {
     "name": "stderr",
     "output_type": "stream",
     "text": [
      " 20%|██        | 3/15 [48:11<3:09:00, 945.02s/it]"
     ]
    },
    {
     "name": "stdout",
     "output_type": "stream",
     "text": [
      "Saving Model..\n"
     ]
    },
    {
     "name": "stderr",
     "output_type": "stream",
     "text": [
      " 27%|██▋       | 4/15 [1:03:16<2:50:20, 929.12s/it]"
     ]
    },
    {
     "name": "stdout",
     "output_type": "stream",
     "text": [
      "Saving Model..\n"
     ]
    },
    {
     "name": "stderr",
     "output_type": "stream",
     "text": [
      " 33%|███▎      | 5/15 [1:18:22<2:33:27, 920.79s/it]"
     ]
    },
    {
     "name": "stdout",
     "output_type": "stream",
     "text": [
      "Saving Model..\n"
     ]
    },
    {
     "name": "stderr",
     "output_type": "stream",
     "text": [
      " 40%|████      | 6/15 [1:33:32<2:17:34, 917.22s/it]"
     ]
    },
    {
     "name": "stdout",
     "output_type": "stream",
     "text": [
      "Saving Model..\n"
     ]
    },
    {
     "name": "stderr",
     "output_type": "stream",
     "text": [
      " 47%|████▋     | 7/15 [1:48:38<2:01:48, 913.61s/it]"
     ]
    },
    {
     "name": "stdout",
     "output_type": "stream",
     "text": [
      "Saving Model..\n"
     ]
    },
    {
     "name": "stderr",
     "output_type": "stream",
     "text": [
      " 53%|█████▎    | 8/15 [2:03:57<1:46:46, 915.17s/it]"
     ]
    },
    {
     "name": "stdout",
     "output_type": "stream",
     "text": [
      "Saving Model..\n"
     ]
    },
    {
     "name": "stderr",
     "output_type": "stream",
     "text": [
      " 60%|██████    | 9/15 [2:19:18<1:31:42, 917.03s/it]"
     ]
    },
    {
     "name": "stdout",
     "output_type": "stream",
     "text": [
      "Saving Model..\n"
     ]
    },
    {
     "name": "stderr",
     "output_type": "stream",
     "text": [
      " 73%|███████▎  | 11/15 [2:49:54<1:01:10, 917.68s/it]"
     ]
    },
    {
     "name": "stdout",
     "output_type": "stream",
     "text": [
      "Patience decreased to 4..\n"
     ]
    },
    {
     "name": "stderr",
     "output_type": "stream",
     "text": [
      " 80%|████████  | 12/15 [3:05:06<45:47, 915.81s/it]  "
     ]
    },
    {
     "name": "stdout",
     "output_type": "stream",
     "text": [
      "Patience decreased to 3..\n",
      "Saving Model..\n"
     ]
    },
    {
     "name": "stderr",
     "output_type": "stream",
     "text": [
      " 87%|████████▋ | 13/15 [3:20:16<30:28, 914.13s/it]"
     ]
    },
    {
     "name": "stdout",
     "output_type": "stream",
     "text": [
      "Saving Model..\n"
     ]
    },
    {
     "name": "stderr",
     "output_type": "stream",
     "text": [
      " 93%|█████████▎| 14/15 [3:35:33<15:15, 915.02s/it]"
     ]
    },
    {
     "name": "stdout",
     "output_type": "stream",
     "text": [
      "Saving Model..\n"
     ]
    },
    {
     "name": "stderr",
     "output_type": "stream",
     "text": [
      "100%|██████████| 15/15 [3:50:37<00:00, 922.53s/it]\n"
     ]
    }
   ],
   "source": [
    "if CFG.train:\n",
    "    best_val_loss=float('inf')\n",
    "    gc.collect()\n",
    "    torch.cuda.empty_cache()\n",
    "    dehaze_model.train()\n",
    "    patience=CFG.es_patience\n",
    "    for epoch in tqdm(range(CFG.epochs)):\n",
    "        total_train_loss=0\n",
    "        total_val_loss=0\n",
    "        for pair in train_loader:\n",
    "            hazy,clear=pair['hazy'].to(CFG.device),pair['gt'].to(CFG.device)\n",
    "            model_out=dehaze_model(hazy)\n",
    "            loss_tv=tv_loss(model_out)\n",
    "            loss_mse=mse_loss(model_out,clear)\n",
    "            loss_perceptual=perceptual_loss(model_out,clear).mean()\n",
    "            loss_fft=fft_loss(model_out,clear)\n",
    "            train_loss=(0.5)*(loss_mse+loss_perceptual)\n",
    "            total_train_loss+=train_loss.item()\n",
    "            optimizer.zero_grad()\n",
    "            train_loss.backward()\n",
    "            torch.nn.utils.clip_grad_norm_(dehaze_model.parameters(),1e-2)\n",
    "            optimizer.step()\n",
    "            wandb.log({\"Training FFT Loss\":loss_fft,\"Training TV Loss\":loss_tv,\"Training MSE Loss\":loss_mse,\"Training Perceptual Loss\":loss_perceptual})\n",
    "            del hazy,clear,model_out,loss_tv,loss_mse,loss_fft\n",
    "            torch.cuda.empty_cache()\n",
    "        training_loss=total_train_loss/len(train_loader.dataset)\n",
    "        wandb.log({\"Average Training Loss\":training_loss,\"Epoch\": epoch+1})\n",
    "\n",
    "        dehaze_model.eval()\n",
    "        for val_pair in val_loader:\n",
    "            val_hazy,val_clear=val_pair['hazy'].to(CFG.device),val_pair['gt'].to(CFG.device)\n",
    "            val_output=dehaze_model(val_hazy)\n",
    "            val_loss_mse=mse_loss(val_output,val_clear)\n",
    "            val_loss_tv=tv_loss(val_output)\n",
    "            val_loss_perceptual=perceptual_loss(val_output,val_clear).mean()\n",
    "            val_loss_fft=fft_loss(val_output,val_clear)\n",
    "            val_loss=(0.5)*(val_loss_mse+val_loss_perceptual)\n",
    "            total_val_loss+=val_loss.item()\n",
    "            wandb.log({\"Validation FFT Loss\":val_loss_fft,\"Validation TV Loss\":val_loss_tv,\"Validation MSE Loss\":val_loss_mse,\"Validation Perceptual Loss\":val_loss_perceptual})\n",
    "            del val_hazy,val_clear,val_output,val_loss_mse,val_loss_tv,val_loss_fft,val_loss\n",
    "        validation_loss=total_val_loss/len(val_loader.dataset)\n",
    "        wandb.log({\"Average Validation Loss\":validation_loss})\n",
    "        if (best_val_loss-validation_loss)>1e-4:\n",
    "            best_val_loss=validation_loss\n",
    "            print('Saving Model..')\n",
    "            torch.save(dehaze_model.state_dict(),'dehazer-model-trained-best.pth')    \n",
    "            patience=CFG.es_patience\n",
    "        else:\n",
    "            patience-=1\n",
    "            print(f'Patience decreased to {patience}..')\n",
    "            if patience == 0:\n",
    "                print('Early stopping triggered...')\n",
    "                break\n",
    "        \n",
    "        scheduler.step(validation_loss)\n",
    "        gc.collect()\n",
    "        torch.cuda.empty_cache()\n",
    "    torch.save(dehaze_model.state_dict(),'dehazer-model-trained.pth')\n",
    "  \n",
    "\n",
    "            "
   ]
  }
 ],
 "metadata": {
  "kaggle": {
   "accelerator": "nvidiaTeslaT4",
   "dataSources": [
    {
     "datasetId": 5101434,
     "sourceId": 8656429,
     "sourceType": "datasetVersion"
    },
    {
     "modelInstanceId": 54085,
     "sourceId": 64839,
     "sourceType": "modelInstanceVersion"
    }
   ],
   "dockerImageVersionId": 30699,
   "isGpuEnabled": true,
   "isInternetEnabled": true,
   "language": "python",
   "sourceType": "notebook"
  },
  "kernelspec": {
   "display_name": "Python 3",
   "language": "python",
   "name": "python3"
  },
  "language_info": {
   "codemirror_mode": {
    "name": "ipython",
    "version": 3
   },
   "file_extension": ".py",
   "mimetype": "text/x-python",
   "name": "python",
   "nbconvert_exporter": "python",
   "pygments_lexer": "ipython3",
   "version": "3.10.13"
  },
  "papermill": {
   "default_parameters": {},
   "duration": 13898.917376,
   "end_time": "2024-06-29T12:24:31.748287",
   "environment_variables": {},
   "exception": null,
   "input_path": "__notebook__.ipynb",
   "output_path": "__notebook__.ipynb",
   "parameters": {},
   "start_time": "2024-06-29T08:32:52.830911",
   "version": "2.5.0"
  }
 },
 "nbformat": 4,
 "nbformat_minor": 5
}
